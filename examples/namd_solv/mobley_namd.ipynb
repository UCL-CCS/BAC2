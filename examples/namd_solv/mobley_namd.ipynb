{
 "cells": [
  {
   "cell_type": "code",
   "execution_count": 1,
   "metadata": {
    "collapsed": true
   },
   "outputs": [],
   "source": [
    "from bac.simulate.namd import (Simulation, NonBondedController, PME, BondConstraint, AtomConstraint, \n",
    "                               HarmonicConstraint, non_bonded_controller, VelocityRescaling, VelocityReassignment,\n",
    "                               LangevinDynamics, BerendsenPressureCoupling, FreeEnergyController)\n",
    "from pathlib import Path"
   ]
  },
  {
   "cell_type": "markdown",
   "metadata": {},
   "source": [
    "## Step 1: Minimize"
   ]
  },
  {
   "cell_type": "code",
   "execution_count": 2,
   "metadata": {
    "collapsed": true
   },
   "outputs": [],
   "source": [
    "minimize = Simulation(minimization=True)\n",
    "minimize.timestep = 2\n",
    "minimize.number_of_steps = 2500\n",
    "\n",
    "minimize.temperature = 298.15\n",
    "minimize.output_energies = 100\n",
    "minimize.output_pressure = 100\n",
    "minimize.name = 'min'\n",
    "minimize.output_name = 'min'\n",
    "minimize.binary_output = False\n",
    "\n",
    "minimize.amber = True\n",
    "minimize.coordinates = 'mobley_9055303.pdb'\n",
    "minimize.parameters = 'mobley_9055303.prmtop'\n",
    "minimize.read_exclusions = False"
   ]
  },
  {
   "cell_type": "code",
   "execution_count": 3,
   "metadata": {
    "collapsed": true
   },
   "outputs": [],
   "source": [
    "nbc = NonBondedController()\n",
    "\n",
    "nbc.excluded_interactions = non_bonded_controller.Interaction.scaled_one_four\n",
    "nbc.one_four_scaling = 0.833333\n",
    "\n",
    "nbc.cutoff = 12\n",
    "nbc.switching = True\n",
    "nbc.switching_distance = 9\n",
    "nbc.pairlist_distance = 12\n",
    "\n",
    "nbc.pme = PME(grid_spacing=1.2)\n",
    "nbc.pme.interpolation_order = 6\n",
    "\n",
    "nbc.wrap_water, nbc.wrap_all = True, True\n",
    "nbc.cell_basis_vector_1 = 31.7894, 0.0, 0.0\n",
    "nbc.cell_basis_vector_2 = 0.0, 31.7894, 0.0\n",
    "nbc.cell_basis_vector_3 = 0.0, 0.0, 31.7894\n",
    "\n",
    "minimize.non_bonded_controller = nbc"
   ]
  },
  {
   "cell_type": "code",
   "execution_count": 4,
   "metadata": {
    "collapsed": true
   },
   "outputs": [],
   "source": [
    "minimize.temperature_controller = LangevinDynamics(temperature=298.15, damping=5, applies_to_hydrogen=False)"
   ]
  },
  {
   "cell_type": "code",
   "execution_count": 5,
   "metadata": {
    "collapsed": true
   },
   "outputs": [],
   "source": [
    "minimize.constraints.bond_constraint = BondConstraint(bonds='all', tolerance=0.00001, iterations=100)"
   ]
  },
  {
   "cell_type": "code",
   "execution_count": 6,
   "metadata": {
    "collapsed": true
   },
   "outputs": [],
   "source": [
    "fe = FreeEnergyController()\n",
    "fe.type = 'ti'\n",
    "fe.file = 'mobley_9055303.pdb'\n",
    "fe.output_frequency = 100\n",
    "\n",
    "fe.van_der_waals_shift_coefficient = 5\n",
    "fe.electronic_interaction_start_lambda = 0.45\n",
    "fe.van_der_waals_end_lambda = 1.0\n",
    "fe.decouple = True\n",
    "\n",
    "fe.start_lambda = 0.0\n",
    "fe.end_lambda = 0.0\n",
    "\n",
    "minimize.free_energy_controller = fe\n"
   ]
  },
  {
   "cell_type": "markdown",
   "metadata": {},
   "source": [
    "## NVT equilibration"
   ]
  },
  {
   "cell_type": "code",
   "execution_count": 7,
   "metadata": {
    "collapsed": true
   },
   "outputs": [],
   "source": [
    "eq1 = next(minimize)"
   ]
  },
  {
   "cell_type": "code",
   "execution_count": 8,
   "metadata": {
    "collapsed": true
   },
   "outputs": [],
   "source": [
    "eq1.number_of_steps = 25000\n",
    "eq1.minimization = False\n",
    "eq1.name = 'eq1'\n",
    "eq1.output_name = 'eq1'\n",
    "\n",
    "\n",
    "eq1.restart_frequency = 12500\n",
    "eq1.non_bonded_controller.xst_frequency = 2500\n",
    "eq1.dcd_frequency = 5000"
   ]
  },
  {
   "cell_type": "markdown",
   "metadata": {},
   "source": [
    "# NPT equilibration"
   ]
  },
  {
   "cell_type": "code",
   "execution_count": 9,
   "metadata": {
    "collapsed": true
   },
   "outputs": [],
   "source": [
    "eq2 = next(eq1)\n",
    "eq2.name = 'eq2'\n",
    "eq2.output_name = 'eq2'"
   ]
  },
  {
   "cell_type": "code",
   "execution_count": 10,
   "metadata": {},
   "outputs": [
    {
     "name": "stderr",
     "output_type": "stream",
     "text": [
      "/Users/kristofarkas/Developer/BAC2/bac/utils/decorators.py:99: UserWarning: 'BerendsenPressureCoupling' object has no attribute 'simulation'\n",
      "  warnings.warn(f'{e}')\n"
     ]
    }
   ],
   "source": [
    "eq2.pressure_controller = BerendsenPressureCoupling(target=1, compressibility=4.57e-5, relaxation_time=100, \n",
    "                                                              frequency=2, use_group_pressure=True)\n",
    "eq2.restart_frequency = 5000"
   ]
  },
  {
   "cell_type": "markdown",
   "metadata": {},
   "source": [
    "# Production"
   ]
  },
  {
   "cell_type": "code",
   "execution_count": 11,
   "metadata": {},
   "outputs": [],
   "source": [
    "prod = next(eq2)\n",
    "\n",
    "prod.name = 'prod'\n",
    "prod.output_name = 'prod'\n",
    "prod.number_of_steps = 250_000\n",
    "prod.restart_frequency = 25000"
   ]
  },
  {
   "cell_type": "markdown",
   "metadata": {},
   "source": [
    "# Workflow"
   ]
  },
  {
   "cell_type": "code",
   "execution_count": 12,
   "metadata": {
    "collapsed": true
   },
   "outputs": [],
   "source": [
    "from bac.simulate import Workflow, Replica, LambdaWindow"
   ]
  },
  {
   "cell_type": "code",
   "execution_count": 13,
   "metadata": {
    "collapsed": true
   },
   "outputs": [],
   "source": [
    "wf = Workflow(resource='bw', r_dir='mobley_9055303')"
   ]
  },
  {
   "cell_type": "code",
   "execution_count": 14,
   "metadata": {
    "collapsed": true
   },
   "outputs": [],
   "source": [
    "wf.simulations = [minimize, eq1, eq2, prod]"
   ]
  },
  {
   "cell_type": "code",
   "execution_count": 15,
   "metadata": {},
   "outputs": [],
   "source": [
    "wf.ensembles = [Replica(number_of=5), LambdaWindow(number_of_windows=11)]"
   ]
  },
  {
   "cell_type": "code",
   "execution_count": 16,
   "metadata": {},
   "outputs": [],
   "source": [
    "wf.preprocess_simulations()"
   ]
  },
  {
   "cell_type": "code",
   "execution_count": null,
   "metadata": {
    "collapsed": true
   },
   "outputs": [],
   "source": []
  },
  {
   "cell_type": "code",
   "execution_count": null,
   "metadata": {},
   "outputs": [],
   "source": []
  },
  {
   "cell_type": "code",
   "execution_count": 21,
   "metadata": {},
   "outputs": [
    {
     "name": "stdout",
     "output_type": "stream",
     "text": [
      "module load rca\n",
      "module load craype-hugepages8M\n",
      "module list\n",
      "export HUGETLB_DEFAULT_PAGE_SIZE=8M\n",
      "export HUGETLB_MORECORE=no\n",
      "export ATP_ENABLED=1\n",
      "ulimit -c unlimited\n",
      "\n"
     ]
    }
   ],
   "source": [
    "print(\"module load rca\\n\" \\\n",
    "                    \"module load craype-hugepages8M\\n\" \\\n",
    "                    \"module list\\n\" \\\n",
    "                    \"export HUGETLB_DEFAULT_PAGE_SIZE=8M\\n\" \\\n",
    "                    \"export HUGETLB_MORECORE=no\\n\" \\\n",
    "                    \"export ATP_ENABLED=1\\n\" \\\n",
    "                    \"ulimit -c unlimited\\n\")"
   ]
  },
  {
   "cell_type": "code",
   "execution_count": null,
   "metadata": {
    "collapsed": true
   },
   "outputs": [],
   "source": []
  }
 ],
 "metadata": {
  "kernelspec": {
   "display_name": "Python 3",
   "language": "python",
   "name": "python3"
  },
  "language_info": {
   "codemirror_mode": {
    "name": "ipython",
    "version": 3
   },
   "file_extension": ".py",
   "mimetype": "text/x-python",
   "name": "python",
   "nbconvert_exporter": "python",
   "pygments_lexer": "ipython3",
   "version": "3.6.2"
  }
 },
 "nbformat": 4,
 "nbformat_minor": 2
}
