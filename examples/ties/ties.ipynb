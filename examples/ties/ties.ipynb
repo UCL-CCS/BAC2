{
 "cells": [
  {
   "cell_type": "markdown",
   "metadata": {
    "collapsed": true
   },
   "source": [
    "# Setting up the TIES protocol with BAC2.0"
   ]
  },
  {
   "cell_type": "markdown",
   "metadata": {},
   "source": [
    "In this tutorial we will implement the NAMD version of the TIES protocol. We will start with the equilibration steps."
   ]
  },
  {
   "cell_type": "code",
   "execution_count": 1,
   "metadata": {
    "collapsed": true
   },
   "outputs": [],
   "source": [
    "import bac.simulate.namd as nd"
   ]
  },
  {
   "cell_type": "code",
   "execution_count": 2,
   "metadata": {
    "collapsed": true
   },
   "outputs": [],
   "source": [
    "md = nd.Run()"
   ]
  },
  {
   "cell_type": "markdown",
   "metadata": {},
   "source": [
    "We will use the **amber** forcefield, so we need to tell this to the object."
   ]
  },
  {
   "cell_type": "code",
   "execution_count": 3,
   "metadata": {
    "collapsed": true
   },
   "outputs": [],
   "source": [
    "md.amber = True\n",
    "md.read_exclusions = False\n",
    "md.parameter_type_CHARMM = False"
   ]
  },
  {
   "cell_type": "markdown",
   "metadata": {},
   "source": [
    "Now, we set the most important parameters like the timestep and the input files."
   ]
  },
  {
   "cell_type": "code",
   "execution_count": 4,
   "metadata": {
    "collapsed": true
   },
   "outputs": [],
   "source": [
    "md.timestep = 2.0\n",
    "md.temperature = 300\n",
    "md.coordinates = '../build/complex.pdb'\n",
    "md.parameters = '../build/complex.top'\n",
    "md.binary_output = False\n",
    "md.output_name = '../equilibration/eq0'"
   ]
  },
  {
   "cell_type": "markdown",
   "metadata": {},
   "source": [
    "Next, the non bonded interaction setting."
   ]
  },
  {
   "cell_type": "code",
   "execution_count": 5,
   "metadata": {
    "collapsed": true
   },
   "outputs": [],
   "source": [
    "nbc = md.non_bonded_controller\n",
    "nbc.excluded_interactions = 'scaled1-4'\n",
    "nbc.one_four_scaling = 0.833333\n",
    "nbc.cutoff = 12\n",
    "nbc.switching = True\n",
    "nbc.switching_distance = 10\n",
    "nbc.pairlist_distance = 13.5\n",
    "nbc.non_bonded_frequency = 1\n",
    "nbc.full_elect_frequency = 2\n",
    "nbc.steps_per_cycle = 10\n",
    "nbc.pme = nd.PME(grid_spacing=1.0)"
   ]
  },
  {
   "cell_type": "markdown",
   "metadata": {},
   "source": [
    "Boundary conditions and constraints:"
   ]
  },
  {
   "cell_type": "code",
   "execution_count": 6,
   "metadata": {
    "collapsed": true
   },
   "outputs": [],
   "source": [
    "bc = md.boundary_condition\n",
    "bc.cell_basis_vector_1 = (87.425, 0.000, 0.000)\n",
    "bc.cell_basis_vector_2 = (0.000, 97.862, 0.000)\n",
    "bc.cell_basis_vector_3 = (0.000, 0.000, 76.087)\n",
    "bc.cell_origin = (-0.071, -0.225, -0.355)\n",
    "bc.wrap_water = True\n",
    "bc.wrap_all = True"
   ]
  },
  {
   "cell_type": "code",
   "execution_count": 7,
   "metadata": {
    "collapsed": true
   },
   "outputs": [],
   "source": [
    "cc = md.constraints\n",
    "cc.bond_constraint = nd.BondConstraint(bonds='all', tolerance=0.00001, iterations=100)\n",
    "cc.harmonic_constraint = nd.HarmonicConstraint(exponent=2, reference_position_file='../build/complex.pdb',\n",
    "                                               force_constant_file='../constraint/f4.pdb', force_constant_column='B')"
   ]
  },
  {
   "cell_type": "code",
   "execution_count": 8,
   "metadata": {
    "collapsed": true
   },
   "outputs": [],
   "source": [
    "md.temperature_controller.langevin = nd.LangevinDynamics(damping=5, temperature=300, hydrogen=False)"
   ]
  },
  {
   "cell_type": "markdown",
   "metadata": {},
   "source": [
    "Most importantly the free energy calculation parameters:"
   ]
  },
  {
   "cell_type": "code",
   "execution_count": 9,
   "metadata": {
    "collapsed": true
   },
   "outputs": [],
   "source": [
    "fe = nd.FreeEnergyController(type='ti', file='../build/tags.pdb', column='B', decouple=True)\n",
    "\n",
    "fe.output_name = '../equilibration/eq0.alch'\n",
    "fe.output_frequency = 1000\n",
    "fe.van_der_waals_shift_coefficient = 5\n",
    "fe.electronic_interaction_start_lambda = 0.45\n",
    "fe.van_der_waals_end_lambda = 1.0\n",
    "\n",
    "md.free_energy_controller = fe"
   ]
  },
  {
   "cell_type": "markdown",
   "metadata": {},
   "source": [
    "Now the `md` object is ready to run. We need to add it onto an operation queue to actually run in on a supercomputer."
   ]
  },
  {
   "cell_type": "markdown",
   "metadata": {},
   "source": [
    "Under the hood, BAC creates an `.conf` file that the NAMD binary knows how to run. You can also have a look at this file by simply encoding the `Run` object. This is how it's done:"
   ]
  },
  {
   "cell_type": "code",
   "execution_count": 10,
   "metadata": {
    "collapsed": true
   },
   "outputs": [],
   "source": [
    "from bac.simulate.coding import Encoder, Engine"
   ]
  },
  {
   "cell_type": "code",
   "execution_count": 12,
   "metadata": {},
   "outputs": [
    {
     "name": "stdout",
     "output_type": "stream",
     "text": [
      "timestep                 2.0\n",
      "firsttimestep            0\n",
      "temperature              300.0\n",
      "coordinates              ../build/complex.pdb\n",
      "parameters               ../build/complex.top\n",
      "outputname               ../equilibration/eq0\n",
      "binaryoutput             no\n",
      "dcdunitcell              no\n",
      "amber                    yes\n",
      "readexclusions           no\n",
      "scnb                     2\n",
      "paraTypeXplor            on\n",
      "paraTypeCharmm           off\n",
      "gromacs                  False\n",
      "cutoff                   12.0\n",
      "switching                on\n",
      "switchdist               10.0\n",
      "vdwForceSwitching        off\n",
      "exclude                  scaled1-4\n",
      "1-4scaling               0.833333\n",
      "dielectric               1.0\n",
      "nonbondedScaling         1.0\n",
      "vdwGeometricSigma        False\n",
      "limitdist                0.0\n",
      "LJcorrection             False\n",
      "nonbondedFreq            1\n",
      "fullElectFrequency       2\n",
      "MTSAlgorithm             impulse/verletI\n",
      "longSplitting            c1\n",
      "pairlistdist             13.5\n",
      "stepspercycle            10\n",
      "splitPatch               hydrogen\n",
      "hgroupCutoff             2.5\n",
      "margin                   0.0\n",
      "pairlistMinProcs         1\n",
      "pairlistsPerCycle        2\n",
      "outputPairlists          0\n",
      "pairlistShrink           0.01\n",
      "pairlistGrow             0.01\n",
      "pairlistTrigger          0.3\n",
      "PME                      yes\n",
      "PMETolerance             1e-05\n",
      "PMEInterpOrder           4\n",
      "PMEGridSpacing           1.0\n",
      "\n",
      "molly                    off\n",
      "\n",
      "cellBasisVector1         87.425 0.0 0.0\n",
      "cellBasisVector2         0.0 97.862 0.0\n",
      "cellBasisVector3         0.0 0.0 76.087\n",
      "cellOrigin               -0.071 -0.225 -0.355\n",
      "wrapWater                on\n",
      "wrapAll                  on\n",
      "wrapNearest              off\n",
      "\n",
      "rigidBonds               all\n",
      "rigidTolerance           1e-05\n",
      "rigidIterations          100\n",
      "rigidDieOnError          on\n",
      "useSettle                on\n",
      "\n",
      "constraints              on\n",
      "consexp                  2\n",
      "consref                  ../build/complex.pdb\n",
      "conskfile                ../constraint/f4.pdb\n",
      "conskcol                 B\n",
      "constraintScaling        1.0\n",
      "selectConstraints        off\n",
      "selectConstrX            off\n",
      "selectConstrY            off\n",
      "selectConstrZ            off\n",
      "\n",
      "fixedAtoms               off\n",
      "\n",
      "langevin                 on\n",
      "langevinTemp             300.0\n",
      "langevinDamping          5.0\n",
      "langevinHydrogen         off\n",
      "langevinCol              O\n",
      "\n",
      "tCouple                  off\n",
      "loweAndersen             off\n",
      "\n",
      "useGroupPressure         no\n",
      "useFlexibleCell          no\n",
      "useConstantRatio         no\n",
      "useConstantArea          no\n",
      "BerendsenPressure        off\n",
      "LangevinPiston           off\n",
      "\n",
      "alch                     on\n",
      "alchType                 ti\n",
      "alchEquilSteps           0\n",
      "alchFile                 ../build/tags.pdb\n",
      "alchCol                  B\n",
      "alchOutFreq              1000\n",
      "alchOutFile              ../equilibration/eq0.alch\n",
      "alchVdwShiftCoeff        5.0\n",
      "alchElecLambdaStart      0.45\n",
      "alchVdwLambdaEnd         1.0\n",
      "alchBondLambdaEnd        0.0\n",
      "alchBondDecouple         off\n",
      "alchDecouple             on\n",
      "\n",
      "\n",
      "\n"
     ]
    }
   ],
   "source": [
    "print(Encoder.encode(md, engine=Engine.namd))"
   ]
  },
  {
   "cell_type": "code",
   "execution_count": null,
   "metadata": {
    "collapsed": true
   },
   "outputs": [],
   "source": [
    ""
   ]
  }
 ],
 "metadata": {
  "kernelspec": {
   "display_name": "Python 3",
   "language": "python",
   "name": "python3"
  },
  "language_info": {
   "codemirror_mode": {
    "name": "ipython",
    "version": 3.0
   },
   "file_extension": ".py",
   "mimetype": "text/x-python",
   "name": "python",
   "nbconvert_exporter": "python",
   "pygments_lexer": "ipython3",
   "version": "3.6.0"
  }
 },
 "nbformat": 4,
 "nbformat_minor": 0
}