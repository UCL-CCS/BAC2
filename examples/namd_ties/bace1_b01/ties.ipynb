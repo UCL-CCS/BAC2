{
 "cells": [
  {
   "cell_type": "markdown",
   "metadata": {
    "collapsed": true
   },
   "source": [
    "# TIES protocol with BAC2.0"
   ]
  },
  {
   "cell_type": "markdown",
   "metadata": {},
   "source": [
    "In this tutorial we will implement the NAMD version of the TIES protocol. We will start with the **minimization** steps."
   ]
  },
  {
   "cell_type": "code",
   "execution_count": 1,
   "metadata": {
    "collapsed": true
   },
   "outputs": [],
   "source": [
    "from bac.simulate.namd import (Simulation, NonBondedController, PME, BondConstraint, AtomConstraint, \n",
    "                               HarmonicConstraint, non_bonded_controller, VelocityRescaling, VelocityReassignment,\n",
    "                               LangevinDynamics, BerendsenPressureCoupling, FreeEnergyController)"
   ]
  },
  {
   "cell_type": "code",
   "execution_count": 2,
   "metadata": {
    "collapsed": true
   },
   "outputs": [],
   "source": [
    "minimize = Simulation(timestep=2.0, number_of_steps=1000, temperature=300)\n",
    "minimize.minimization = True\n",
    "\n",
    "minimize.parameter_type_CHARMM = False\n",
    "minimize.amber = True\n",
    "minimize.parameters = 'build/complex.top'\n",
    "minimize.coordinates = 'build/complex.pdb'\n",
    "minimize.read_exclusions = False\n",
    "\n",
    "minimize.binary_output = False\n",
    "minimize.name = 'min'\n",
    "minimize.output_name = 'min'\n",
    "minimize.output_energies = 500\n",
    "minimize.output_pressure = 500"
   ]
  },
  {
   "cell_type": "markdown",
   "metadata": {},
   "source": [
    "Next, the non bonded interaction setting."
   ]
  },
  {
   "cell_type": "code",
   "execution_count": 3,
   "metadata": {
    "collapsed": true
   },
   "outputs": [],
   "source": [
    "nbc = NonBondedController()\n",
    "nbc.excluded_interactions = non_bonded_controller.Interaction.scaled_one_four\n",
    "nbc.one_four_scaling = 0.833333\n",
    "nbc.cutoff = 12\n",
    "nbc.switching = True\n",
    "nbc.switching_distance = 10\n",
    "nbc.pairlist_distance = 13.5\n",
    "\n",
    "nbc.non_bonded_frequency = 1\n",
    "nbc.full_elect_frequency = 2\n",
    "nbc.steps_per_cycle = 10\n",
    "\n",
    "nbc.pme = PME(grid_spacing=1.0)\n",
    "\n",
    "nbc.wrap_water, nbc.wrap_all = True, True\n",
    "nbc.cell_basis_vector_1 = 87.425, 0.000, 0.000\n",
    "nbc.cell_basis_vector_2 =  0.000,97.836, 0.000\n",
    "nbc.cell_basis_vector_3 =  0.000, 0.000,76.401\n",
    "nbc.cell_origin =         -0.093,-0.273,-0.306\n",
    "\n",
    "minimize.non_bonded_controller = nbc"
   ]
  },
  {
   "cell_type": "code",
   "execution_count": 4,
   "metadata": {
    "collapsed": true
   },
   "outputs": [],
   "source": [
    "minimize.constraints.bond_constraint = BondConstraint(bonds='all', tolerance=0.00001, iterations=100)\n",
    "\n",
    "harm_const = HarmonicConstraint(exponent=2, reference_position_file='build/complex.pdb')\n",
    "harm_const.force_constant_file = 'constraint/f4.pdb'\n",
    "harm_const.force_constant_column = 'B'\n",
    "\n",
    "minimize.constraints.harmonic_constraint = harm_const"
   ]
  },
  {
   "cell_type": "code",
   "execution_count": 5,
   "metadata": {
    "collapsed": true
   },
   "outputs": [],
   "source": [
    "minimize.temperature_controller = LangevinDynamics(temperature=300, damping=5, applies_to_hydrogen=False)"
   ]
  },
  {
   "cell_type": "markdown",
   "metadata": {},
   "source": [
    "Most importantly the free energy calculation parameters:"
   ]
  },
  {
   "cell_type": "code",
   "execution_count": 6,
   "metadata": {
    "collapsed": true
   },
   "outputs": [],
   "source": [
    "fe = FreeEnergyController(type='ti', file='build/tags.pdb', column='O', decouple=True)\n",
    "\n",
    "fe.output_name = 'min.alch'\n",
    "fe.output_frequency = 1000\n",
    "fe.van_der_waals_shift_coefficient = 5\n",
    "fe.electronic_interaction_start_lambda = 0.45\n",
    "fe.van_der_waals_end_lambda = 1.0\n",
    "\n",
    "minimize.free_energy_controller = fe"
   ]
  },
  {
   "cell_type": "markdown",
   "metadata": {},
   "source": [
    "Now the `md` object is ready to run. We need to add it onto an operation queue to actually run in on a supercomputer."
   ]
  },
  {
   "cell_type": "markdown",
   "metadata": {},
   "source": [
    "Under the hood, BAC creates an `.conf` file that the NAMD binary knows how to run. You can also have a look at this file by simply encoding the `Run` object. This is how it's done:"
   ]
  },
  {
   "cell_type": "markdown",
   "metadata": {
    "collapsed": true
   },
   "source": [
    "# Equilibration step 1"
   ]
  },
  {
   "cell_type": "code",
   "execution_count": 7,
   "metadata": {
    "collapsed": true
   },
   "outputs": [],
   "source": [
    "eq1 = next(minimize)\n",
    "eq1.name = 'eq1'\n",
    "eq1.output_name = 'eq1'\n",
    "eq1.minimization = False\n",
    "\n",
    "eq1.number_of_steps = 300 # Scaling down ...30000\n",
    "\n",
    "eq1.restart_frequency = 300\n",
    "eq1.non_bonded_controller.xst_frequency = 300\n",
    "eq1.dcd_frequency = 300"
   ]
  },
  {
   "cell_type": "markdown",
   "metadata": {},
   "source": [
    "# Equilibration step 2"
   ]
  },
  {
   "cell_type": "code",
   "execution_count": 8,
   "metadata": {},
   "outputs": [
    {
     "name": "stderr",
     "output_type": "stream",
     "text": [
      "/Users/kristofarkas/Developer/BAC2/bac/utils/decorators.py:99: UserWarning: 'BerendsenPressureCoupling' object has no attribute 'simulation'\n",
      "  warnings.warn(f'{e}')\n"
     ]
    }
   ],
   "source": [
    "eq2 = next(eq1)\n",
    "eq2.name = 'eq2'\n",
    "eq2.output_name = 'eq2'\n",
    "eq2.number_of_steps = 9700 # Scaling down 970_000\n",
    "\n",
    "eq2.pressure_controller = BerendsenPressureCoupling(target=1.0, compressibility=4.57e-5, \n",
    "                                                    relaxation_time=100, frequency=2, use_group_pressure=True)"
   ]
  },
  {
   "cell_type": "markdown",
   "metadata": {},
   "source": [
    "# Production"
   ]
  },
  {
   "cell_type": "code",
   "execution_count": 9,
   "metadata": {
    "collapsed": true
   },
   "outputs": [],
   "source": [
    "prod = next(eq2)\n",
    "prod.name = 'prod'\n",
    "prod.output_name = 'prod'\n",
    "prod.constraints.harmonic_constraint = None\n",
    "prod.restart_frequency = 2000\n",
    "prod.number_of_steps = 20000 # 2_000_000 "
   ]
  },
  {
   "cell_type": "markdown",
   "metadata": {
    "collapsed": true
   },
   "source": [
    "# Workflow"
   ]
  },
  {
   "cell_type": "code",
   "execution_count": 10,
   "metadata": {
    "collapsed": true
   },
   "outputs": [],
   "source": [
    "from bac.simulate import Workflow, Replica, LambdaWindow"
   ]
  },
  {
   "cell_type": "code",
   "execution_count": 11,
   "metadata": {
    "collapsed": true
   },
   "outputs": [],
   "source": [
    "wf = Workflow(resource='bw', r_dir='bace1_b01')"
   ]
  },
  {
   "cell_type": "code",
   "execution_count": 12,
   "metadata": {
    "collapsed": true
   },
   "outputs": [],
   "source": [
    "wf.simulations = [minimize, eq1, eq2, prod]"
   ]
  },
  {
   "cell_type": "code",
   "execution_count": 13,
   "metadata": {
    "collapsed": true
   },
   "outputs": [],
   "source": [
    "wf.ensembles = [Replica(number_of=5), LambdaWindow(number_of_windows=11, additional=[0.05, 0.95])]"
   ]
  },
  {
   "cell_type": "code",
   "execution_count": 14,
   "metadata": {
    "collapsed": true
   },
   "outputs": [],
   "source": [
    "wf.preprocess_simulations()"
   ]
  },
  {
   "cell_type": "code",
   "execution_count": null,
   "metadata": {
    "collapsed": true
   },
   "outputs": [],
   "source": []
  },
  {
   "cell_type": "code",
   "execution_count": null,
   "metadata": {
    "collapsed": true
   },
   "outputs": [],
   "source": []
  }
 ],
 "metadata": {
  "kernelspec": {
   "display_name": "Python 3",
   "language": "python",
   "name": "python3"
  },
  "language_info": {
   "codemirror_mode": {
    "name": "ipython",
    "version": 3
   },
   "file_extension": ".py",
   "mimetype": "text/x-python",
   "name": "python",
   "nbconvert_exporter": "python",
   "pygments_lexer": "ipython3",
   "version": "3.6.2"
  }
 },
 "nbformat": 4,
 "nbformat_minor": 1
}
