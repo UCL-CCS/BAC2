{
 "cells": [
  {
   "cell_type": "code",
   "execution_count": 1,
   "metadata": {},
   "outputs": [],
   "source": [
    "import bac.simulate.gromacs as gmx"
   ]
  },
  {
   "cell_type": "code",
   "execution_count": 2,
   "metadata": {},
   "outputs": [],
   "source": [
    "ti_run = gmx.Run()"
   ]
  },
  {
   "cell_type": "markdown",
   "metadata": {},
   "source": [
    "### General settings"
   ]
  },
  {
   "cell_type": "code",
   "execution_count": 3,
   "metadata": {},
   "outputs": [],
   "source": [
    "ti_run.integrator = 'sd'\n",
    "ti_run.delta_time = 0.001\n",
    "ti_run.number_of_steps = 2000000\n",
    "\n",
    "ti_run.center_of_mass_motion = 'Angular'\n",
    "ti_run.com_motion_removal_frequency = 100\n",
    "\n",
    "ti_run.generate_velocities = True\n",
    "ti_run.generate_temperature = 310.15"
   ]
  },
  {
   "cell_type": "markdown",
   "metadata": {},
   "source": [
    "###### Output"
   ]
  },
  {
   "cell_type": "code",
   "execution_count": 4,
   "metadata": {
    "collapsed": true
   },
   "outputs": [],
   "source": [
    "ti_run.coordinate_output_frequency = 10000\n",
    "ti_run.energy_log_output_frequency = 10000\n",
    "ti_run.energy_output_frequency = 10000"
   ]
  },
  {
   "cell_type": "code",
   "execution_count": 5,
   "metadata": {},
   "outputs": [],
   "source": [
    "tc = ti_run.temperature_controller\n",
    "tc.type ='v-rescale'\n",
    "tc.frequency = 10\n",
    "tc.groups = 'System'\n",
    "tc.time = 2.0\n",
    "tc.temperature = 310.15"
   ]
  },
  {
   "cell_type": "code",
   "execution_count": null,
   "metadata": {},
   "outputs": [],
   "source": []
  },
  {
   "cell_type": "code",
   "execution_count": 6,
   "metadata": {},
   "outputs": [
    {
     "name": "stderr",
     "output_type": "stream",
     "text": [
      "/Users/kristofarkas/Developer/BAC2/bac/utils/decorators.py:142: Warning: `CutoffSchemeType.group` was the only cut-off treatment scheme before version 4.6, and is deprecated in 5.0.\n",
      "  warnings.warn(message, Warning)\n"
     ]
    }
   ],
   "source": [
    "nbc = ti_run.non_bonded_controller\n",
    "nbc.cutoff_scheme = gmx.non_bonded_controller.CutoffSchemeType.group\n",
    "nbc.neighbor_list_update_frequency = 0\n",
    "nbc.neighbor_list_type = 'simple'\n",
    "nbc.periodic_boundary_condition = False\n",
    "nbc.cutoff = 0\n",
    "\n",
    "nbc.coulomb_type = gmx.CoulombType.cutoff\n",
    "nbc.coulomb_modifier = gmx.CoulombModifierType.none\n",
    "nbc.coulomb_cutoff = 0.0\n",
    "\n",
    "nbc.van_der_waals_type = gmx.VanDerWaalsType.cutoff\n",
    "nbc.van_der_waals_modifier = None\n",
    "nbc.van_der_waals_cutoff = 0.0\n",
    "nbc.correct_long_range_dispersion = False"
   ]
  },
  {
   "cell_type": "code",
   "execution_count": 7,
   "metadata": {},
   "outputs": [
    {
     "data": {
      "text/plain": [
       "<VanDerWaalsModifierType.none: 'None'>"
      ]
     },
     "execution_count": 7,
     "metadata": {},
     "output_type": "execute_result"
    }
   ],
   "source": [
    "nbc.van_der_waals_modifier"
   ]
  },
  {
   "cell_type": "code",
   "execution_count": 8,
   "metadata": {
    "collapsed": true
   },
   "outputs": [],
   "source": [
    "fe = gmx.FreeEnergyController()"
   ]
  },
  {
   "cell_type": "code",
   "execution_count": 9,
   "metadata": {},
   "outputs": [],
   "source": [
    "ti_run.free_energy_controller = fe"
   ]
  },
  {
   "cell_type": "code",
   "execution_count": 10,
   "metadata": {},
   "outputs": [],
   "source": [
    "fe.delta_lambda = 0\n",
    "fe.initial_lambda_state = 1\n",
    "fe.fep_lambdas = [f'{x*0.1:.1f}' for x in range(11)]\n",
    "fe.van_der_waals_lambdas = [f'{x*0.1:.1f}' for x in range(11)]\n",
    "fe.mass_lambdas = [f'{0.0}']*11\n",
    "fe.output_derivatives = True\n",
    "fe.output_frequency = 100\n",
    "fe.calculate_lambda_neighbors = -1\n",
    "fe.soft_core_alpha = 0.5\n",
    "fe.soft_core_coulomb = True\n",
    "fe.soft_core_power = 1\n",
    "fe.soft_core_radial_power = 6\n",
    "fe.soft_core_sigma = 0.3\n",
    "fe.output_energy = gmx.free_energy_controller.OutputEnergyType.no\n",
    "fe.separate_output = True\n",
    "fe.output_bin_size = 0.1\n",
    "fe.output_histogram_size = 0\n"
   ]
  },
  {
   "cell_type": "code",
   "execution_count": 11,
   "metadata": {},
   "outputs": [
    {
     "data": {
      "text/plain": [
       "'gmx grompp -f sd.mdp -c None -p None -o sd.tpr -po sd_generated.mdp '"
      ]
     },
     "execution_count": 11,
     "metadata": {},
     "output_type": "execute_result"
    }
   ],
   "source": [
    "ti_run.preprocess_executable"
   ]
  },
  {
   "cell_type": "code",
   "execution_count": null,
   "metadata": {
    "collapsed": true
   },
   "outputs": [],
   "source": []
  }
 ],
 "metadata": {
  "kernelspec": {
   "display_name": "Python 3",
   "language": "python",
   "name": "python3"
  },
  "language_info": {
   "codemirror_mode": {
    "name": "ipython",
    "version": 3
   },
   "file_extension": ".py",
   "mimetype": "text/x-python",
   "name": "python",
   "nbconvert_exporter": "python",
   "pygments_lexer": "ipython3",
   "version": "3.6.0"
  }
 },
 "nbformat": 4,
 "nbformat_minor": 2
}
