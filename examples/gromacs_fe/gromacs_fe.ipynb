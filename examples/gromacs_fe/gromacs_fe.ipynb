{
 "cells": [
  {
   "cell_type": "markdown",
   "metadata": {},
   "source": [
    "# Free Energy Calculations: Methane in Water\n",
    "\n",
    "This is a tutorial based on [this](http://www.bevanlab.biochem.vt.edu/Pages/Personal/justin/gmx-tutorials/free_energy/index.html) one. We will use BAC2.0"
   ]
  },
  {
   "cell_type": "markdown",
   "metadata": {
    "collapsed": true
   },
   "source": [
    "The system contains a single molecule of methane (called \"ALAB\" in the coordinate file, for the β-carbon of alanine) in a box of 596 TIP3P water molecules."
   ]
  },
  {
   "cell_type": "code",
   "execution_count": 47,
   "metadata": {
    "collapsed": true
   },
   "outputs": [],
   "source": [
    "import bac.simulate.gromacs as gmx\n",
    "from pathlib import Path"
   ]
  },
  {
   "cell_type": "code",
   "execution_count": 48,
   "metadata": {},
   "outputs": [],
   "source": [
    "em_steep = gmx.Run(integrator='steep', number_of_steps=5000)\n",
    "em_steep.name = 'em_steep'\n",
    "em_steep.coordinates = Path('input_files/methane_water.gro').absolute()\n",
    "em_steep.topology = Path('input_files/topol.top').absolute()\n",
    "\n",
    "em_steep.energy_log_output_frequency = 1\n",
    "em_steep.energy_output_frequency = 100"
   ]
  },
  {
   "cell_type": "code",
   "execution_count": 49,
   "metadata": {
    "collapsed": true
   },
   "outputs": [],
   "source": [
    "em_steep.generate_velocities = False\n",
    "\n",
    "em_steep.minimization_tolerance = 100\n",
    "em_steep.minimization_step_size = 0.01\n",
    "em_steep.minimization_correction_steps = 10"
   ]
  },
  {
   "cell_type": "code",
   "execution_count": 50,
   "metadata": {
    "collapsed": true
   },
   "outputs": [],
   "source": [
    "nbc = em_steep.non_bonded_controller\n",
    "nbc.cutoff_scheme = gmx.non_bonded_controller.CutoffSchemeType.verlet\n",
    "nbc.neighbor_list_update_frequency = 1\n",
    "nbc.neighbor_list_type = gmx.non_bonded_controller.NeighborListType.grid\n",
    "nbc.periodic_boundary_condition = gmx.non_bonded_controller.PeriodicBoundaryConditionType.xyz\n",
    "nbc.cutoff = 1.2\n",
    "\n",
    "nbc.coulomb_type = gmx.non_bonded_controller.CoulombType.pme\n",
    "nbc.coulomb_cutoff = 1.2\n",
    "\n",
    "nbc.van_der_waals_type = gmx.non_bonded_controller.VanDerWaalsType.cutoff\n",
    "nbc.van_der_waals_modifier = gmx.non_bonded_controller.VanDerWaalsModifierType.potential_shift\n",
    "nbc.van_der_waals_switch_cutoff = 1.0\n",
    "nbc.van_der_waals_cutoff = 1.2\n",
    "\n",
    "nbc.correct_long_range_dispersion = gmx.non_bonded_controller.LongRangeDispersionCorrectionType.energy_and_pressure\n",
    "\n",
    "nbc.fourier_spacing = 0.12\n",
    "nbc.pme_order = 6\n",
    "nbc.ewald_tolerance_coulomb = 1e-06\n",
    "nbc.ewald_epsilon_surface = 0"
   ]
  },
  {
   "cell_type": "code",
   "execution_count": 51,
   "metadata": {
    "collapsed": true
   },
   "outputs": [],
   "source": [
    "fe = gmx.FreeEnergyController()\n",
    "em_steep.free_energy_controller = fe\n",
    "\n",
    "fe.initial_lambda_state = 0\n",
    "fe.delta_lambda = 0\n",
    "fe.calculate_lambda_neighbors = 1\n",
    "fe.van_der_waals_lambdas = [f'{x*0.05:.2f}' for x in range(21)] \n",
    "fe.coulomb_lambdas = [f'{0:.2f}']*21\n",
    "fe.bonded_lambdas = [f'{0:.2f}']*21\n",
    "fe.restraint_lambdas = [f'{0:.2f}']*21\n",
    "fe.mass_lambdas = [f'{0:.2f}']*21\n",
    "fe.temperature_lambdas = [f'{0:.2f}']*21\n",
    "\n",
    "fe.soft_core_alpha = 0.5\n",
    "fe.soft_core_coulomb = False\n",
    "fe.soft_core_power = 1\n",
    "fe.soft_core_sigma = 0.3\n",
    "\n",
    "fe.couple_molecule_groups = 'Methane'\n",
    "fe.couple_type_initial_lambda = 'vdw'\n",
    "fe.couple_type_final_lambda = 'none'\n",
    "fe.couple_intramolecular = False\n",
    "\n",
    "fe.output_frequency = 10"
   ]
  },
  {
   "cell_type": "code",
   "execution_count": 52,
   "metadata": {
    "collapsed": true
   },
   "outputs": [],
   "source": [
    "em_steep.constraints.continuation = False\n",
    "em_steep.constraints.type = gmx.ConstraintType.h_bonds\n",
    "em_steep.constraints.algorithm = gmx.ConstraintAlgorithmType.lincs\n",
    "em_steep.constraints.lincs_order = 12"
   ]
  },
  {
   "cell_type": "markdown",
   "metadata": {
    "collapsed": true
   },
   "source": [
    "Next energy minimization step"
   ]
  },
  {
   "cell_type": "code",
   "execution_count": 53,
   "metadata": {
    "collapsed": true
   },
   "outputs": [],
   "source": [
    "em_bfgs = next(em_steep)"
   ]
  },
  {
   "cell_type": "code",
   "execution_count": 54,
   "metadata": {
    "collapsed": true
   },
   "outputs": [],
   "source": [
    "em_bfgs.integrator = gmx.Integrator.l_bfgs\n",
    "em_bfgs.constraints.type = gmx.ConstraintType.none\n",
    "em_bfgs.name = 'em_bfgs'"
   ]
  },
  {
   "cell_type": "code",
   "execution_count": 55,
   "metadata": {
    "collapsed": true
   },
   "outputs": [],
   "source": [
    "nvt = next(em_bfgs)\n",
    "nvt.name = 'nvt'"
   ]
  },
  {
   "cell_type": "code",
   "execution_count": 56,
   "metadata": {
    "collapsed": true
   },
   "outputs": [],
   "source": [
    "nvt.integrator = 'sd'\n",
    "nvt.delta_time = 0.002\n",
    "nvt.number_of_steps = 50000\n",
    "nvt.com_motion_removal_frequency = 100\n",
    "\n",
    "nvt.generate_velocities = True\n",
    "nvt.generate_temperature = 300"
   ]
  },
  {
   "cell_type": "code",
   "execution_count": 57,
   "metadata": {
    "collapsed": true
   },
   "outputs": [],
   "source": [
    "nvt.temperature_controller.groups = 'system'\n",
    "nvt.temperature_controller.time = 1\n",
    "nvt.temperature_controller.temperature = 300"
   ]
  },
  {
   "cell_type": "markdown",
   "metadata": {},
   "source": [
    "## Simulation and Workflow"
   ]
  },
  {
   "cell_type": "code",
   "execution_count": 58,
   "metadata": {
    "collapsed": true
   },
   "outputs": [],
   "source": [
    "from bac.simulate import Workflow, replica, lambda_window"
   ]
  },
  {
   "cell_type": "code",
   "execution_count": 59,
   "metadata": {
    "collapsed": true
   },
   "outputs": [],
   "source": [
    "wf = Workflow(resource='MPB', name='MeOH_H2O')"
   ]
  },
  {
   "cell_type": "code",
   "execution_count": 60,
   "metadata": {
    "collapsed": true
   },
   "outputs": [],
   "source": [
    "wf.add_simulation(em_steep)"
   ]
  },
  {
   "cell_type": "code",
   "execution_count": 61,
   "metadata": {
    "collapsed": true
   },
   "outputs": [],
   "source": [
    "wf.ensembles = [lambda_window(2), replica(2)]"
   ]
  },
  {
   "cell_type": "code",
   "execution_count": 62,
   "metadata": {},
   "outputs": [
    {
     "name": "stdout",
     "output_type": "stream",
     "text": [
      "gmx grompp -f lambda_0/replica_0/em_steep.mdp -c /Users/kristofarkas/Developer/BAC2/docs/examples/gromacs_fe/input_files/methane_water.gro -p /Users/kristofarkas/Developer/BAC2/docs/examples/gromacs_fe/input_files/topol.top -o lambda_0/replica_0/em_steep.tpr -po lambda_0/replica_0/em_steep_generated.mdp \n",
      "b'turning H bonds into constraints...\\nturning H bonds into constraints...\\nAnalysing residue names:\\nThere are:     1      Other residues\\nThere are:   596      Water residues\\nAnalysing residues not classified as Protein/DNA/RNA/Water and splitting into groups...\\nCalculating fourier grid dimensions for X Y Z\\nUsing a fourier grid of 25x25x25, spacing 0.119 0.119 0.119\\nThis run will generate roughly 14 Mb of data\\n'\n",
      "b'                      :-) GROMACS - gmx grompp, 2016.3 (-:\\n\\n                            GROMACS is written by:\\n     Emile Apol      Rossen Apostolov  Herman J.C. Berendsen    Par Bjelkmar   \\n Aldert van Buuren   Rudi van Drunen     Anton Feenstra    Gerrit Groenhof  \\n Christoph Junghans   Anca Hamuraru    Vincent Hindriksen Dimitrios Karkoulis\\n    Peter Kasson        Jiri Kraus      Carsten Kutzner      Per Larsson    \\n  Justin A. Lemkul   Magnus Lundborg   Pieter Meulenhoff    Erik Marklund   \\n   Teemu Murtola       Szilard Pall       Sander Pronk      Roland Schulz   \\n  Alexey Shvetsov     Michael Shirts     Alfons Sijbers     Peter Tieleman  \\n  Teemu Virolainen  Christian Wennberg    Maarten Wolf   \\n                           and the project leaders:\\n        Mark Abraham, Berk Hess, Erik Lindahl, and David van der Spoel\\n\\nCopyright (c) 1991-2000, University of Groningen, The Netherlands.\\nCopyright (c) 2001-2017, The GROMACS development team at\\nUppsala University, Stockholm University and\\nthe Royal Institute of Technology, Sweden.\\ncheck out http://www.gromacs.org for more information.\\n\\nGROMACS is free software; you can redistribute it and/or modify it\\nunder the terms of the GNU Lesser General Public License\\nas published by the Free Software Foundation; either version 2.1\\nof the License, or (at your option) any later version.\\n\\nGROMACS:      gmx grompp, version 2016.3\\nExecutable:   /usr/local/gromacs/bin/gmx\\nData prefix:  /usr/local/gromacs\\nWorking dir:  /Users/kristofarkas/Developer/BAC2/docs/examples/gromacs_fe/MeOH_H2O_4198\\nCommand line:\\n  gmx grompp -f lambda_0/replica_0/em_steep.mdp -c /Users/kristofarkas/Developer/BAC2/docs/examples/gromacs_fe/input_files/methane_water.gro -p /Users/kristofarkas/Developer/BAC2/docs/examples/gromacs_fe/input_files/topol.top -o lambda_0/replica_0/em_steep.tpr -po lambda_0/replica_0/em_steep_generated.mdp\\n\\n\\nNOTE 1 [file lambda_0/replica_0/em_steep.mdp]:\\n  With Verlet lists the optimal nstlist is >= 10, with GPUs >= 20. Note\\n  that with the Verlet scheme, nstlist has no effect on the accuracy of\\n  your simulation.\\n\\nSetting the LD random seed to 1382163550\\nGenerated 331705 of the 331705 non-bonded parameter combinations\\nGenerating 1-4 interactions: fudge = 0.5\\nGenerated 331705 of the 331705 1-4 parameter combinations\\nExcluding 3 bonded neighbours molecule type \\'Methane\\'\\nExcluding 2 bonded neighbours molecule type \\'SOL\\'\\nCoupling 1 copies of molecule type \\'Methane\\'\\nRemoving all charge groups because cutoff-scheme=Verlet\\nNumber of degrees of freedom in T-Coupling group rest is 3584.00\\nEstimate for the relative computational load of the PME mesh part: 0.35\\n\\nThere was 1 note\\n\\nGROMACS reminds you: \"Kick the Dog and You Will Die\" (Magnapop)\\n\\n'\n",
      "\n",
      "gmx grompp -f lambda_0/replica_1/em_steep.mdp -c /Users/kristofarkas/Developer/BAC2/docs/examples/gromacs_fe/input_files/methane_water.gro -p /Users/kristofarkas/Developer/BAC2/docs/examples/gromacs_fe/input_files/topol.top -o lambda_0/replica_1/em_steep.tpr -po lambda_0/replica_1/em_steep_generated.mdp \n",
      "b'turning H bonds into constraints...\\nturning H bonds into constraints...\\nAnalysing residue names:\\nThere are:     1      Other residues\\nThere are:   596      Water residues\\nAnalysing residues not classified as Protein/DNA/RNA/Water and splitting into groups...\\nCalculating fourier grid dimensions for X Y Z\\nUsing a fourier grid of 25x25x25, spacing 0.119 0.119 0.119\\nThis run will generate roughly 14 Mb of data\\n'\n",
      "b'                      :-) GROMACS - gmx grompp, 2016.3 (-:\\n\\n                            GROMACS is written by:\\n     Emile Apol      Rossen Apostolov  Herman J.C. Berendsen    Par Bjelkmar   \\n Aldert van Buuren   Rudi van Drunen     Anton Feenstra    Gerrit Groenhof  \\n Christoph Junghans   Anca Hamuraru    Vincent Hindriksen Dimitrios Karkoulis\\n    Peter Kasson        Jiri Kraus      Carsten Kutzner      Per Larsson    \\n  Justin A. Lemkul   Magnus Lundborg   Pieter Meulenhoff    Erik Marklund   \\n   Teemu Murtola       Szilard Pall       Sander Pronk      Roland Schulz   \\n  Alexey Shvetsov     Michael Shirts     Alfons Sijbers     Peter Tieleman  \\n  Teemu Virolainen  Christian Wennberg    Maarten Wolf   \\n                           and the project leaders:\\n        Mark Abraham, Berk Hess, Erik Lindahl, and David van der Spoel\\n\\nCopyright (c) 1991-2000, University of Groningen, The Netherlands.\\nCopyright (c) 2001-2017, The GROMACS development team at\\nUppsala University, Stockholm University and\\nthe Royal Institute of Technology, Sweden.\\ncheck out http://www.gromacs.org for more information.\\n\\nGROMACS is free software; you can redistribute it and/or modify it\\nunder the terms of the GNU Lesser General Public License\\nas published by the Free Software Foundation; either version 2.1\\nof the License, or (at your option) any later version.\\n\\nGROMACS:      gmx grompp, version 2016.3\\nExecutable:   /usr/local/gromacs/bin/gmx\\nData prefix:  /usr/local/gromacs\\nWorking dir:  /Users/kristofarkas/Developer/BAC2/docs/examples/gromacs_fe/MeOH_H2O_4198\\nCommand line:\\n  gmx grompp -f lambda_0/replica_1/em_steep.mdp -c /Users/kristofarkas/Developer/BAC2/docs/examples/gromacs_fe/input_files/methane_water.gro -p /Users/kristofarkas/Developer/BAC2/docs/examples/gromacs_fe/input_files/topol.top -o lambda_0/replica_1/em_steep.tpr -po lambda_0/replica_1/em_steep_generated.mdp\\n\\n\\nNOTE 1 [file lambda_0/replica_1/em_steep.mdp]:\\n  With Verlet lists the optimal nstlist is >= 10, with GPUs >= 20. Note\\n  that with the Verlet scheme, nstlist has no effect on the accuracy of\\n  your simulation.\\n\\nSetting the LD random seed to -964986275\\nGenerated 331705 of the 331705 non-bonded parameter combinations\\nGenerating 1-4 interactions: fudge = 0.5\\nGenerated 331705 of the 331705 1-4 parameter combinations\\nExcluding 3 bonded neighbours molecule type \\'Methane\\'\\nExcluding 2 bonded neighbours molecule type \\'SOL\\'\\nCoupling 1 copies of molecule type \\'Methane\\'\\nRemoving all charge groups because cutoff-scheme=Verlet\\nNumber of degrees of freedom in T-Coupling group rest is 3584.00\\nEstimate for the relative computational load of the PME mesh part: 0.35\\n\\nThere was 1 note\\n\\nGROMACS reminds you: \"Njuta men inte frossa, springa men inte fly\" (Paganus)\\n\\n'\n",
      "\n",
      "gmx grompp -f lambda_1/replica_0/em_steep.mdp -c /Users/kristofarkas/Developer/BAC2/docs/examples/gromacs_fe/input_files/methane_water.gro -p /Users/kristofarkas/Developer/BAC2/docs/examples/gromacs_fe/input_files/topol.top -o lambda_1/replica_0/em_steep.tpr -po lambda_1/replica_0/em_steep_generated.mdp \n",
      "b'turning H bonds into constraints...\\nturning H bonds into constraints...\\nAnalysing residue names:\\nThere are:     1      Other residues\\nThere are:   596      Water residues\\nAnalysing residues not classified as Protein/DNA/RNA/Water and splitting into groups...\\nCalculating fourier grid dimensions for X Y Z\\nUsing a fourier grid of 25x25x25, spacing 0.119 0.119 0.119\\nThis run will generate roughly 14 Mb of data\\n'\n",
      "b'                      :-) GROMACS - gmx grompp, 2016.3 (-:\\n\\n                            GROMACS is written by:\\n     Emile Apol      Rossen Apostolov  Herman J.C. Berendsen    Par Bjelkmar   \\n Aldert van Buuren   Rudi van Drunen     Anton Feenstra    Gerrit Groenhof  \\n Christoph Junghans   Anca Hamuraru    Vincent Hindriksen Dimitrios Karkoulis\\n    Peter Kasson        Jiri Kraus      Carsten Kutzner      Per Larsson    \\n  Justin A. Lemkul   Magnus Lundborg   Pieter Meulenhoff    Erik Marklund   \\n   Teemu Murtola       Szilard Pall       Sander Pronk      Roland Schulz   \\n  Alexey Shvetsov     Michael Shirts     Alfons Sijbers     Peter Tieleman  \\n  Teemu Virolainen  Christian Wennberg    Maarten Wolf   \\n                           and the project leaders:\\n        Mark Abraham, Berk Hess, Erik Lindahl, and David van der Spoel\\n\\nCopyright (c) 1991-2000, University of Groningen, The Netherlands.\\nCopyright (c) 2001-2017, The GROMACS development team at\\nUppsala University, Stockholm University and\\nthe Royal Institute of Technology, Sweden.\\ncheck out http://www.gromacs.org for more information.\\n\\nGROMACS is free software; you can redistribute it and/or modify it\\nunder the terms of the GNU Lesser General Public License\\nas published by the Free Software Foundation; either version 2.1\\nof the License, or (at your option) any later version.\\n\\nGROMACS:      gmx grompp, version 2016.3\\nExecutable:   /usr/local/gromacs/bin/gmx\\nData prefix:  /usr/local/gromacs\\nWorking dir:  /Users/kristofarkas/Developer/BAC2/docs/examples/gromacs_fe/MeOH_H2O_4198\\nCommand line:\\n  gmx grompp -f lambda_1/replica_0/em_steep.mdp -c /Users/kristofarkas/Developer/BAC2/docs/examples/gromacs_fe/input_files/methane_water.gro -p /Users/kristofarkas/Developer/BAC2/docs/examples/gromacs_fe/input_files/topol.top -o lambda_1/replica_0/em_steep.tpr -po lambda_1/replica_0/em_steep_generated.mdp\\n\\n\\nNOTE 1 [file lambda_1/replica_0/em_steep.mdp]:\\n  With Verlet lists the optimal nstlist is >= 10, with GPUs >= 20. Note\\n  that with the Verlet scheme, nstlist has no effect on the accuracy of\\n  your simulation.\\n\\nSetting the LD random seed to -1505759364\\nGenerated 331705 of the 331705 non-bonded parameter combinations\\nGenerating 1-4 interactions: fudge = 0.5\\nGenerated 331705 of the 331705 1-4 parameter combinations\\nExcluding 3 bonded neighbours molecule type \\'Methane\\'\\nExcluding 2 bonded neighbours molecule type \\'SOL\\'\\nCoupling 1 copies of molecule type \\'Methane\\'\\nRemoving all charge groups because cutoff-scheme=Verlet\\nNumber of degrees of freedom in T-Coupling group rest is 3584.00\\nEstimate for the relative computational load of the PME mesh part: 0.35\\n\\nThere was 1 note\\n\\nGROMACS reminds you: \"Science is a wonderful thing if one does not have to earn one\\'s living at it.\" (Albert Einstein)\\n\\n'\n",
      "\n"
     ]
    },
    {
     "name": "stdout",
     "output_type": "stream",
     "text": [
      "gmx grompp -f lambda_1/replica_1/em_steep.mdp -c /Users/kristofarkas/Developer/BAC2/docs/examples/gromacs_fe/input_files/methane_water.gro -p /Users/kristofarkas/Developer/BAC2/docs/examples/gromacs_fe/input_files/topol.top -o lambda_1/replica_1/em_steep.tpr -po lambda_1/replica_1/em_steep_generated.mdp \n",
      "b'turning H bonds into constraints...\\nturning H bonds into constraints...\\nAnalysing residue names:\\nThere are:     1      Other residues\\nThere are:   596      Water residues\\nAnalysing residues not classified as Protein/DNA/RNA/Water and splitting into groups...\\nCalculating fourier grid dimensions for X Y Z\\nUsing a fourier grid of 25x25x25, spacing 0.119 0.119 0.119\\nThis run will generate roughly 14 Mb of data\\n'\n",
      "b'                      :-) GROMACS - gmx grompp, 2016.3 (-:\\n\\n                            GROMACS is written by:\\n     Emile Apol      Rossen Apostolov  Herman J.C. Berendsen    Par Bjelkmar   \\n Aldert van Buuren   Rudi van Drunen     Anton Feenstra    Gerrit Groenhof  \\n Christoph Junghans   Anca Hamuraru    Vincent Hindriksen Dimitrios Karkoulis\\n    Peter Kasson        Jiri Kraus      Carsten Kutzner      Per Larsson    \\n  Justin A. Lemkul   Magnus Lundborg   Pieter Meulenhoff    Erik Marklund   \\n   Teemu Murtola       Szilard Pall       Sander Pronk      Roland Schulz   \\n  Alexey Shvetsov     Michael Shirts     Alfons Sijbers     Peter Tieleman  \\n  Teemu Virolainen  Christian Wennberg    Maarten Wolf   \\n                           and the project leaders:\\n        Mark Abraham, Berk Hess, Erik Lindahl, and David van der Spoel\\n\\nCopyright (c) 1991-2000, University of Groningen, The Netherlands.\\nCopyright (c) 2001-2017, The GROMACS development team at\\nUppsala University, Stockholm University and\\nthe Royal Institute of Technology, Sweden.\\ncheck out http://www.gromacs.org for more information.\\n\\nGROMACS is free software; you can redistribute it and/or modify it\\nunder the terms of the GNU Lesser General Public License\\nas published by the Free Software Foundation; either version 2.1\\nof the License, or (at your option) any later version.\\n\\nGROMACS:      gmx grompp, version 2016.3\\nExecutable:   /usr/local/gromacs/bin/gmx\\nData prefix:  /usr/local/gromacs\\nWorking dir:  /Users/kristofarkas/Developer/BAC2/docs/examples/gromacs_fe/MeOH_H2O_4198\\nCommand line:\\n  gmx grompp -f lambda_1/replica_1/em_steep.mdp -c /Users/kristofarkas/Developer/BAC2/docs/examples/gromacs_fe/input_files/methane_water.gro -p /Users/kristofarkas/Developer/BAC2/docs/examples/gromacs_fe/input_files/topol.top -o lambda_1/replica_1/em_steep.tpr -po lambda_1/replica_1/em_steep_generated.mdp\\n\\n\\nNOTE 1 [file lambda_1/replica_1/em_steep.mdp]:\\n  With Verlet lists the optimal nstlist is >= 10, with GPUs >= 20. Note\\n  that with the Verlet scheme, nstlist has no effect on the accuracy of\\n  your simulation.\\n\\nSetting the LD random seed to 1548211006\\nGenerated 331705 of the 331705 non-bonded parameter combinations\\nGenerating 1-4 interactions: fudge = 0.5\\nGenerated 331705 of the 331705 1-4 parameter combinations\\nExcluding 3 bonded neighbours molecule type \\'Methane\\'\\nExcluding 2 bonded neighbours molecule type \\'SOL\\'\\nCoupling 1 copies of molecule type \\'Methane\\'\\nRemoving all charge groups because cutoff-scheme=Verlet\\nNumber of degrees of freedom in T-Coupling group rest is 3584.00\\nEstimate for the relative computational load of the PME mesh part: 0.35\\n\\nThere was 1 note\\n\\nGROMACS reminds you: \"I Need a Little Poison\" (Throwing Muses)\\n\\n'\n",
      "\n"
     ]
    }
   ],
   "source": [
    "wf.preprocess_simulations()"
   ]
  },
  {
   "cell_type": "code",
   "execution_count": 69,
   "metadata": {},
   "outputs": [
    {
     "name": "stdout",
     "output_type": "stream",
     "text": [
      "                      :-) GROMACS - gmx grompp, 2016.3 (-:\n",
      "\n",
      "                            GROMACS is written by:\n",
      "     Emile Apol      Rossen Apostolov  Herman J.C. Berendsen    Par Bjelkmar   \n",
      " Aldert van Buuren   Rudi van Drunen     Anton Feenstra    Gerrit Groenhof  \n",
      " Christoph Junghans   Anca Hamuraru    Vincent Hindriksen Dimitrios Karkoulis\n",
      "    Peter Kasson        Jiri Kraus      Carsten Kutzner      Per Larsson    \n",
      "  Justin A. Lemkul   Magnus Lundborg   Pieter Meulenhoff    Erik Marklund   \n",
      "   Teemu Murtola       Szilard Pall       Sander Pronk      Roland Schulz   \n",
      "  Alexey Shvetsov     Michael Shirts     Alfons Sijbers     Peter Tieleman  \n",
      "  Teemu Virolainen  Christian Wennberg    Maarten Wolf   \n",
      "                           and the project leaders:\n",
      "        Mark Abraham, Berk Hess, Erik Lindahl, and David van der Spoel\n",
      "\n",
      "Copyright (c) 1991-2000, University of Groningen, The Netherlands.\n",
      "Copyright (c) 2001-2017, The GROMACS development team at\n",
      "Uppsala University, Stockholm University and\n",
      "the Royal Institute of Technology, Sweden.\n",
      "check out http://www.gromacs.org for more information.\n",
      "\n",
      "GROMACS is free software; you can redistribute it and/or modify it\n",
      "under the terms of the GNU Lesser General Public License\n",
      "as published by the Free Software Foundation; either version 2.1\n",
      "of the License, or (at your option) any later version.\n",
      "\n",
      "GROMACS:      gmx grompp, version 2016.3\n",
      "Executable:   /usr/local/gromacs/bin/gmx\n",
      "Data prefix:  /usr/local/gromacs\n",
      "Working dir:  /Users/kristofarkas/Developer/BAC2/docs/examples/gromacs_fe/MeOH_H2O_4198\n",
      "Command line:\n",
      "  gmx grompp -f lambda_0/replica_0/em_steep.mdp -c /Users/kristofarkas/Developer/BAC2/docs/examples/gromacs_fe/input_files/methane_water.gro -p /Users/kristofarkas/Developer/BAC2/docs/examples/gromacs_fe/input_files/topol.top -o lambda_0/replica_0/em_steep.tpr -po lambda_0/replica_0/em_steep_generated.mdp\n",
      "\n",
      "\n",
      "NOTE 1 [file lambda_0/replica_0/em_steep.mdp]:\n",
      "  With Verlet lists the optimal nstlist is >= 10, with GPUs >= 20. Note\n",
      "  that with the Verlet scheme, nstlist has no effect on the accuracy of\n",
      "  your simulation.\n",
      "\n",
      "Setting the LD random seed to 1382163550\n",
      "Generated 331705 of the 331705 non-bonded parameter combinations\n",
      "Generating 1-4 interactions: fudge = 0.5\n",
      "Generated 331705 of the 331705 1-4 parameter combinations\n",
      "Excluding 3 bonded neighbours molecule type 'Methane'\n",
      "Excluding 2 bonded neighbours molecule type 'SOL'\n",
      "Coupling 1 copies of molecule type 'Methane'\n",
      "Removing all charge groups because cutoff-scheme=Verlet\n",
      "Number of degrees of freedom in T-Coupling group rest is 3584.00\n",
      "Estimate for the relative computational load of the PME mesh part: 0.35\n",
      "\n",
      "There was 1 note\n",
      "\n",
      "GROMACS reminds you: \"Kick the Dog and You Will Die\" (Magnapop)\n",
      "\n",
      "\n"
     ]
    }
   ],
   "source": [
    "print('                      :-) GROMACS - gmx grompp, 2016.3 (-:\\n\\n                            GROMACS is written by:\\n     Emile Apol      Rossen Apostolov  Herman J.C. Berendsen    Par Bjelkmar   \\n Aldert van Buuren   Rudi van Drunen     Anton Feenstra    Gerrit Groenhof  \\n Christoph Junghans   Anca Hamuraru    Vincent Hindriksen Dimitrios Karkoulis\\n    Peter Kasson        Jiri Kraus      Carsten Kutzner      Per Larsson    \\n  Justin A. Lemkul   Magnus Lundborg   Pieter Meulenhoff    Erik Marklund   \\n   Teemu Murtola       Szilard Pall       Sander Pronk      Roland Schulz   \\n  Alexey Shvetsov     Michael Shirts     Alfons Sijbers     Peter Tieleman  \\n  Teemu Virolainen  Christian Wennberg    Maarten Wolf   \\n                           and the project leaders:\\n        Mark Abraham, Berk Hess, Erik Lindahl, and David van der Spoel\\n\\nCopyright (c) 1991-2000, University of Groningen, The Netherlands.\\nCopyright (c) 2001-2017, The GROMACS development team at\\nUppsala University, Stockholm University and\\nthe Royal Institute of Technology, Sweden.\\ncheck out http://www.gromacs.org for more information.\\n\\nGROMACS is free software; you can redistribute it and/or modify it\\nunder the terms of the GNU Lesser General Public License\\nas published by the Free Software Foundation; either version 2.1\\nof the License, or (at your option) any later version.\\n\\nGROMACS:      gmx grompp, version 2016.3\\nExecutable:   /usr/local/gromacs/bin/gmx\\nData prefix:  /usr/local/gromacs\\nWorking dir:  /Users/kristofarkas/Developer/BAC2/docs/examples/gromacs_fe/MeOH_H2O_4198\\nCommand line:\\n  gmx grompp -f lambda_0/replica_0/em_steep.mdp -c /Users/kristofarkas/Developer/BAC2/docs/examples/gromacs_fe/input_files/methane_water.gro -p /Users/kristofarkas/Developer/BAC2/docs/examples/gromacs_fe/input_files/topol.top -o lambda_0/replica_0/em_steep.tpr -po lambda_0/replica_0/em_steep_generated.mdp\\n\\n\\nNOTE 1 [file lambda_0/replica_0/em_steep.mdp]:\\n  With Verlet lists the optimal nstlist is >= 10, with GPUs >= 20. Note\\n  that with the Verlet scheme, nstlist has no effect on the accuracy of\\n  your simulation.\\n\\nSetting the LD random seed to 1382163550\\nGenerated 331705 of the 331705 non-bonded parameter combinations\\nGenerating 1-4 interactions: fudge = 0.5\\nGenerated 331705 of the 331705 1-4 parameter combinations\\nExcluding 3 bonded neighbours molecule type \\'Methane\\'\\nExcluding 2 bonded neighbours molecule type \\'SOL\\'\\nCoupling 1 copies of molecule type \\'Methane\\'\\nRemoving all charge groups because cutoff-scheme=Verlet\\nNumber of degrees of freedom in T-Coupling group rest is 3584.00\\nEstimate for the relative computational load of the PME mesh part: 0.35\\n\\nThere was 1 note\\n\\nGROMACS reminds you: \"Kick the Dog and You Will Die\" (Magnapop)\\n\\n'\n",
    ")\n"
   ]
  },
  {
   "cell_type": "code",
   "execution_count": null,
   "metadata": {
    "collapsed": true
   },
   "outputs": [],
   "source": []
  }
 ],
 "metadata": {
  "kernelspec": {
   "display_name": "Python 3",
   "language": "python",
   "name": "python3"
  },
  "language_info": {
   "codemirror_mode": {
    "name": "ipython",
    "version": 3
   },
   "file_extension": ".py",
   "mimetype": "text/x-python",
   "name": "python",
   "nbconvert_exporter": "python",
   "pygments_lexer": "ipython3",
   "version": "3.6.0"
  }
 },
 "nbformat": 4,
 "nbformat_minor": 1
}
