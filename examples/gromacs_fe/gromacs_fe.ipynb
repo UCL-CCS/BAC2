{
 "cells": [
  {
   "cell_type": "markdown",
   "metadata": {},
   "source": [
    "# Free Energy Calculations: Methane in Water\n",
    "\n",
    "This is a tutorial based on [this](http://www.bevanlab.biochem.vt.edu/Pages/Personal/justin/gmx-tutorials/free_energy/index.html) one. We will use BAC2.0"
   ]
  },
  {
   "cell_type": "markdown",
   "metadata": {
    "collapsed": true
   },
   "source": [
    "The system contains a single molecule of methane (called \"ALAB\" in the coordinate file, for the β-carbon of alanine) in a box of 596 TIP3P water molecules."
   ]
  },
  {
   "cell_type": "code",
   "execution_count": 1,
   "metadata": {
    "collapsed": true
   },
   "outputs": [],
   "source": [
    "import bac.simulate.gromacs as gmx"
   ]
  },
  {
   "cell_type": "code",
   "execution_count": 2,
   "metadata": {
    "collapsed": true
   },
   "outputs": [],
   "source": [
    "from pathlib import Path"
   ]
  },
  {
   "cell_type": "code",
   "execution_count": 3,
   "metadata": {
    "collapsed": true
   },
   "outputs": [],
   "source": [
    "em_steep = gmx.Simulation(integrator='steep', number_of_steps=2500)\n",
    "\n",
    "em_steep.name = 'em_steep'\n",
    "em_steep.coordinates = Path('input_files/methane_water.gro').absolute()\n",
    "em_steep.topology = Path('input_files/topol.top').absolute()\n",
    "\n",
    "em_steep.energy_log_output_frequency = 1\n",
    "em_steep.energy_output_frequency = 100"
   ]
  },
  {
   "cell_type": "code",
   "execution_count": 4,
   "metadata": {
    "collapsed": true
   },
   "outputs": [],
   "source": [
    "em_steep.delta_time = 0.002"
   ]
  },
  {
   "cell_type": "code",
   "execution_count": 5,
   "metadata": {
    "collapsed": true
   },
   "outputs": [],
   "source": [
    "em_steep.center_of_mass_motion = gmx.simulation_controller.CenterOfMassMotion.linear\n",
    "em_steep.com_motion_removal_frequency = 100"
   ]
  },
  {
   "cell_type": "code",
   "execution_count": 6,
   "metadata": {
    "collapsed": true
   },
   "outputs": [],
   "source": [
    "em_steep.generate_velocities = False\n",
    "\n",
    "em_steep.minimization_tolerance = 100\n",
    "em_steep.minimization_step_size = 0.01\n",
    "em_steep.minimization_correction_steps = 10\n",
    "em_steep.minimization_steepest_descent_frequency = 1000"
   ]
  },
  {
   "cell_type": "code",
   "execution_count": 7,
   "metadata": {
    "collapsed": true
   },
   "outputs": [],
   "source": [
    "nbc = em_steep.non_bonded_controller\n",
    "nbc.cutoff_scheme = gmx.CutoffSchemeType.verlet\n",
    "nbc.neighbor_list_update_frequency = 10\n",
    "nbc.neighbor_list_type = gmx.NeighborListType.grid\n",
    "nbc.periodic_boundary_condition = gmx.PeriodicBoundaryConditionType.xyz\n",
    "nbc.periodic_molecules = False\n",
    "nbc.verlet_buffer_tolerance = 0.005\n",
    "nbc.cutoff = 1.2\n",
    "\n",
    "nbc.coulomb_type = gmx.CoulombType.pme\n",
    "nbc.coulomb_modifier = gmx.CoulombModifierType.potential_shift_verlet\n",
    "nbc.coulomb_switch_cutoff = 0.0\n",
    "nbc.coulomb_cutoff = 1.2\n",
    "\n",
    "\n",
    "nbc.van_der_waals_type = gmx.VanDerWaalsType.cutoff\n",
    "nbc.van_der_waals_modifier = gmx.VanDerWaalsModifierType.potential_shift\n",
    "nbc.van_der_waals_switch_cutoff = 1.0\n",
    "nbc.van_der_waals_cutoff = 1.2\n",
    "\n",
    "nbc.correct_long_range_dispersion = gmx.LongRangeDispersionCorrectionType.energy_and_pressure\n",
    "\n",
    "nbc.fourier_spacing = 0.12\n",
    "nbc.pme_order = 6\n",
    "nbc.ewald_tolerance_coulomb = 1e-06\n",
    "nbc.ewald_epsilon_surface = 0"
   ]
  },
  {
   "cell_type": "code",
   "execution_count": 8,
   "metadata": {},
   "outputs": [
    {
     "data": {
      "text/plain": [
       "<bac.utils.decorators.decimal at 0x10eb83e88>"
      ]
     },
     "execution_count": 8,
     "metadata": {},
     "output_type": "execute_result"
    }
   ],
   "source": [
    "gmx.non_bonded_controller.NonBondedController.coulomb_switch_cutoff"
   ]
  },
  {
   "cell_type": "code",
   "execution_count": 9,
   "metadata": {
    "collapsed": true
   },
   "outputs": [],
   "source": [
    "fe = gmx.FreeEnergyController()\n",
    "em_steep.free_energy_controller = fe\n",
    "\n",
    "\n",
    "# fe.delta_lambda = 0\n",
    "# fe.calculate_lambda_neighbors = 1\n",
    "\n",
    "# This will be set by an ensemble_modifier is the workflow has one. There is no need to do it now.\n",
    "# fe.initial_lambda_state = 0\n",
    "\n",
    "fe.fep_lambdas = [0]*21\n",
    "fe.van_der_waals_lambdas = [x*0.05 for x in range(21)]\n",
    "\n",
    "fe.soft_core_alpha = 0.5\n",
    "fe.soft_core_coulomb = False\n",
    "fe.soft_core_power = 1\n",
    "fe.soft_core_sigma = 0.3\n",
    "\n",
    "fe.couple_molecule_groups = 'Methane'\n",
    "fe.couple_type_initial_lambda = 'vdw'\n",
    "fe.couple_type_final_lambda = 'none'\n",
    "fe.couple_intramolecular = False\n",
    "\n",
    "fe.output_frequency = 10"
   ]
  },
  {
   "cell_type": "code",
   "execution_count": 10,
   "metadata": {
    "collapsed": true
   },
   "outputs": [],
   "source": [
    "em_steep.constraints.continuation = False\n",
    "em_steep.constraints.type = gmx.ConstraintType.h_bonds\n",
    "em_steep.constraints.algorithm = gmx.ConstraintAlgorithmType.lincs\n",
    "em_steep.constraints.lincs_order = 12"
   ]
  },
  {
   "cell_type": "markdown",
   "metadata": {
    "collapsed": true
   },
   "source": [
    "Next energy minimization step"
   ]
  },
  {
   "cell_type": "code",
   "execution_count": 11,
   "metadata": {
    "collapsed": true
   },
   "outputs": [],
   "source": [
    "em_bfgs = next(em_steep)"
   ]
  },
  {
   "cell_type": "code",
   "execution_count": 12,
   "metadata": {
    "collapsed": true
   },
   "outputs": [],
   "source": [
    "em_bfgs.integrator = gmx.Integrator.l_bfgs\n",
    "em_bfgs.constraints.type = gmx.ConstraintType.none\n",
    "em_bfgs.name = 'em_bfgs'"
   ]
  },
  {
   "cell_type": "code",
   "execution_count": 13,
   "metadata": {
    "collapsed": true
   },
   "outputs": [],
   "source": [
    "nvt = next(em_bfgs)\n",
    "nvt.name = 'nvt'"
   ]
  },
  {
   "cell_type": "code",
   "execution_count": 14,
   "metadata": {
    "collapsed": true
   },
   "outputs": [],
   "source": [
    "nvt.integrator = 'sd'\n",
    "nvt.delta_time = 0.002\n",
    "nvt.number_of_steps = 50000\n",
    "nvt.com_motion_removal_frequency = 100\n",
    "\n",
    "nvt.generate_velocities = True\n",
    "nvt.generate_temperature = 300"
   ]
  },
  {
   "cell_type": "code",
   "execution_count": 15,
   "metadata": {
    "collapsed": true
   },
   "outputs": [],
   "source": [
    "nvt.temperature_controller.groups = 'system'\n",
    "nvt.temperature_controller.time = 1\n",
    "nvt.temperature_controller.temperature = 300"
   ]
  },
  {
   "cell_type": "markdown",
   "metadata": {},
   "source": [
    "## Simulation and Workflow"
   ]
  },
  {
   "cell_type": "code",
   "execution_count": 16,
   "metadata": {
    "collapsed": true
   },
   "outputs": [],
   "source": [
    "from bac.simulate import Workflow, Replica, LambdaWindow"
   ]
  },
  {
   "cell_type": "code",
   "execution_count": 17,
   "metadata": {
    "collapsed": true
   },
   "outputs": [],
   "source": [
    "wf = Workflow(resource='MPB', name='MeOH_H2O')"
   ]
  },
  {
   "cell_type": "code",
   "execution_count": 18,
   "metadata": {
    "collapsed": true
   },
   "outputs": [],
   "source": [
    "wf.add_simulation(em_steep)\n",
    "wf.add_simulation(em_bfgs)\n",
    "wf.add_simulation(nvt)"
   ]
  },
  {
   "cell_type": "code",
   "execution_count": 19,
   "metadata": {
    "collapsed": true
   },
   "outputs": [],
   "source": [
    "wf.ensembles = [Replica(number_of=5), LambdaWindow(number_of_states=5)]"
   ]
  },
  {
   "cell_type": "code",
   "execution_count": 20,
   "metadata": {},
   "outputs": [],
   "source": [
    "# wf.preprocess_simulations(execute=False)"
   ]
  },
  {
   "cell_type": "code",
   "execution_count": 21,
   "metadata": {},
   "outputs": [],
   "source": [
    "# wf.generic_executable()"
   ]
  },
  {
   "cell_type": "code",
   "execution_count": 22,
   "metadata": {},
   "outputs": [],
   "source": [
    "wf.write_generic_bash_executable(path=wf.path)"
   ]
  },
  {
   "cell_type": "code",
   "execution_count": null,
   "metadata": {
    "collapsed": true
   },
   "outputs": [],
   "source": []
  }
 ],
 "metadata": {
  "kernelspec": {
   "display_name": "Python 3",
   "language": "python",
   "name": "python3"
  },
  "language_info": {
   "codemirror_mode": {
    "name": "ipython",
    "version": 3
   },
   "file_extension": ".py",
   "mimetype": "text/x-python",
   "name": "python",
   "nbconvert_exporter": "python",
   "pygments_lexer": "ipython3",
   "version": "3.6.0"
  }
 },
 "nbformat": 4,
 "nbformat_minor": 1
}
