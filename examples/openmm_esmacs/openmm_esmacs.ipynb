{
 "cells": [
  {
   "cell_type": "code",
   "execution_count": 93,
   "metadata": {
    "collapsed": true
   },
   "outputs": [],
   "source": [
    "import simtk.openmm.app as app\n",
    "import simtk.openmm as mm\n",
    "import simtk.unit as u\n",
    "\n",
    "import mdtraj\n",
    "import numpy as np\n",
    "\n",
    "import parmed as pmd"
   ]
  },
  {
   "cell_type": "markdown",
   "metadata": {},
   "source": [
    "## System"
   ]
  },
  {
   "cell_type": "code",
   "execution_count": 82,
   "metadata": {
    "collapsed": true
   },
   "outputs": [],
   "source": [
    "prmtop = app.AmberPrmtopFile('complex.top')\n",
    "pdb = app.PDBFile('complex.pdb')\n",
    "system = prmtop.createSystem(nonbondedMethod=app.PME, \n",
    "                             constraints=app.HBonds, \n",
    "                             nonbondedCutoff=12*u.angstroms, \n",
    "                             switchDistance=10*u.angstroms)\n",
    "topology = mdtraj.Topology.from_openmm(prmtop.topology)\n",
    "\n",
    "\n",
    "total_steps = 10000 # Reducing for testing purposes 4000000"
   ]
  },
  {
   "cell_type": "code",
   "execution_count": null,
   "metadata": {
    "collapsed": true
   },
   "outputs": [],
   "source": []
  },
  {
   "cell_type": "markdown",
   "metadata": {},
   "source": [
    "## Integrator, forces and restraints"
   ]
  },
  {
   "cell_type": "code",
   "execution_count": 83,
   "metadata": {
    "collapsed": true
   },
   "outputs": [],
   "source": [
    "integrator = mm.LangevinIntegrator(50*u.kelvin, 1/u.picosecond, 0.002*u.picoseconds)"
   ]
  },
  {
   "cell_type": "code",
   "execution_count": 84,
   "metadata": {
    "collapsed": true
   },
   "outputs": [],
   "source": [
    "barostat = mm.MonteCarloBarostat(1.0*u.bar, 300*u.kelvin)"
   ]
  },
  {
   "cell_type": "code",
   "execution_count": 5,
   "metadata": {},
   "outputs": [
    {
     "data": {
      "text/plain": [
       "2"
      ]
     },
     "execution_count": 5,
     "metadata": {},
     "output_type": "execute_result"
    }
   ],
   "source": [
    "atoms_to_restrain = topology.select('not water and not type H')\n",
    "default_k = 4.0*u.kilocalories_per_mole/u.angstroms**2\n",
    "\n",
    "harmonic_restraint = mm.CustomExternalForce(\"k*((x-x0)^2+(y-y0)^2+(z-z0)^2)\")\n",
    "harmonic_restraint.addGlobalParameter('k', default_k)\n",
    "harmonic_restraint.addPerParticleParameter(\"x0\")\n",
    "harmonic_restraint.addPerParticleParameter(\"y0\")\n",
    "harmonic_restraint.addPerParticleParameter(\"z0\")\n"
   ]
  },
  {
   "cell_type": "code",
   "execution_count": 72,
   "metadata": {
    "collapsed": true
   },
   "outputs": [],
   "source": [
    "atoms_to_restrain = topology.select('not water and not type H')"
   ]
  },
  {
   "cell_type": "markdown",
   "metadata": {},
   "source": [
    "## Init simulation and positions"
   ]
  },
  {
   "cell_type": "code",
   "execution_count": 6,
   "metadata": {},
   "outputs": [
    {
     "data": {
      "text/plain": [
       "5"
      ]
     },
     "execution_count": 6,
     "metadata": {},
     "output_type": "execute_result"
    }
   ],
   "source": [
    "for atomindex in atoms_to_restrain:\n",
    "    position = pdb.positions[atomindex]\n",
    "    harmonic_restraint.addParticle(int(atomindex), position.value_in_unit_system(u.md_unit_system))\n",
    "\n",
    "system.addForce(harmonic_restraint)"
   ]
  },
  {
   "cell_type": "code",
   "execution_count": 85,
   "metadata": {
    "collapsed": true
   },
   "outputs": [],
   "source": [
    "simulation = app.Simulation(prmtop.topology, system, integrator)\n",
    "\n",
    "simulation.context.setPositions(pdb.positions)\n",
    "simulation.context.setVelocitiesToTemperature(50*u.kelvin)"
   ]
  },
  {
   "cell_type": "code",
   "execution_count": 97,
   "metadata": {
    "collapsed": true
   },
   "outputs": [],
   "source": [
    "a = pmd.load_file('complex.top', 'complex.pdb')"
   ]
  },
  {
   "cell_type": "code",
   "execution_count": 98,
   "metadata": {},
   "outputs": [
    {
     "data": {
      "text/plain": [
       "{'bond': -81778.19281181952, 'total': -81778.19279602532}"
      ]
     },
     "execution_count": 98,
     "metadata": {},
     "output_type": "execute_result"
    }
   ],
   "source": [
    "pmd.openmm.energy_decomposition(a, simulation.context)"
   ]
  },
  {
   "cell_type": "code",
   "execution_count": 99,
   "metadata": {
    "collapsed": true
   },
   "outputs": [],
   "source": [
    "s = simulation.context.getSystem()"
   ]
  },
  {
   "cell_type": "code",
   "execution_count": 100,
   "metadata": {},
   "outputs": [
    {
     "data": {
      "text/plain": [
       "[<simtk.openmm.openmm.HarmonicBondForce; proxy of <Swig Object of type 'OpenMM::HarmonicBondForce *' at 0x618900420> >,\n",
       " <simtk.openmm.openmm.HarmonicAngleForce; proxy of <Swig Object of type 'OpenMM::HarmonicAngleForce *' at 0x613693180> >,\n",
       " <simtk.openmm.openmm.PeriodicTorsionForce; proxy of <Swig Object of type 'OpenMM::PeriodicTorsionForce *' at 0x6136931e0> >,\n",
       " <simtk.openmm.openmm.NonbondedForce; proxy of <Swig Object of type 'OpenMM::NonbondedForce *' at 0x613693240> >,\n",
       " <simtk.openmm.openmm.CMMotionRemover; proxy of <Swig Object of type 'OpenMM::CMMotionRemover *' at 0x61513e2a0> >]"
      ]
     },
     "execution_count": 100,
     "metadata": {},
     "output_type": "execute_result"
    }
   ],
   "source": [
    "s.getForces()\n"
   ]
  },
  {
   "cell_type": "code",
   "execution_count": 104,
   "metadata": {},
   "outputs": [
    {
     "data": {
      "text/plain": [
       "Unit({BaseUnit(base_dim=BaseDimension(\"length\"), name=\"nanometer\", symbol=\"nm\"): 1.0})"
      ]
     },
     "execution_count": 104,
     "metadata": {},
     "output_type": "execute_result"
    }
   ],
   "source": [
    "u.nanometers"
   ]
  },
  {
   "cell_type": "markdown",
   "metadata": {
    "collapsed": true
   },
   "source": [
    "## Minimize energy\n",
    "100 steps while gradually releasing the constraints then\n",
    "1000 steps with no constraints"
   ]
  },
  {
   "cell_type": "code",
   "execution_count": 35,
   "metadata": {
    "collapsed": true
   },
   "outputs": [],
   "source": [
    "for scaled_k in default_k*10*np.logspace(0, 10, num=11, base=0.5):\n",
    "    simulation.context.setParameter('k', scaled_k)\n",
    "    simulation.minimizeEnergy(maxIterations=1)\n",
    "    \n",
    "simulation.context.setParameter('k', 0)\n",
    "simulation.minimizeEnergy(maxIterations=10)"
   ]
  },
  {
   "cell_type": "markdown",
   "metadata": {},
   "source": [
    "## Heating"
   ]
  },
  {
   "cell_type": "code",
   "execution_count": 9,
   "metadata": {
    "collapsed": true
   },
   "outputs": [],
   "source": [
    "state = simulation.context.getState(getPositions=True)\n",
    "positions = state.getPositions()\n",
    "\n",
    "for restraint in range(harmonic_restraint.getNumParticles()):\n",
    "    atomindex, _ = harmonic_restraint.getParticleParameters(restraint)\n",
    "    position = positions[atomindex]\n",
    "    harmonic_restraint.setParticleParameters(restraint ,atomindex, position.value_in_unit_system(u.md_unit_system))\n",
    "\n",
    "harmonic_restraint.updateParametersInContext(simulation.context)\n",
    "simulation.context.setParameter('k', default_k)"
   ]
  },
  {
   "cell_type": "code",
   "execution_count": 4,
   "metadata": {},
   "outputs": [],
   "source": [
    "for temperature in np.linspace(50, 300, 251)*u.kelvin:\n",
    "    integrator.setTemperature(temperature)\n",
    "    simulation.step(10)\n",
    "    print(simulation.context.getState(getEnergy=True).getKineticEnergy(),\n",
    "          simulation.context.getState(getEnergy=True).getPotentialEnergy(),\n",
    "          integrator.getTemperature())\n",
    "    \n",
    "simulation.step(5000)"
   ]
  },
  {
   "cell_type": "markdown",
   "metadata": {},
   "source": [
    "## Equilibrate"
   ]
  },
  {
   "cell_type": "code",
   "execution_count": 13,
   "metadata": {},
   "outputs": [
    {
     "data": {
      "text/plain": [
       "6"
      ]
     },
     "execution_count": 13,
     "metadata": {},
     "output_type": "execute_result"
    }
   ],
   "source": [
    "simulation.system.addForce(barostat)"
   ]
  },
  {
   "cell_type": "code",
   "execution_count": 20,
   "metadata": {
    "collapsed": true
   },
   "outputs": [],
   "source": [
    "state = simulation.context.getState(getPositions=True)\n",
    "positions = state.getPositions()\n",
    "\n",
    "for restraint in range(harmonic_restraint.getNumParticles()):\n",
    "    atomindex, _ = harmonic_restraint.getParticleParameters(restraint)\n",
    "    position = positions[atomindex]\n",
    "    harmonic_restraint.setParticleParameters(restraint ,atomindex, position.value_in_unit_system(u.md_unit_system))\n",
    "\n",
    "harmonic_restraint.updateParametersInContext(simulation.context)"
   ]
  },
  {
   "cell_type": "code",
   "execution_count": 21,
   "metadata": {
    "collapsed": true
   },
   "outputs": [],
   "source": [
    "for scaled_k in default_k*10*np.logspace(0, 10, num=11, base=0.5):\n",
    "    simulation.context.setParameter('k', scaled_k)\n",
    "    simulation.step(50000)\n",
    "    \n",
    "simulation.context.setParameter('k', 0)\n",
    "simulation.step(470000)\n",
    "\n",
    "simulation.saveState('equilibrated.xml')"
   ]
  },
  {
   "cell_type": "code",
   "execution_count": null,
   "metadata": {
    "collapsed": true
   },
   "outputs": [],
   "source": []
  },
  {
   "cell_type": "markdown",
   "metadata": {},
   "source": [
    "## Production"
   ]
  },
  {
   "cell_type": "code",
   "execution_count": 41,
   "metadata": {
    "collapsed": true
   },
   "outputs": [],
   "source": [
    "simulation.reporters.append(CheckpointReporter('checkpnt.chk', 200000))\n",
    "simulation.reporters.append(DCDReporter('simulation.dcd', 5000))\n",
    "simulation.reporters.append(StateDataReporter('simulation.log', 10000 ,\n",
    "                                              step=True, \n",
    "                                              time=True, \n",
    "                                              totalEnergy=True))"
   ]
  },
  {
   "cell_type": "code",
   "execution_count": 39,
   "metadata": {
    "collapsed": true
   },
   "outputs": [],
   "source": [
    "simulation.step(2000000)"
   ]
  }
 ],
 "metadata": {
  "kernelspec": {
   "display_name": "Python 3",
   "language": "python",
   "name": "python3"
  },
  "language_info": {
   "codemirror_mode": {
    "name": "ipython",
    "version": 3
   },
   "file_extension": ".py",
   "mimetype": "text/x-python",
   "name": "python",
   "nbconvert_exporter": "python",
   "pygments_lexer": "ipython3",
   "version": "3.6.3"
  }
 },
 "nbformat": 4,
 "nbformat_minor": 2
}
