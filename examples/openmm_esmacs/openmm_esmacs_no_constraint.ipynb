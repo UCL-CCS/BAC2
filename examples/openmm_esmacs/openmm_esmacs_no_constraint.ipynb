{
 "cells": [
  {
   "cell_type": "code",
   "execution_count": 42,
   "metadata": {
    "collapsed": true
   },
   "outputs": [],
   "source": [
    "import simtk.openmm.app as app\n",
    "import simtk.openmm as mm\n",
    "import simtk.unit as u\n",
    "\n",
    "import mdtraj\n",
    "import numpy as np\n",
    "\n",
    "import time"
   ]
  },
  {
   "cell_type": "markdown",
   "metadata": {},
   "source": [
    "## System"
   ]
  },
  {
   "cell_type": "code",
   "execution_count": 16,
   "metadata": {
    "collapsed": true
   },
   "outputs": [],
   "source": [
    "prmtop = app.AmberPrmtopFile('complex.top')\n",
    "pdb = app.PDBFile('complex.pdb')\n",
    "system = prmtop.createSystem(nonbondedMethod=app.PME, \n",
    "                             constraints=app.HBonds, \n",
    "                             nonbondedCutoff=12*u.angstroms, \n",
    "                             switchDistance=10*u.angstroms)\n",
    "topology = mdtraj.Topology.from_openmm(prmtop.topology)\n",
    "\n",
    "total_steps = 100000 # Reducing for testing purposes 3000000"
   ]
  },
  {
   "cell_type": "markdown",
   "metadata": {},
   "source": [
    "## Integrator, forces and restraints"
   ]
  },
  {
   "cell_type": "code",
   "execution_count": 17,
   "metadata": {
    "collapsed": true
   },
   "outputs": [],
   "source": [
    "integrator = mm.LangevinIntegrator(50*u.kelvin, 5/u.picosecond, 0.002*u.picoseconds)"
   ]
  },
  {
   "cell_type": "code",
   "execution_count": 18,
   "metadata": {
    "collapsed": true
   },
   "outputs": [],
   "source": [
    "barostat = mm.MonteCarloBarostat(1.0*u.bar, 300*u.kelvin)"
   ]
  },
  {
   "cell_type": "markdown",
   "metadata": {},
   "source": [
    "## Init simulation and positions"
   ]
  },
  {
   "cell_type": "code",
   "execution_count": 19,
   "metadata": {
    "collapsed": true
   },
   "outputs": [],
   "source": [
    "simulation = app.Simulation(prmtop.topology, system, integrator)\n",
    "\n",
    "simulation.context.setPositions(pdb.positions)\n",
    "simulation.context.setVelocitiesToTemperature(50*u.kelvin)"
   ]
  },
  {
   "cell_type": "markdown",
   "metadata": {
    "collapsed": true
   },
   "source": [
    "## Minimize energy\n",
    "100 steps while gradually releasing the constraints then\n",
    "1000 steps with no constraints"
   ]
  },
  {
   "cell_type": "code",
   "execution_count": 20,
   "metadata": {
    "collapsed": true
   },
   "outputs": [],
   "source": [
    "simulation.minimizeEnergy(maxIterations=1000)"
   ]
  },
  {
   "cell_type": "markdown",
   "metadata": {},
   "source": [
    "## Heating"
   ]
  },
  {
   "cell_type": "code",
   "execution_count": 21,
   "metadata": {
    "collapsed": true
   },
   "outputs": [],
   "source": [
    "for temperature in np.linspace(50, 300, 251)*u.kelvin:\n",
    "    integrator.setTemperature(temperature)\n",
    "    simulation.step(100)\n",
    "    \n",
    "simulation.step(5000)"
   ]
  },
  {
   "cell_type": "markdown",
   "metadata": {},
   "source": [
    "## Equilibrate"
   ]
  },
  {
   "cell_type": "code",
   "execution_count": 29,
   "metadata": {},
   "outputs": [
    {
     "ename": "Exception",
     "evalue": "the System object does not own its corresponding OpenMM object",
     "output_type": "error",
     "traceback": [
      "\u001b[0;31m---------------------------------------------------------------------------\u001b[0m",
      "\u001b[0;31mException\u001b[0m                                 Traceback (most recent call last)",
      "\u001b[0;32m<ipython-input-29-af6bd2509e55>\u001b[0m in \u001b[0;36m<module>\u001b[0;34m()\u001b[0m\n\u001b[0;32m----> 1\u001b[0;31m \u001b[0msimulation\u001b[0m\u001b[0;34m.\u001b[0m\u001b[0msystem\u001b[0m\u001b[0;34m.\u001b[0m\u001b[0maddForce\u001b[0m\u001b[0;34m(\u001b[0m\u001b[0mbarostat\u001b[0m\u001b[0;34m)\u001b[0m\u001b[0;34m\u001b[0m\u001b[0m\n\u001b[0m",
      "\u001b[0;32m~/anaconda3/lib/python3.6/site-packages/simtk/openmm/openmm.py\u001b[0m in \u001b[0;36maddForce\u001b[0;34m(self, force)\u001b[0m\n\u001b[1;32m  18186\u001b[0m             s = (\"the %s object does not own its corresponding OpenMM object\"\n\u001b[1;32m  18187\u001b[0m                  % self.__class__.__name__)\n\u001b[0;32m> 18188\u001b[0;31m             \u001b[0;32mraise\u001b[0m \u001b[0mException\u001b[0m\u001b[0;34m(\u001b[0m\u001b[0ms\u001b[0m\u001b[0;34m)\u001b[0m\u001b[0;34m\u001b[0m\u001b[0m\n\u001b[0m\u001b[1;32m  18189\u001b[0m \u001b[0;34m\u001b[0m\u001b[0m\n\u001b[1;32m  18190\u001b[0m \u001b[0;34m\u001b[0m\u001b[0m\n",
      "\u001b[0;31mException\u001b[0m: the System object does not own its corresponding OpenMM object"
     ]
    }
   ],
   "source": [
    "simulation.system.addForce(barostat)"
   ]
  },
  {
   "cell_type": "code",
   "execution_count": 30,
   "metadata": {
    "collapsed": true
   },
   "outputs": [],
   "source": [
    "simulation.step(int(total_steps*1/3))\n",
    "\n",
    "simulation.saveState('equilibrated.xml')"
   ]
  },
  {
   "cell_type": "markdown",
   "metadata": {},
   "source": [
    "## Production"
   ]
  },
  {
   "cell_type": "code",
   "execution_count": 46,
   "metadata": {},
   "outputs": [],
   "source": [
    "simulation.reporters.append(app.CheckpointReporter('checkpnt.chk', int(total_steps/10)))\n",
    "simulation.reporters.append(app.DCDReporter('simulation.dcd', int(total_steps/400)))\n",
    "simulation.reporters.append(app.StateDataReporter('simulation.log', int(total_steps/200) ,\n",
    "                                              step=True, \n",
    "                                              time=True, \n",
    "                                              totalEnergy=True))"
   ]
  },
  {
   "cell_type": "code",
   "execution_count": 39,
   "metadata": {
    "collapsed": true
   },
   "outputs": [],
   "source": [
    "simulation.step(int(total_steps*2/3))\n",
    "print()"
   ]
  },
  {
   "cell_type": "code",
   "execution_count": 44,
   "metadata": {},
   "outputs": [
    {
     "name": "stdout",
     "output_type": "stream",
     "text": [
      "Benchmarking...\n",
      "completed   100000 steps in    0.000 s : performance is 233798622.968 ns/day\n"
     ]
    }
   ],
   "source": [
    "print('Benchmarking...')\n",
    "initial_time = time.time()\n",
    "\n",
    "final_time = time.time()\n",
    "elapsed_time = (final_time - initial_time) * u.seconds\n",
    "simulated_time = total_steps * integrator.getStepSize()\n",
    "performance = (simulated_time / elapsed_time)\n",
    "print('completed %8d steps in %8.3f s : performance is %8.3f ns/day' % (total_steps, elapsed_time / u.seconds, performance / (u.nanoseconds/u.day)))"
   ]
  },
  {
   "cell_type": "code",
   "execution_count": 47,
   "metadata": {},
   "outputs": [
    {
     "name": "stdout",
     "output_type": "stream",
     "text": [
      "1510920335.190455\n"
     ]
    }
   ],
   "source": [
    "print(time.time())"
   ]
  },
  {
   "cell_type": "code",
   "execution_count": null,
   "metadata": {
    "collapsed": true
   },
   "outputs": [],
   "source": []
  }
 ],
 "metadata": {
  "kernelspec": {
   "display_name": "Python 3",
   "language": "python",
   "name": "python3"
  },
  "language_info": {
   "codemirror_mode": {
    "name": "ipython",
    "version": 3
   },
   "file_extension": ".py",
   "mimetype": "text/x-python",
   "name": "python",
   "nbconvert_exporter": "python",
   "pygments_lexer": "ipython3",
   "version": "3.6.3"
  }
 },
 "nbformat": 4,
 "nbformat_minor": 2
}
