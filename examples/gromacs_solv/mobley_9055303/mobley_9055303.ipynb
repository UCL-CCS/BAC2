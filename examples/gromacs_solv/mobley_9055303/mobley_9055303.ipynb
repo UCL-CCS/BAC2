{
 "cells": [
  {
   "cell_type": "markdown",
   "metadata": {},
   "source": [
    "# This is a BAC tutorial\n",
    "#### Enjoy!"
   ]
  },
  {
   "cell_type": "markdown",
   "metadata": {},
   "source": [
    "## Import modules"
   ]
  },
  {
   "cell_type": "code",
   "execution_count": null,
   "metadata": {
    "collapsed": true
   },
   "outputs": [],
   "source": [
    "from bac.simulate.gromacs import (Simulation, Integrator, CenterOfMassMotion, CoulombType, CoulombModifierType, \n",
    "                                  VanDerWaalsModifierType, LongRangeDispersionCorrectionType, ConstraintType, \n",
    "                                  CouplingType, TemperatureCouplingType, PressureCouplingType)\n",
    "from pathlib import Path"
   ]
  },
  {
   "cell_type": "markdown",
   "metadata": {},
   "source": [
    "## STEP1: Minimize\n",
    "The first step of our simulation is to minimize our system. The beauty of BAC is that once you create your\n",
    "first simulation object, the next ones (see Step 2.) are very easy to creat."
   ]
  },
  {
   "cell_type": "code",
   "execution_count": 2,
   "metadata": {
    "collapsed": true
   },
   "outputs": [],
   "source": [
    "minimize = Simulation(integrator=Integrator.steep)\n",
    "minimize.delta_time = 0.002\n",
    "minimize.number_of_steps = 2500\n",
    "minimize.center_of_mass_motion = CenterOfMassMotion.linear\n",
    "\n",
    "minimize.minimization_tolerance = 100\n",
    "\n",
    "minimize.generate_velocities = True\n",
    "minimize.generate_temperature = 298.15\n",
    "\n",
    "minimize.energy_log_output_frequency = 100\n",
    "minimize.recalculate_energies_frequency = 100\n",
    "minimize.energy_output_frequency = 100\n"
   ]
  },
  {
   "cell_type": "code",
   "execution_count": 3,
   "metadata": {
    "collapsed": true
   },
   "outputs": [],
   "source": [
    "nbc = minimize.non_bonded_controller\n",
    "\n",
    "nbc.cutoff = 1.2\n",
    "nbc.coulomb_type = CoulombType.pme\n",
    "nbc.coulomb_modifier = CoulombModifierType.potential_shift_verlet\n",
    "nbc.coulomb_cutoff = 1.2\n",
    "\n",
    "nbc.van_der_waals_modifier = VanDerWaalsModifierType.potential_switch\n",
    "nbc.van_der_waals_switch_cutoff = 0.9\n",
    "nbc.van_der_waals_cutoff = 1.2\n",
    "\n",
    "nbc.correct_long_range_dispersion = LongRangeDispersionCorrectionType.energy_and_pressure\n",
    "\n",
    "nbc.pme_order = 6\n",
    "nbc.ewald_tolerance_coulomb = 1e-06"
   ]
  },
  {
   "cell_type": "code",
   "execution_count": 4,
   "metadata": {
    "collapsed": true
   },
   "outputs": [],
   "source": [
    "minimize.temperature_controller.time = 2.0\n",
    "minimize.temperature_controller.temperature = 298.15\n",
    "\n",
    "minimize.pressure_controller.compressibility = 4.5e-5\n",
    "minimize.pressure_controller.pressure = 1.01325"
   ]
  },
  {
   "cell_type": "code",
   "execution_count": 2,
   "metadata": {},
   "outputs": [],
   "source": [
    "minimize.constraints.type = ConstraintType.h_bonds\n",
    "minimize.constraints.lincs_order = 12"
   ]
  },
  {
   "cell_type": "code",
   "execution_count": 6,
   "metadata": {
    "collapsed": true
   },
   "outputs": [],
   "source": [
    "minimize.free_energy_controller = gmx.FreeEnergyController()\n",
    "fe = minimize.free_energy_controller\n",
    "fe.couple_molecule_groups = 'mobley_9055303'\n",
    "fe.couple_type_initial_lambda = CouplingType.vdw_and_coulomb\n",
    "fe.couple_type_final_lambda = CouplingType.none\n",
    "fe.initial_lambda_state = 0\n",
    "fe.fep_lambdas = [0.0, 0.25, 0.5, 0.75] + [1.0]*16\n",
    "fe.van_der_waals_lambdas = [0.0]*5 + [0.05, 0.10, 0.2, 0.30, 0.4, 0.50, 0.6, 0.65, \n",
    "                                      0.70, 0.75, 0.8, 0.85, 0.9, 0.95, 1.0]\n",
    "fe.calculate_lambda_neighbors = -1\n",
    "\n",
    "fe.soft_core_alpha = 0.5\n",
    "fe.soft_core_power = 1"
   ]
  },
  {
   "cell_type": "code",
   "execution_count": 7,
   "metadata": {
    "collapsed": true
   },
   "outputs": [],
   "source": [
    "minimize.coordinates = 'mobley_9055303.gro'\n",
    "minimize.topology = 'mobley_9055303.top'\n",
    "minimize.name = 'minimize'"
   ]
  },
  {
   "cell_type": "markdown",
   "metadata": {},
   "source": [
    "# STEP2: NVT equilibration\n",
    "Just call the `next(previous_step)` function to get the next step. This sets all input and outputs for you. Change the name and integrator."
   ]
  },
  {
   "cell_type": "code",
   "execution_count": 8,
   "metadata": {
    "collapsed": true
   },
   "outputs": [],
   "source": [
    "equilibration_nvt = next(minimize)\n",
    "equilibration_nvt.name = 'equilibration_nvt'\n",
    "equilibration_nvt.integrator = Integrator.sd\n",
    "equilibration_nvt.number_of_steps = 25000"
   ]
  },
  {
   "cell_type": "markdown",
   "metadata": {},
   "source": [
    "# STEP 3: NPT eq"
   ]
  },
  {
   "cell_type": "code",
   "execution_count": 9,
   "metadata": {
    "collapsed": true
   },
   "outputs": [],
   "source": [
    "equilibration_npt = next(equilibration_nvt)\n",
    "equilibration_npt.name = 'equilibration_npt_1'\n",
    "equilibration_npt.temperature_controller.type = TemperatureCouplingType.berendsen\n",
    "equilibration_npt.temperature_controller.time = 0.1\n",
    "equilibration_npt.pressure_controller.type = PressureCouplingType.berendsen\n",
    "equilibration_npt.generate_velocities = False\n",
    "equilibration_npt.constraints.continuation = True"
   ]
  },
  {
   "cell_type": "markdown",
   "metadata": {},
   "source": [
    "# STEP 4: NPT eq 2"
   ]
  },
  {
   "cell_type": "code",
   "execution_count": 10,
   "metadata": {
    "collapsed": true
   },
   "outputs": [],
   "source": [
    "equilibration_npt_2 = next(equilibration_npt)\n",
    "equilibration_npt_2.name = 'equilibration_npt_2'\n",
    "equilibration_npt_2.temperature_controller.type = TemperatureCouplingType.no\n",
    "equilibration_npt_2.temperature_controller.time = 2.0\n",
    "equilibration_npt_2.pressure_controller.type = PressureCouplingType.parrinello_rahman\n",
    "equilibration_npt_2.pressure_controller.time = 10"
   ]
  },
  {
   "cell_type": "markdown",
   "metadata": {},
   "source": [
    "# STEP 5: Production baby!"
   ]
  },
  {
   "cell_type": "code",
   "execution_count": 11,
   "metadata": {
    "collapsed": true
   },
   "outputs": [],
   "source": [
    "prod = next(equilibration_npt_2)\n",
    "prod.name = 'production'\n",
    "prod.number_of_steps = 250_000\n",
    "prod.compressed_coordinate_output_frequency = 1000\n",
    "prod.constraints.continuation = False"
   ]
  },
  {
   "cell_type": "markdown",
   "metadata": {},
   "source": [
    "# Workflow"
   ]
  },
  {
   "cell_type": "code",
   "execution_count": 12,
   "metadata": {
    "collapsed": true
   },
   "outputs": [],
   "source": [
    "from bac.simulate import Workflow, Replica, LambdaWindow"
   ]
  },
  {
   "cell_type": "code",
   "execution_count": 13,
   "metadata": {
    "collapsed": true
   },
   "outputs": [],
   "source": [
    "wf = Workflow(resource='bluewaters', r_dir='mobley_9055303')"
   ]
  },
  {
   "cell_type": "code",
   "execution_count": 14,
   "metadata": {
    "collapsed": true
   },
   "outputs": [],
   "source": [
    "wf.add_simulation(minimize)\n",
    "wf.add_simulation(equilibration_nvt)\n",
    "wf.add_simulation(equilibration_npt)\n",
    "wf.add_simulation(equilibration_npt_2)\n",
    "wf.add_simulation(prod)"
   ]
  },
  {
   "cell_type": "code",
   "execution_count": 15,
   "metadata": {
    "collapsed": true
   },
   "outputs": [],
   "source": [
    "wf.ensembles = [Replica(number_of=1), LambdaWindow(number_of_states=2)]"
   ]
  },
  {
   "cell_type": "code",
   "execution_count": 16,
   "metadata": {
    "collapsed": true
   },
   "outputs": [],
   "source": [
    "wf.preprocess_simulations()"
   ]
  },
  {
   "cell_type": "code",
   "execution_count": null,
   "metadata": {
    "collapsed": true
   },
   "outputs": [],
   "source": []
  },
  {
   "cell_type": "code",
   "execution_count": null,
   "metadata": {
    "collapsed": true
   },
   "outputs": [],
   "source": []
  }
 ],
 "metadata": {
  "kernelspec": {
   "display_name": "Python 3",
   "language": "python",
   "name": "python3"
  },
  "language_info": {
   "codemirror_mode": {
    "name": "ipython",
    "version": 3
   },
   "file_extension": ".py",
   "mimetype": "text/x-python",
   "name": "python",
   "nbconvert_exporter": "python",
   "pygments_lexer": "ipython3",
   "version": "3.6.2"
  }
 },
 "nbformat": 4,
 "nbformat_minor": 2
}
