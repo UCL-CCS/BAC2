{
 "cells": [
  {
   "cell_type": "code",
   "execution_count": 1,
   "metadata": {},
   "outputs": [],
   "source": [
    "from bac.simulate.namd import (Simulation, PME, BondConstraint, AtomConstraint, System,\n",
    "                               HarmonicConstraint, VelocityRescaling, VelocityReassignment,\n",
    "                               LangevinDynamics, BerendsenPressureCoupling, VerletIntegrator, \n",
    "                               Interaction)"
   ]
  },
  {
   "cell_type": "markdown",
   "metadata": {},
   "source": [
    "# Minimization steps.\n",
    "Minimization of the system is composed of 11 steps, with increseangly released constraints."
   ]
  },
  {
   "cell_type": "code",
   "execution_count": 2,
   "metadata": {},
   "outputs": [],
   "source": [
    "integrator = VerletIntegrator(timestep=2.0, first_step=100)\n",
    "\n",
    "minimize = Simulation(integrator=integrator, number_of_steps=100, temperature=300)"
   ]
  },
  {
   "cell_type": "code",
   "execution_count": 3,
   "metadata": {},
   "outputs": [],
   "source": [
    "minimize.minimization = True\n",
    "\n",
    "minimize.parameter_type_CHARMM = False\n",
    "minimize.amber = True\n",
    "minimize.parameters = 'build/complex.top'\n",
    "minimize.coordinates = 'build/complex.pdb'\n",
    "minimize.read_exclusions = False\n",
    "\n",
    "minimize.binary_output = False\n",
    "minimize.name = 'minimize_0'\n",
    "minimize.output_name = 'minimize_0'\n",
    "minimize.output_energies = 500\n",
    "minimize.output_pressure = 500"
   ]
  },
  {
   "cell_type": "code",
   "execution_count": 4,
   "metadata": {},
   "outputs": [],
   "source": [
    "s = System()\n",
    "s.excluded_interactions = Interaction.scaled_one_four\n",
    "s.one_four_scaling = 0.833333\n",
    "s.cutoff = 12\n",
    "s.switching = True\n",
    "s.switching_distance = 10\n",
    "s.pairlist_distance = 13.5\n",
    "\n",
    "s.non_bonded_frequency = 1\n",
    "s.full_elect_frequency = 2\n",
    "s.steps_per_cycle = 10\n",
    "\n",
    "s.pme = PME(grid_spacing=1.0)\n",
    "\n",
    "s.wrap_water = s.wrap_all = True\n",
    "s.cell_basis_vector_1 = 72.449, 0.000, 0.000\n",
    "s.cell_basis_vector_2 =  0.000, 93.247, 0.000\n",
    "s.cell_basis_vector_3 =  0.000, 0.000, 79.185\n",
    "s.cell_origin = -0.248, -0.156, -0.047\n",
    "\n",
    "minimize.system = s"
   ]
  },
  {
   "cell_type": "code",
   "execution_count": 5,
   "metadata": {},
   "outputs": [],
   "source": [
    "minimize.constraints.bond_constraint = BondConstraint(bonds='all', tolerance=0.00001, iterations=100)\n",
    "\n",
    "harm_const = HarmonicConstraint(exponent=2, reference_position_file='build/complex.pdb')\n",
    "harm_const.force_constant_file = 'constraint/f4.pdb'\n",
    "harm_const.force_constant_column = 'B'\n",
    "harm_const.scaling = 10\n",
    "minimize.constraints.harmonic_constraint = harm_const"
   ]
  },
  {
   "cell_type": "code",
   "execution_count": 6,
   "metadata": {},
   "outputs": [
    {
     "name": "stdout",
     "output_type": "stream",
     "text": [
      "Deleting cell vectors.\n",
      "Deleting cell vectors.\n",
      "Deleting cell vectors.\n",
      "Deleting cell vectors.\n",
      "Deleting cell vectors.\n",
      "Deleting cell vectors.\n",
      "Deleting cell vectors.\n",
      "Deleting cell vectors.\n",
      "Deleting cell vectors.\n"
     ]
    }
   ],
   "source": [
    "minimizations = [minimize]\n",
    "\n",
    "for scaling, index, n_steps in zip([10*0.5**index for index in range(1, 10)] + [0], range(1, 11), [100]*9+[5000]):\n",
    "    minim = next(minimizations[-1])\n",
    "    minim.name = f'minimize_{index}'\n",
    "    minim.output_name = f'minimize_{index}'\n",
    "    minim.constraints.harmonic_constraint.scaling = scaling\n",
    "    minim.number_of_steps = n_steps\n",
    "    minimizations.append(minim)"
   ]
  },
  {
   "cell_type": "code",
   "execution_count": 7,
   "metadata": {},
   "outputs": [
    {
     "name": "stdout",
     "output_type": "stream",
     "text": [
      "timestep                  = 2.0\n",
      "firsttimestep             = 100\n",
      "\n",
      "minimization              = on\n",
      "temperature               = 300.0\n",
      "coordinates               = build/complex.pdb\n",
      "parmfile                  = build/complex.top\n",
      "outputname                = minimize_0\n",
      "binaryoutput              = no\n",
      "dcdunitcell               = yes\n",
      "outputEnergies            = 500\n",
      "outputPressure            = 500\n",
      "amber                     = yes\n",
      "readexclusions            = no\n",
      "scnb                      = 2.0\n",
      "paraTypeXplor             = on\n",
      "paraTypeCharmm            = off\n",
      "gromacs                   = off\n",
      "cutoff                    = 12.0\n",
      "switching                 = on\n",
      "switchdist                = 10.0\n",
      "vdwForceSwitching         = off\n",
      "exclude                   = scaled1-4\n",
      "1-4scaling                = 0.833333\n",
      "dielectric                = 1.0\n",
      "nonbondedScaling          = 1.0\n",
      "vdwGeometricSigma         = False\n",
      "limitdist                 = 0.0\n",
      "LJcorrection              = False\n",
      "pairlistdist              = 13.5\n",
      "stepspercycle             = 10\n",
      "splitPatch                = hydrogen\n",
      "hgroupCutoff              = 2.5\n",
      "margin                    = 0.0\n",
      "pairlistMinProcs          = 1\n",
      "pairlistsPerCycle         = 2\n",
      "outputPairlists           = 0\n",
      "pairlistShrink            = 0.01\n",
      "pairlistGrow              = 0.01\n",
      "pairlistTrigger           = 0.3\n",
      "PME                       = yes\n",
      "PMETolerance              = 1e-05\n",
      "PMEInterpOrder            = 4\n",
      "PMEGridSpacing            = 1.0\n",
      "\n",
      "cellBasisVector1          = 72.449 0.0 0.0\n",
      "cellBasisVector2          = 0.0 93.247 0.0\n",
      "cellBasisVector3          = 0.0 0.0 79.185\n",
      "cellOrigin                = -0.248 -0.156 -0.047\n",
      "wrapWater                 = on\n",
      "wrapAll                   = on\n",
      "wrapNearest               = off\n",
      "waterModel                = tip3\n",
      "\n",
      "rigidBonds                = all\n",
      "rigidTolerance            = 1e-05\n",
      "rigidIterations           = 100\n",
      "rigidDieOnError           = on\n",
      "useSettle                 = on\n",
      "\n",
      "constraints               = on\n",
      "consexp                   = 2\n",
      "consref                   = build/complex.pdb\n",
      "conskfile                 = constraint/f4.pdb\n",
      "conskcol                  = B\n",
      "constraintScaling         = 10.0\n",
      "selectConstraints         = off\n",
      "selectConstrX             = off\n",
      "selectConstrY             = off\n",
      "selectConstrZ             = off\n",
      "\n",
      "\n",
      "\n",
      "minimize 100\n",
      "\n"
     ]
    }
   ],
   "source": [
    "print(minimize.encode())"
   ]
  },
  {
   "cell_type": "markdown",
   "metadata": {},
   "source": [
    "# Equilibration NVT"
   ]
  },
  {
   "cell_type": "code",
   "execution_count": 8,
   "metadata": {},
   "outputs": [],
   "source": [
    "equilibrate_1 = next(minimize)\n",
    "equilibrate_1.name = 'eq1'\n",
    "equilibrate_1.output_name = 'eq1'\n",
    "equilibrate_1.minimization = False\n",
    "\n",
    "# 5000 -> 1000\n",
    "equilibrate_1.number_of_steps = 1000\n",
    "\n",
    "equilibrate_1.temperature_controller = VelocityReassignment(frequency=100, increment=1, hold_at=300)\n",
    "\n",
    "equilibrate_1.restart_frequency = 50000\n",
    "equilibrate_1.system.xst_frequency = 5000\n",
    "equilibrate_1.dcd_frequency = 5000"
   ]
  },
  {
   "cell_type": "markdown",
   "metadata": {},
   "source": [
    "# Equilibration NPT"
   ]
  },
  {
   "cell_type": "code",
   "execution_count": 9,
   "metadata": {},
   "outputs": [
    {
     "name": "stdout",
     "output_type": "stream",
     "text": [
      "Deleting cell vectors.\n"
     ]
    },
    {
     "name": "stderr",
     "output_type": "stream",
     "text": [
      "/Users/kristofarkas/Developer/supproperty/supproperty/supproperty.py:113: UserWarning: 'BerendsenPressureCoupling' object has no attribute 'simulation'\n",
      "  warnings.warn(f'{e}')\n"
     ]
    }
   ],
   "source": [
    "equilibrate_2 = next(equilibrate_1)\n",
    "equilibrate_2.name = 'eq2_0'\n",
    "equilibrate_2.output_name = 'eq2_0'\n",
    "equilibrate_2.timestep = 1.0\n",
    "equilibrate_2.constraints.bond_constraint.bonds = 'water'\n",
    "equilibrate_2.temperature_controller = LangevinDynamics(temperature=300, damping=5, applies_to_hydrogen=False)\n",
    "equilibrate_2.pressure_controller = BerendsenPressureCoupling(target=1, compressibility=4.57e-5, relaxation_time=100, \n",
    "                                                              frequency=2, use_group_pressure=True)\n",
    "\n",
    "equilibrate_2.restart_frequency = 5000"
   ]
  },
  {
   "cell_type": "code",
   "execution_count": 10,
   "metadata": {},
   "outputs": [
    {
     "name": "stdout",
     "output_type": "stream",
     "text": [
      "Deleting cell vectors.\n",
      "Deleting cell vectors.\n",
      "Deleting cell vectors.\n",
      "Deleting cell vectors.\n",
      "Deleting cell vectors.\n",
      "Deleting cell vectors.\n",
      "Deleting cell vectors.\n",
      "Deleting cell vectors.\n",
      "Deleting cell vectors.\n",
      "Deleting cell vectors.\n"
     ]
    }
   ],
   "source": [
    "equilibrations = [equilibrate_2]\n",
    "\n",
    "for scaling, x in zip([10*0.5**x for x in range(1, 10)] + [0], range(1, 11)):\n",
    "    eq = next(equilibrations[-1])\n",
    "    eq.name = f'eq2_{x}'\n",
    "    eq.output_name = f'eq2_{x}'\n",
    "    eq.constraints.harmonic_constraint.scaling = scaling\n",
    "    equilibrations.append(eq)"
   ]
  },
  {
   "cell_type": "markdown",
   "metadata": {},
   "source": [
    "# Production"
   ]
  },
  {
   "cell_type": "code",
   "execution_count": 11,
   "metadata": {},
   "outputs": [
    {
     "name": "stdout",
     "output_type": "stream",
     "text": [
      "Deleting cell vectors.\n"
     ]
    }
   ],
   "source": [
    "production = next(equilibrations[-1])\n",
    "production.name = 'production'\n",
    "production.output_name = 'production'\n",
    "production.timestep = 2.0\n",
    "production.constraints.bond_constraint.bonds = 'all'\n",
    "production.constraints.harmonic_constraint = None\n",
    "production.restart_frequency = 200000"
   ]
  },
  {
   "cell_type": "markdown",
   "metadata": {},
   "source": [
    "# Workflow\n",
    "\n",
    "This is where Radical could fit in nicely"
   ]
  },
  {
   "cell_type": "code",
   "execution_count": 12,
   "metadata": {},
   "outputs": [],
   "source": [
    "from bac.simulate import Workflow, Replica"
   ]
  },
  {
   "cell_type": "code",
   "execution_count": 13,
   "metadata": {},
   "outputs": [],
   "source": [
    "wf = Workflow(resource='bw', r_dir='esmacs_bw')"
   ]
  },
  {
   "cell_type": "code",
   "execution_count": 14,
   "metadata": {},
   "outputs": [],
   "source": [
    "wf.simulations = minimizations + [equilibrate_1] + equilibrations + [production]"
   ]
  },
  {
   "cell_type": "code",
   "execution_count": 15,
   "metadata": {},
   "outputs": [],
   "source": [
    "wf.ensembles = [Replica(number_of=5)]"
   ]
  },
  {
   "cell_type": "code",
   "execution_count": 16,
   "metadata": {},
   "outputs": [],
   "source": [
    "# This command created the input files and puts them in a folder called esmacs_bw.\n",
    "wf.preprocess_simulations()"
   ]
  },
  {
   "cell_type": "code",
   "execution_count": 17,
   "metadata": {},
   "outputs": [
    {
     "data": {
      "text/plain": [
       "PosixPath('build/complex.top')"
      ]
     },
     "execution_count": 17,
     "metadata": {},
     "output_type": "execute_result"
    }
   ],
   "source": [
    "minimize.parameters"
   ]
  },
  {
   "cell_type": "code",
   "execution_count": null,
   "metadata": {},
   "outputs": [],
   "source": []
  }
 ],
 "metadata": {
  "kernelspec": {
   "display_name": "Python 3",
   "language": "python",
   "name": "python3"
  },
  "language_info": {
   "codemirror_mode": {
    "name": "ipython",
    "version": 3
   },
   "file_extension": ".py",
   "mimetype": "text/x-python",
   "name": "python",
   "nbconvert_exporter": "python",
   "pygments_lexer": "ipython3",
   "version": "3.6.5"
  }
 },
 "nbformat": 4,
 "nbformat_minor": 2
}
