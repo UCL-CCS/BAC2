{
 "cells": [
  {
   "cell_type": "code",
   "execution_count": 1,
   "metadata": {
    "collapsed": true
   },
   "outputs": [],
   "source": [
    "from bac.simulate.namd import (Simulation, NonBondedController, PME, BondConstraint, AtomConstraint, \n",
    "                               HarmonicConstraint, non_bonded_controller, VelocityRescaling, VelocityReassignment,\n",
    "                               LangevinDynamics, BerendsenPressureCoupling)"
   ]
  },
  {
   "cell_type": "markdown",
   "metadata": {},
   "source": [
    "# Minimization steps.\n",
    "Minimization of the system is composed of 11 steps, with increseangly released constraints."
   ]
  },
  {
   "cell_type": "code",
   "execution_count": 2,
   "metadata": {
    "collapsed": true
   },
   "outputs": [],
   "source": [
    "integrator = VerletIntegrator(timestep=2.0)\n",
    "\n",
    "\n",
    "minimize = Simulation(timestep=2.0, number_of_steps=100, temperature=300)\n",
    "minimize.minimization = True\n",
    "\n",
    "minimize.parameter_type_CHARMM = False\n",
    "minimize.amber = True\n",
    "minimize.parameters = 'build/complex.top'\n",
    "minimize.coordinates = 'build/complex.pdb'\n",
    "minimize.read_exclusions = False\n",
    "\n",
    "minimize.binary_output = False\n",
    "minimize.name = 'minimize_0'\n",
    "minimize.output_name = 'minimize_0'\n",
    "minimize.output_energies = 500\n",
    "minimize.output_pressure = 500"
   ]
  },
  {
   "cell_type": "code",
   "execution_count": 3,
   "metadata": {
    "collapsed": true
   },
   "outputs": [],
   "source": [
    "nbc = NonBondedController()\n",
    "nbc.excluded_interactions = non_bonded_controller.Interaction.scaled_one_four\n",
    "nbc.one_four_scaling = 0.833333\n",
    "nbc.cutoff = 12\n",
    "nbc.switching = True\n",
    "nbc.switching_distance = 10\n",
    "nbc.pairlist_distance = 13.5\n",
    "\n",
    "nbc.non_bonded_frequency = 1\n",
    "nbc.full_elect_frequency = 2\n",
    "nbc.steps_per_cycle = 10\n",
    "\n",
    "nbc.pme = PME(grid_spacing=1.0)\n",
    "\n",
    "nbc.wrap_water, nbc.wrap_all = True, True\n",
    "nbc.cell_basis_vector_1 = 72.449, 0.000,  0.000\n",
    "nbc.cell_basis_vector_2 =  0.000,93.247,  0.000\n",
    "nbc.cell_basis_vector_3 =  0.000, 0.000, 79.185\n",
    "nbc.cell_origin = -0.248, -0.156, -0.047\n",
    "\n",
    "minimize.non_bonded_controller = nbc"
   ]
  },
  {
   "cell_type": "code",
   "execution_count": null,
   "metadata": {
    "collapsed": true
   },
   "outputs": [],
   "source": []
  },
  {
   "cell_type": "code",
   "execution_count": 4,
   "metadata": {
    "collapsed": true
   },
   "outputs": [],
   "source": [
    "minimize.constraints.bond_constraint = BondConstraint(bonds='all', tolerance=0.00001, iterations=100)\n",
    "\n",
    "harm_const = HarmonicConstraint(exponent=2, reference_position_file='build/complex.pdb')\n",
    "harm_const.force_constant_file = 'constraint/f4.pdb'\n",
    "harm_const.force_constant_column = 'B'\n",
    "harm_const.scaling = 10\n",
    "minimize.constraints.harmonic_constraint = harm_const"
   ]
  },
  {
   "cell_type": "code",
   "execution_count": 5,
   "metadata": {
    "collapsed": true
   },
   "outputs": [],
   "source": [
    "minimizations = [minimize]\n",
    "\n",
    "for scaling, index, n_steps in zip([10*0.5**index for index in range(1, 10)] + [0], range(1, 11), [100]*9+[5000]):\n",
    "    minim = next(minimizations[-1])\n",
    "    minim.name = f'minimize_{index}'\n",
    "    minim.output_name = f'minimize_{index}'\n",
    "    minim.constraints.harmonic_constraint.scaling = scaling\n",
    "    minim.number_of_steps = n_steps\n",
    "    minimizations.append(minim)"
   ]
  },
  {
   "cell_type": "markdown",
   "metadata": {},
   "source": [
    "# Equilibration NVT"
   ]
  },
  {
   "cell_type": "code",
   "execution_count": 6,
   "metadata": {
    "collapsed": true
   },
   "outputs": [],
   "source": [
    "equilibrate_1 = next(minimize)\n",
    "equilibrate_1.name = 'eq1'\n",
    "equilibrate_1.output_name = 'eq1'\n",
    "equilibrate_1.minimization = False\n",
    "\n",
    "# 5000 -> 1000\n",
    "equilibrate_1.number_of_steps = 1000\n",
    "\n",
    "equilibrate_1.temperature_controller = VelocityReassignment(frequency=100, increment=1, hold_at=300)\n",
    "\n",
    "equilibrate_1.restart_frequency = 50000\n",
    "equilibrate_1.non_bonded_controller.xst_frequency = 5000\n",
    "equilibrate_1.dcd_frequency = 5000"
   ]
  },
  {
   "cell_type": "markdown",
   "metadata": {},
   "source": [
    "# Equilibration NPT"
   ]
  },
  {
   "cell_type": "code",
   "execution_count": 7,
   "metadata": {},
   "outputs": [
    {
     "name": "stderr",
     "output_type": "stream",
     "text": [
      "/Users/kristofarkas/Developer/BAC2/bac/utils/decorators.py:99: UserWarning: 'BerendsenPressureCoupling' object has no attribute 'simulation'\n",
      "  warnings.warn(f'{e}')\n"
     ]
    }
   ],
   "source": [
    "equilibrate_2 = next(equilibrate_1)\n",
    "equilibrate_2.name = 'eq2_0'\n",
    "equilibrate_2.output_name = 'eq2_0'\n",
    "equilibrate_2.timestep = 1.0\n",
    "equilibrate_2.constraints.bond_constraint.bonds = 'water'\n",
    "equilibrate_2.temperature_controller = LangevinDynamics(temperature=300, damping=5, applies_to_hydrogen=False)\n",
    "equilibrate_2.pressure_controller = BerendsenPressureCoupling(target=1, compressibility=4.57e-5, relaxation_time=100, \n",
    "                                                              frequency=2, use_group_pressure=True)\n",
    "\n",
    "equilibrate_2.restart_frequency = 5000"
   ]
  },
  {
   "cell_type": "code",
   "execution_count": 8,
   "metadata": {
    "collapsed": true
   },
   "outputs": [],
   "source": [
    "equilibrations = [equilibrate_2]\n",
    "\n",
    "for scaling, x in zip([10*0.5**x for x in range(1, 10)] + [0], range(1, 11)):\n",
    "    eq = next(equilibrations[-1])\n",
    "    eq.name = f'eq2_{x}'\n",
    "    eq.output_name = f'eq2_{x}'\n",
    "    eq.constraints.harmonic_constraint.scaling = scaling\n",
    "    equilibrations.append(eq)"
   ]
  },
  {
   "cell_type": "markdown",
   "metadata": {},
   "source": [
    "# Production"
   ]
  },
  {
   "cell_type": "code",
   "execution_count": 9,
   "metadata": {
    "collapsed": true
   },
   "outputs": [],
   "source": [
    "production = next(equilibrations[-1])\n",
    "production.name = 'production'\n",
    "production.output_name = 'production'\n",
    "production.timestep = 2.0\n",
    "production.constraints.bond_constraint.bonds = 'all'\n",
    "production.constraints.harmonic_constraint = None\n",
    "production.restart_frequency = 200000\n"
   ]
  },
  {
   "cell_type": "markdown",
   "metadata": {},
   "source": [
    "# Workflow\n",
    "\n",
    "This is where Radical could fit in nicely"
   ]
  },
  {
   "cell_type": "code",
   "execution_count": 10,
   "metadata": {
    "collapsed": true
   },
   "outputs": [],
   "source": [
    "from bac.simulate import Workflow, Replica"
   ]
  },
  {
   "cell_type": "code",
   "execution_count": 11,
   "metadata": {
    "collapsed": true
   },
   "outputs": [],
   "source": [
    "wf = Workflow(resource='bw', r_dir='esmacs_bw')"
   ]
  },
  {
   "cell_type": "code",
   "execution_count": 12,
   "metadata": {
    "collapsed": true
   },
   "outputs": [],
   "source": [
    "wf.simulations = minimizations + [equilibrate_1] + equilibrations + [production]"
   ]
  },
  {
   "cell_type": "code",
   "execution_count": 13,
   "metadata": {
    "collapsed": true
   },
   "outputs": [],
   "source": [
    "wf.ensembles = [Replica(number_of=5)]"
   ]
  },
  {
   "cell_type": "code",
   "execution_count": 10,
   "metadata": {},
   "outputs": [],
   "source": [
    "# This command created the input files and puts them in a folder called esmacs_bw.\n",
    "wf.preprocess_simulations()"
   ]
  }
 ],
 "metadata": {
  "kernelspec": {
   "display_name": "Python 3",
   "language": "python",
   "name": "python3"
  },
  "language_info": {
   "codemirror_mode": {
    "name": "ipython",
    "version": 3
   },
   "file_extension": ".py",
   "mimetype": "text/x-python",
   "name": "python",
   "nbconvert_exporter": "python",
   "pygments_lexer": "ipython3",
   "version": "3.6.3"
  }
 },
 "nbformat": 4,
 "nbformat_minor": 2
}
