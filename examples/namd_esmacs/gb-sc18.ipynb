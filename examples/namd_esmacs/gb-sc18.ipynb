{
 "cells": [
  {
   "cell_type": "code",
   "execution_count": 1,
   "metadata": {
    "collapsed": true
   },
   "outputs": [],
   "source": [
    "import bac.simulate.namd as namd"
   ]
  },
  {
   "cell_type": "code",
   "execution_count": 2,
   "metadata": {
    "collapsed": true
   },
   "outputs": [],
   "source": [
    "minimize = namd.Simulation()\n",
    "minimize.minimization = True\n",
    "minimize.timestep = 2.0\n",
    "minimize.number_of_steps = 100\n",
    "minimize.parameter_type_CHARMM = False\n",
    "minimize.amber = True\n",
    "minimize.parameters = '../build/complex.top'\n",
    "minimize.coordinates = '../build/complex.pdb'\n",
    "minimize.read_exclusions = False\n",
    "\n",
    "minimize.temperature = 50\n",
    "\n",
    "minimize.binary_output = False\n",
    "minimize.output_name = 'minimize'\n",
    "minimize.output_energies = 500\n",
    "minimize.output_pressure = 500"
   ]
  },
  {
   "cell_type": "code",
   "execution_count": 3,
   "metadata": {
    "collapsed": true
   },
   "outputs": [],
   "source": [
    "nbc = minimize.non_bonded_controller\n",
    "nbc.excluded_interactions = namd.non_bonded_controller.Interaction.scaled_one_four\n",
    "nbc.one_four_scaling = 0.833333\n",
    "nbc.cutoff = 12\n",
    "nbc.switching = True\n",
    "nbc.switching_distance = 10\n",
    "nbc.pairlist_distance = 13.5\n",
    "\n",
    "#nbc.non_bonded_frequency = 1\n",
    "nbc.full_elect_frequency = 2\n",
    "nbc.steps_per_cycle = 10\n",
    "\n",
    "nbc.pme = namd.PME(grid_spacing=1.0)"
   ]
  },
  {
   "cell_type": "code",
   "execution_count": 4,
   "metadata": {
    "collapsed": true
   },
   "outputs": [],
   "source": [
    "bond_constraint = namd.BondConstraint(bonds='all')\n",
    "bond_constraint.tolerance = 0.00001\n",
    "bond_constraint.iterations = 100\n",
    "minimize.constraints.bond_constraint = bond_constraint\n",
    "\n",
    "harm_const = namd.HarmonicConstraint()\n",
    "harm_const.exponent = 2\n",
    "harm_const.reference_position_file = '../build/complex.pdb'\n",
    "harm_const.force_constant_file = '../constraint/f4.pdb'\n",
    "harm_const.force_constant_column = 'B'\n",
    "minimize.constraints.harmonic_constraint = harm_const"
   ]
  },
  {
   "cell_type": "code",
   "execution_count": 5,
   "metadata": {},
   "outputs": [],
   "source": [
    "bc = minimize.boundary_condition\n",
    "bc.wrap_water, bc.wrap_all = True, True\n",
    "bc.cell_basis_vector_1 = 72.449, 0.000,  0.000\n",
    "bc.cell_basis_vector_2 =  0.000,93.247,  0.000\n",
    "bc.cell_basis_vector_3 =  0.000, 0.000, 79.185\n",
    "bc.cell_origin = -0.248, -0.156, -0.047"
   ]
  },
  {
   "cell_type": "code",
   "execution_count": 6,
   "metadata": {
    "collapsed": true
   },
   "outputs": [],
   "source": [
    "equilibrate_1 = next(minimize)"
   ]
  },
  {
   "cell_type": "code",
   "execution_count": 7,
   "metadata": {},
   "outputs": [],
   "source": [
    "tc = namd.temperature_controller.VelocityReassignment(frequency=100, increment=1, hold_at=300)\n",
    "equilibrate_1.temperature_controller.reassign = tc"
   ]
  },
  {
   "cell_type": "code",
   "execution_count": 12,
   "metadata": {},
   "outputs": [
    {
     "ename": "AttributeError",
     "evalue": "'VelocityReassignment' object has no attribute 'simulation'",
     "output_type": "error",
     "traceback": [
      "\u001b[0;31m---------------------------------------------------------------------------\u001b[0m",
      "\u001b[0;31mAttributeError\u001b[0m                            Traceback (most recent call last)",
      "\u001b[0;32m<ipython-input-12-fc14821cbd6a>\u001b[0m in \u001b[0;36m<module>\u001b[0;34m()\u001b[0m\n\u001b[0;32m----> 1\u001b[0;31m \u001b[0mequilibrate_1\u001b[0m\u001b[0;34m.\u001b[0m\u001b[0mtemperature_controller\u001b[0m\u001b[0;34m.\u001b[0m\u001b[0mreassign\u001b[0m\u001b[0;34m.\u001b[0m\u001b[0msimulation\u001b[0m\u001b[0;34m\u001b[0m\u001b[0m\n\u001b[0m",
      "\u001b[0;31mAttributeError\u001b[0m: 'VelocityReassignment' object has no attribute 'simulation'"
     ]
    }
   ],
   "source": [
    "equilibrate_1.temperature_controller.reassign.simulation"
   ]
  },
  {
   "cell_type": "code",
   "execution_count": 8,
   "metadata": {
    "collapsed": true
   },
   "outputs": [],
   "source": [
    "from bac.simulate.coding import Encoder"
   ]
  },
  {
   "cell_type": "code",
   "execution_count": 9,
   "metadata": {},
   "outputs": [
    {
     "name": "stdout",
     "output_type": "stream",
     "text": [
      "numsteps                  = 100\n",
      "timestep                  = 2.0\n",
      "firsttimestep             = 0\n",
      "minimization              = on\n",
      "temperature               = 50.0\n",
      "coordinates               = minimize.coor\n",
      "parameters                = ../build/complex.top\n",
      "binaryoutput              = no\n",
      "dcdunitcell               = no\n",
      "outputEnergies            = 500\n",
      "outputPressure            = 500\n",
      "amber                     = yes\n",
      "readexclusions            = no\n",
      "scnb                      = 2\n",
      "paraTypeXplor             = on\n",
      "paraTypeCharmm            = off\n",
      "gromacs                   = False\n",
      "cutoff                    = 12.0\n",
      "switching                 = on\n",
      "switchdist                = 10.0\n",
      "vdwForceSwitching         = off\n",
      "exclude                   = scaled1-4\n",
      "1-4scaling                = 0.833333\n",
      "dielectric                = 1.0\n",
      "nonbondedScaling          = 1.0\n",
      "vdwGeometricSigma         = False\n",
      "limitdist                 = 0.0\n",
      "LJcorrection              = False\n",
      "nonbondedFreq             = 1\n",
      "fullElectFrequency        = 2\n",
      "MTSAlgorithm              = impulse/verletI\n",
      "longSplitting             = c1\n",
      "pairlistdist              = 13.5\n",
      "stepspercycle             = 10\n",
      "splitPatch                = hydrogen\n",
      "hgroupCutoff              = 2.5\n",
      "margin                    = 0.0\n",
      "pairlistMinProcs          = 1\n",
      "pairlistsPerCycle         = 2\n",
      "outputPairlists           = 0\n",
      "pairlistShrink            = 0.01\n",
      "pairlistGrow              = 0.01\n",
      "pairlistTrigger           = 0.3\n",
      "PME                       = yes\n",
      "PMETolerance              = 1e-05\n",
      "PMEInterpOrder            = 4\n",
      "PMEGridSpacing            = 1.0\n",
      "\n",
      "molly                     = off\n",
      "\n",
      "cellBasisVector1          = 0 0 0\n",
      "cellBasisVector2          = 0 0 0\n",
      "cellBasisVector3          = 0 0 0\n",
      "cellOrigin                = 0 0 0\n",
      "extendedSystem            = minimize.xsc\n",
      "wrapWater                 = on\n",
      "wrapAll                   = on\n",
      "wrapNearest               = off\n",
      "\n",
      "rigidBonds                = all\n",
      "rigidTolerance            = 1e-05\n",
      "rigidIterations           = 100\n",
      "rigidDieOnError           = on\n",
      "useSettle                 = on\n",
      "\n",
      "constraints               = on\n",
      "consexp                   = 2\n",
      "consref                   = minimize.coor\n",
      "conskfile                 = ../constraint/f4.pdb\n",
      "conskcol                  = B\n",
      "constraintScaling         = 1.0\n",
      "selectConstraints         = off\n",
      "selectConstrX             = off\n",
      "selectConstrY             = off\n",
      "selectConstrZ             = off\n",
      "\n",
      "fixedAtoms                = off\n",
      "\n",
      "langevin                  = off\n",
      "tCouple                   = off\n",
      "reassignFreq              = 100\n",
      "reassignIncr              = 1.0\n",
      "reassignHold              = 300.0\n",
      "\n",
      "loweAndersen              = off\n",
      "\n",
      "useGroupPressure          = no\n",
      "useFlexibleCell           = no\n",
      "useConstantRatio          = no\n",
      "useConstantArea           = no\n",
      "BerendsenPressure         = off\n",
      "LangevinPiston            = off\n",
      "\n",
      "alch                      = off\n",
      "\n",
      "\n"
     ]
    }
   ],
   "source": [
    "Encoder.encode(equilibrate_1)"
   ]
  },
  {
   "cell_type": "code",
   "execution_count": null,
   "metadata": {
    "collapsed": true
   },
   "outputs": [],
   "source": []
  }
 ],
 "metadata": {
  "kernelspec": {
   "display_name": "Python 3",
   "language": "python",
   "name": "python3"
  },
  "language_info": {
   "codemirror_mode": {
    "name": "ipython",
    "version": 3
   },
   "file_extension": ".py",
   "mimetype": "text/x-python",
   "name": "python",
   "nbconvert_exporter": "python",
   "pygments_lexer": "ipython3",
   "version": "3.6.2"
  }
 },
 "nbformat": 4,
 "nbformat_minor": 2
}
