{
 "cells": [
  {
   "cell_type": "markdown",
   "metadata": {},
   "source": [
    "# Free Energy Calculations: Methane in Water\n",
    "\n",
    "This is a tutorial based on [this](http://www.bevanlab.biochem.vt.edu/Pages/Personal/justin/gmx-tutorials/free_energy/index.html) one. We will use BAC2.0"
   ]
  },
  {
   "cell_type": "markdown",
   "metadata": {
    "collapsed": true
   },
   "source": [
    "The system contains a single molecule of methane (called \"ALAB\" in the coordinate file, for the β-carbon of alanine) in a box of 596 TIP3P water molecules."
   ]
  },
  {
   "cell_type": "code",
   "execution_count": 1,
   "metadata": {
    "collapsed": true
   },
   "outputs": [],
   "source": [
    "from copy import deepcopy\n",
    "\n",
    "from bac.simulate.coding import Encoder, Engine\n",
    "import bac.simulate.gromacs as gmx"
   ]
  },
  {
   "cell_type": "code",
   "execution_count": 2,
   "metadata": {
    "collapsed": true
   },
   "outputs": [],
   "source": [
    "em_steep = gmx.Run(integrator='steep', number_of_steps=5000)"
   ]
  },
  {
   "cell_type": "code",
   "execution_count": 3,
   "metadata": {},
   "outputs": [],
   "source": [
    "em_steep.generate_velocities = False\n",
    "\n",
    "em_steep.minimization_tolerance = 100\n",
    "em_steep.minimization_step_size = 0.01\n",
    "em_steep.minimization_correction_steps = 10"
   ]
  },
  {
   "cell_type": "code",
   "execution_count": 4,
   "metadata": {},
   "outputs": [],
   "source": [
    "nbc = em_steep.non_bonded_controller\n",
    "nbc.cutoff_scheme = gmx.non_bonded_controller.CutoffSchemeType.verlet\n",
    "nbc.neighbor_list_update_frequency = 1\n",
    "nbc.neighbor_list_type = gmx.non_bonded_controller.NeighborListType.grid\n",
    "nbc.periodic_boundary_condition = gmx.non_bonded_controller.PeriodicBoundaryConditionType.xyz\n",
    "nbc.cutoff = 1.2\n",
    "\n",
    "nbc.coulomb_type = gmx.non_bonded_controller.CoulombType.pme\n",
    "nbc.coulomb_cutoff = 1.2\n",
    "\n",
    "nbc.van_der_waals_type = gmx.non_bonded_controller.VanDerWaalsType.cutoff\n",
    "nbc.van_der_waals_modifier = gmx.non_bonded_controller.VanDerWaalsModifierType.potential_shift\n",
    "nbc.van_der_waals_switch_cutoff = 1.0\n",
    "nbc.van_der_waals_cutoff = 1.2\n",
    "\n",
    "nbc.correct_long_range_dispersion = gmx.non_bonded_controller.LongRangeDispersionCorrectionType.energy_and_pressure"
   ]
  },
  {
   "cell_type": "code",
   "execution_count": 5,
   "metadata": {},
   "outputs": [],
   "source": [
    "fe = gmx.FreeEnergyController()\n",
    "\n",
    "fe.initial_lambda_state = 0\n",
    "fe.delta_lambda = 0\n",
    "fe.calculate_lambda_neighbors = 1\n",
    "fe.van_der_waals_lambdas = [f'{x*0.05:.2f}' for x in range(21)] \n",
    "fe.coulomb_lambdas = [f'{0:.2f}']*21\n",
    "fe.bonded_lambdas = [f'{0:.2f}']*21\n",
    "fe.restraint_lambdas = [f'{0:.2f}']*21\n",
    "fe.mass_lambdas = [f'{0:.2f}']*21\n",
    "fe.temperature_lambdas = [f'{0:.2f}']*21\n",
    "\n",
    "fe.soft_core_alpha = 0.5\n",
    "fe.soft_core_coulomb = False\n",
    "fe.soft_core_power = 1\n",
    "fe.soft_core_sigma = 0.3\n",
    "\n",
    "fe.couple_molecule_groups = 'Methane'\n",
    "fe.couple_type_initial_lambda = 'vdw'\n",
    "fe.couple_type_final_lambda = 'none'\n",
    "fe.couple_intramolecular = False\n",
    "\n",
    "fe.output_frequency = 10\n",
    "\n",
    "em_steep.free_energy_controller = fe"
   ]
  },
  {
   "cell_type": "code",
   "execution_count": 6,
   "metadata": {},
   "outputs": [],
   "source": [
    "em_steep.constraints.continuation = False\n",
    "em_steep.constraints.type = gmx.ConstraintType.h_bonds\n",
    "em_steep.constraints.algorithm = gmx.ConstraintAlgorithmType.lincs\n",
    "em_steep.constraints.lincs_order = 12"
   ]
  },
  {
   "cell_type": "code",
   "execution_count": 24,
   "metadata": {},
   "outputs": [],
   "source": [
    "Encoder.encode(em_steep, engine=Engine.gromacs, path='/Users/kristofarkas/Developer/BAC2/docs/gromacs_fe_example/em_steep.mdp')"
   ]
  },
  {
   "cell_type": "code",
   "execution_count": 25,
   "metadata": {
    "collapsed": true
   },
   "outputs": [],
   "source": []
  },
  {
   "cell_type": "code",
   "execution_count": 7,
   "metadata": {
    "collapsed": true
   },
   "outputs": [],
   "source": [
    "em_bfgs = deepcopy(em_steep)"
   ]
  },
  {
   "cell_type": "code",
   "execution_count": 8,
   "metadata": {
    "collapsed": true
   },
   "outputs": [],
   "source": [
    "em_bfgs.integrator = gmx.Integrator.l_bfgs\n",
    "em_bfgs.constraints.type = gmx.ConstraintType.none"
   ]
  },
  {
   "cell_type": "code",
   "execution_count": 9,
   "metadata": {
    "collapsed": true
   },
   "outputs": [],
   "source": [
    "nvt = deepcopy(em_bfgs)"
   ]
  },
  {
   "cell_type": "code",
   "execution_count": 10,
   "metadata": {},
   "outputs": [],
   "source": [
    "nvt.integrator = 'sd'\n",
    "nvt.delta_time = 0.002\n",
    "nvt.number_of_steps = 50000\n",
    "nvt.com_motion_removal_frequency = 100\n",
    "\n",
    "nvt.generate_velocities = True\n",
    "nvt.generate_temperature = 300"
   ]
  },
  {
   "cell_type": "code",
   "execution_count": 11,
   "metadata": {
    "collapsed": true
   },
   "outputs": [],
   "source": [
    "nvt.temperature_controller.groups = 'system'\n",
    "nvt.temperature_controller.time = 1\n",
    "nvt.temperature_controller.temperature = 300"
   ]
  },
  {
   "cell_type": "code",
   "execution_count": 13,
   "metadata": {
    "collapsed": true
   },
   "outputs": [],
   "source": [
    "Encoder.encode(nvt, path='/Users/kristofarkas/Developer/BAC2/docs/gromacs_fe_example/nvt.mdp')"
   ]
  },
  {
   "cell_type": "code",
   "execution_count": 30,
   "metadata": {
    "collapsed": true
   },
   "outputs": [],
   "source": [
    "for lambda_state in range(21):\n",
    "    em_steep.free_energy_controller.initial_lambda_state = lambda_state\n",
    "    Encoder.encode(em_steep, path=f'/Users/kristofarkas/Developer/BAC2/docs/gromacs_fe_example/em_steep/em_steep_{lambda_state:02d}.mdp')"
   ]
  },
  {
   "cell_type": "markdown",
   "metadata": {},
   "source": [
    "## Operation and OperationQueue"
   ]
  },
  {
   "cell_type": "code",
   "execution_count": 3,
   "metadata": {
    "collapsed": true
   },
   "outputs": [],
   "source": [
    "import bac.simulate.operation as op"
   ]
  },
  {
   "cell_type": "code",
   "execution_count": 8,
   "metadata": {
    "collapsed": true
   },
   "outputs": [],
   "source": [
    "em_steep.coordinates = '/Users/kristofarkas/Developer/BAC2/docs/gromacs_fe_example/original_files/methane_water.gro'"
   ]
  },
  {
   "cell_type": "code",
   "execution_count": 9,
   "metadata": {
    "collapsed": true
   },
   "outputs": [],
   "source": [
    "em_steep.topology = '/Users/kristofarkas/Developer/BAC2/docs/gromacs_fe_example/original_files/methane_water.top'"
   ]
  },
  {
   "cell_type": "code",
   "execution_count": 10,
   "metadata": {},
   "outputs": [],
   "source": [
    "em_steep.output_name = 'min_steep'"
   ]
  },
  {
   "cell_type": "code",
   "execution_count": 11,
   "metadata": {},
   "outputs": [],
   "source": [
    "op1 = op.Operation(run=em_steep)"
   ]
  },
  {
   "cell_type": "code",
   "execution_count": 12,
   "metadata": {},
   "outputs": [
    {
     "data": {
      "text/plain": [
       "['gmx',\n",
       " 'grompp',\n",
       " '-f',\n",
       " 'input_file_name.mpd',\n",
       " '-c',\n",
       " PosixPath('/Users/kristofarkas/Developer/BAC2/docs/gromacs_fe_example/original_files/methane_water.gro'),\n",
       " '-p',\n",
       " PosixPath('/Users/kristofarkas/Developer/BAC2/docs/gromacs_fe_example/original_files/methane_water.top'),\n",
       " '-o',\n",
       " PosixPath('min_steep.tpr'),\n",
       " 'gmx',\n",
       " 'mdrun',\n",
       " '-nt',\n",
       " 1,\n",
       " '-deffnm',\n",
       " PosixPath('min_steep')]"
      ]
     },
     "execution_count": 12,
     "metadata": {},
     "output_type": "execute_result"
    }
   ],
   "source": [
    "op1.execute_path"
   ]
  },
  {
   "cell_type": "code",
   "execution_count": null,
   "metadata": {
    "collapsed": true
   },
   "outputs": [],
   "source": []
  }
 ],
 "metadata": {
  "kernelspec": {
   "display_name": "Python 3",
   "language": "python",
   "name": "python3"
  },
  "language_info": {
   "codemirror_mode": {
    "name": "ipython",
    "version": 3
   },
   "file_extension": ".py",
   "mimetype": "text/x-python",
   "name": "python",
   "nbconvert_exporter": "python",
   "pygments_lexer": "ipython3",
   "version": "3.6.0"
  }
 },
 "nbformat": 4,
 "nbformat_minor": 2
}
