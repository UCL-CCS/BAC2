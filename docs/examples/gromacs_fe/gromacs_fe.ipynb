{
 "cells": [
  {
   "cell_type": "markdown",
   "metadata": {},
   "source": [
    "# Free Energy Calculations: Methane in Water\n",
    "\n",
    "This is a tutorial based on [this](http://www.bevanlab.biochem.vt.edu/Pages/Personal/justin/gmx-tutorials/free_energy/index.html) one. We will use BAC2.0"
   ]
  },
  {
   "cell_type": "markdown",
   "metadata": {
    "collapsed": true
   },
   "source": [
    "The system contains a single molecule of methane (called \"ALAB\" in the coordinate file, for the β-carbon of alanine) in a box of 596 TIP3P water molecules."
   ]
  },
  {
   "cell_type": "code",
   "execution_count": 1,
   "metadata": {
    "collapsed": true
   },
   "outputs": [],
   "source": [
    "import bac.simulate.gromacs as gmx\n",
    "from pathlib import Path"
   ]
  },
  {
   "cell_type": "code",
   "execution_count": 2,
   "metadata": {
    "collapsed": true
   },
   "outputs": [],
   "source": [
    "em_steep = gmx.Run(integrator='steep', number_of_steps=5000)\n",
    "em_steep.name = 'em_steep'\n",
    "em_steep.coordinates = Path('input_files/methane_water.gro').absolute()\n",
    "em_steep.topology = Path('input_files/topol.top').absolute()"
   ]
  },
  {
   "cell_type": "code",
   "execution_count": 3,
   "metadata": {
    "collapsed": true
   },
   "outputs": [],
   "source": [
    "em_steep.generate_velocities = False\n",
    "\n",
    "em_steep.minimization_tolerance = 100\n",
    "em_steep.minimization_step_size = 0.01\n",
    "em_steep.minimization_correction_steps = 10"
   ]
  },
  {
   "cell_type": "code",
   "execution_count": 4,
   "metadata": {
    "collapsed": true
   },
   "outputs": [],
   "source": [
    "nbc = em_steep.non_bonded_controller\n",
    "nbc.cutoff_scheme = gmx.non_bonded_controller.CutoffSchemeType.verlet\n",
    "nbc.neighbor_list_update_frequency = 1\n",
    "nbc.neighbor_list_type = gmx.non_bonded_controller.NeighborListType.grid\n",
    "nbc.periodic_boundary_condition = gmx.non_bonded_controller.PeriodicBoundaryConditionType.xyz\n",
    "nbc.cutoff = 1.2\n",
    "\n",
    "nbc.coulomb_type = gmx.non_bonded_controller.CoulombType.pme\n",
    "nbc.coulomb_cutoff = 1.2\n",
    "\n",
    "nbc.van_der_waals_type = gmx.non_bonded_controller.VanDerWaalsType.cutoff\n",
    "nbc.van_der_waals_modifier = gmx.non_bonded_controller.VanDerWaalsModifierType.potential_shift\n",
    "nbc.van_der_waals_switch_cutoff = 1.0\n",
    "nbc.van_der_waals_cutoff = 1.2\n",
    "\n",
    "nbc.correct_long_range_dispersion = gmx.non_bonded_controller.LongRangeDispersionCorrectionType.energy_and_pressure"
   ]
  },
  {
   "cell_type": "code",
   "execution_count": 5,
   "metadata": {
    "collapsed": true
   },
   "outputs": [],
   "source": [
    "fe = gmx.FreeEnergyController()\n",
    "em_steep.free_energy_controller = fe\n",
    "\n",
    "fe.initial_lambda_state = 0\n",
    "fe.delta_lambda = 0\n",
    "fe.calculate_lambda_neighbors = 1\n",
    "fe.van_der_waals_lambdas = [f'{x*0.05:.2f}' for x in range(21)] \n",
    "fe.coulomb_lambdas = [f'{0:.2f}']*21\n",
    "fe.bonded_lambdas = [f'{0:.2f}']*21\n",
    "fe.restraint_lambdas = [f'{0:.2f}']*21\n",
    "fe.mass_lambdas = [f'{0:.2f}']*21\n",
    "fe.temperature_lambdas = [f'{0:.2f}']*21\n",
    "\n",
    "fe.soft_core_alpha = 0.5\n",
    "fe.soft_core_coulomb = False\n",
    "fe.soft_core_power = 1\n",
    "fe.soft_core_sigma = 0.3\n",
    "\n",
    "fe.couple_molecule_groups = 'Methane'\n",
    "fe.couple_type_initial_lambda = 'vdw'\n",
    "fe.couple_type_final_lambda = 'none'\n",
    "fe.couple_intramolecular = False\n",
    "\n",
    "fe.output_frequency = 10"
   ]
  },
  {
   "cell_type": "code",
   "execution_count": 6,
   "metadata": {
    "collapsed": true
   },
   "outputs": [],
   "source": [
    "em_steep.constraints.continuation = False\n",
    "em_steep.constraints.type = gmx.ConstraintType.h_bonds\n",
    "em_steep.constraints.algorithm = gmx.ConstraintAlgorithmType.lincs\n",
    "em_steep.constraints.lincs_order = 12"
   ]
  },
  {
   "cell_type": "markdown",
   "metadata": {
    "collapsed": true
   },
   "source": [
    "Next energy minimization step"
   ]
  },
  {
   "cell_type": "code",
   "execution_count": 7,
   "metadata": {
    "collapsed": true
   },
   "outputs": [],
   "source": [
    "em_bfgs = next(em_steep)"
   ]
  },
  {
   "cell_type": "code",
   "execution_count": 8,
   "metadata": {
    "collapsed": true
   },
   "outputs": [],
   "source": [
    "em_bfgs.integrator = gmx.Integrator.l_bfgs\n",
    "em_bfgs.constraints.type = gmx.ConstraintType.none\n",
    "em_bfgs.name = 'em_bfgs'"
   ]
  },
  {
   "cell_type": "code",
   "execution_count": 9,
   "metadata": {
    "collapsed": true
   },
   "outputs": [],
   "source": [
    "nvt = next(em_bfgs)\n",
    "nvt.name = 'nvt'"
   ]
  },
  {
   "cell_type": "code",
   "execution_count": 10,
   "metadata": {
    "collapsed": true
   },
   "outputs": [],
   "source": [
    "nvt.integrator = 'sd'\n",
    "nvt.delta_time = 0.002\n",
    "nvt.number_of_steps = 50000\n",
    "nvt.com_motion_removal_frequency = 100\n",
    "\n",
    "nvt.generate_velocities = True\n",
    "nvt.generate_temperature = 300"
   ]
  },
  {
   "cell_type": "code",
   "execution_count": 11,
   "metadata": {
    "collapsed": true
   },
   "outputs": [],
   "source": [
    "nvt.temperature_controller.groups = 'system'\n",
    "nvt.temperature_controller.time = 1\n",
    "nvt.temperature_controller.temperature = 300"
   ]
  },
  {
   "cell_type": "markdown",
   "metadata": {},
   "source": [
    "## Simulation and Workflow"
   ]
  },
  {
   "cell_type": "code",
   "execution_count": 12,
   "metadata": {
    "collapsed": true
   },
   "outputs": [],
   "source": [
    "from bac.simulate import Workflow, replica, lambda_window"
   ]
  },
  {
   "cell_type": "code",
   "execution_count": 13,
   "metadata": {
    "collapsed": true
   },
   "outputs": [],
   "source": [
    "wf = Workflow(resource='MPB', name='MeOH_H2O')"
   ]
  },
  {
   "cell_type": "code",
   "execution_count": 14,
   "metadata": {
    "collapsed": true
   },
   "outputs": [],
   "source": [
    "wf.add_simulation(em_steep)\n",
    "wf.add_simulation(em_bfgs)\n",
    "wf.add_simulation(nvt)"
   ]
  },
  {
   "cell_type": "code",
   "execution_count": 15,
   "metadata": {
    "collapsed": true
   },
   "outputs": [],
   "source": [
    "wf.ensembles = [replica(2), lambda_window(2)]"
   ]
  },
  {
   "cell_type": "code",
   "execution_count": 16,
   "metadata": {},
   "outputs": [
    {
     "name": "stdout",
     "output_type": "stream",
     "text": [
      "gmx grompp -f replica_0/lambda_0/em_steep.mdp -c /Users/kristofarkas/Developer/BAC2/docs/examples/gromacs_fe/input_files/methane_water.gro -p /Users/kristofarkas/Developer/BAC2/docs/examples/gromacs_fe/input_files/topol.top -o replica_0/lambda_0/em_steep.tpr -po replica_0/lambda_0/em_steep_generated.mdp \n",
      "b'Analysing residue names:\\nThere are:     1      Other residues\\nThere are:   596      Water residues\\nAnalysing residues not classified as Protein/DNA/RNA/Water and splitting into groups...\\nThis run will generate roughly 0 Mb of data\\n'\n",
      "b'                      :-) GROMACS - gmx grompp, 2016.3 (-:\\n\\n                            GROMACS is written by:\\n     Emile Apol      Rossen Apostolov  Herman J.C. Berendsen    Par Bjelkmar   \\n Aldert van Buuren   Rudi van Drunen     Anton Feenstra    Gerrit Groenhof  \\n Christoph Junghans   Anca Hamuraru    Vincent Hindriksen Dimitrios Karkoulis\\n    Peter Kasson        Jiri Kraus      Carsten Kutzner      Per Larsson    \\n  Justin A. Lemkul   Magnus Lundborg   Pieter Meulenhoff    Erik Marklund   \\n   Teemu Murtola       Szilard Pall       Sander Pronk      Roland Schulz   \\n  Alexey Shvetsov     Michael Shirts     Alfons Sijbers     Peter Tieleman  \\n  Teemu Virolainen  Christian Wennberg    Maarten Wolf   \\n                           and the project leaders:\\n        Mark Abraham, Berk Hess, Erik Lindahl, and David van der Spoel\\n\\nCopyright (c) 1991-2000, University of Groningen, The Netherlands.\\nCopyright (c) 2001-2017, The GROMACS development team at\\nUppsala University, Stockholm University and\\nthe Royal Institute of Technology, Sweden.\\ncheck out http://www.gromacs.org for more information.\\n\\nGROMACS is free software; you can redistribute it and/or modify it\\nunder the terms of the GNU Lesser General Public License\\nas published by the Free Software Foundation; either version 2.1\\nof the License, or (at your option) any later version.\\n\\nGROMACS:      gmx grompp, version 2016.3\\nExecutable:   /usr/local/gromacs/bin/gmx\\nData prefix:  /usr/local/gromacs\\nWorking dir:  /Users/kristofarkas/Developer/BAC2/docs/examples/gromacs_fe/MeOH_H2O_3544\\nCommand line:\\n  gmx grompp -f replica_0/lambda_0/em_steep.mdp -c /Users/kristofarkas/Developer/BAC2/docs/examples/gromacs_fe/input_files/methane_water.gro -p /Users/kristofarkas/Developer/BAC2/docs/examples/gromacs_fe/input_files/topol.top -o replica_0/lambda_0/em_steep.tpr -po replica_0/lambda_0/em_steep_generated.mdp\\n\\n\\nNOTE 1 [file replica_0/lambda_0/em_steep.mdp, line 86]:\\n  replica_0/lambda_0/em_steep.mdp did not specify a value for the .mdp\\n  option \"cutoff-scheme\". Probably it was first intended for use with\\n  GROMACS before 4.6. In 4.6, the Verlet scheme was introduced, but the\\n  group scheme was still the default. The default is now the Verlet scheme,\\n  so you will observe different behaviour.\\n\\n\\nNOTE 2 [file replica_0/lambda_0/em_steep.mdp]:\\n  For a correct single-point energy evaluation with nsteps = 0, use\\n  continuation = yes to avoid constraining the input coordinates.\\n\\nSetting the LD random seed to 818144702\\nGenerated 330891 of the 330891 non-bonded parameter combinations\\nGenerating 1-4 interactions: fudge = 0.5\\nGenerated 330891 of the 330891 1-4 parameter combinations\\nExcluding 3 bonded neighbours molecule type \\'Methane\\'\\nExcluding 2 bonded neighbours molecule type \\'SOL\\'\\nRemoving all charge groups because cutoff-scheme=Verlet\\nNumber of degrees of freedom in T-Coupling group rest is 3588.00\\n\\nNOTE 3 [file replica_0/lambda_0/em_steep.mdp]:\\n  NVE simulation with an initial temperature of zero: will use a Verlet\\n  buffer of 10%. Check your energy drift!\\n\\n\\nNOTE 4 [file replica_0/lambda_0/em_steep.mdp]:\\n  You are using a plain Coulomb cut-off, which might produce artifacts.\\n  You might want to consider using PME electrostatics.\\n\\n\\n\\nThere were 4 notes\\n\\nGROMACS reminds you: \"When using an abacus, a human can achieve about 0.1 flops/watt. Super-computers achieve about 2 gigaflops/watt.\" (John Linford)\\n\\n'\n",
      "\n",
      "gmx grompp -f replica_0/lambda_0/em_bfgs.mdp -c replica_0/lambda_0/em_steep.gro -p /Users/kristofarkas/Developer/BAC2/docs/examples/gromacs_fe/input_files/topol.top -o replica_0/lambda_0/em_bfgs.tpr -po replica_0/lambda_0/em_bfgs_generated.mdp \n",
      "b''\n",
      "b\"                      :-) GROMACS - gmx grompp, 2016.3 (-:\\n\\n                            GROMACS is written by:\\n     Emile Apol      Rossen Apostolov  Herman J.C. Berendsen    Par Bjelkmar   \\n Aldert van Buuren   Rudi van Drunen     Anton Feenstra    Gerrit Groenhof  \\n Christoph Junghans   Anca Hamuraru    Vincent Hindriksen Dimitrios Karkoulis\\n    Peter Kasson        Jiri Kraus      Carsten Kutzner      Per Larsson    \\n  Justin A. Lemkul   Magnus Lundborg   Pieter Meulenhoff    Erik Marklund   \\n   Teemu Murtola       Szilard Pall       Sander Pronk      Roland Schulz   \\n  Alexey Shvetsov     Michael Shirts     Alfons Sijbers     Peter Tieleman  \\n  Teemu Virolainen  Christian Wennberg    Maarten Wolf   \\n                           and the project leaders:\\n        Mark Abraham, Berk Hess, Erik Lindahl, and David van der Spoel\\n\\nCopyright (c) 1991-2000, University of Groningen, The Netherlands.\\nCopyright (c) 2001-2017, The GROMACS development team at\\nUppsala University, Stockholm University and\\nthe Royal Institute of Technology, Sweden.\\ncheck out http://www.gromacs.org for more information.\\n\\nGROMACS is free software; you can redistribute it and/or modify it\\nunder the terms of the GNU Lesser General Public License\\nas published by the Free Software Foundation; either version 2.1\\nof the License, or (at your option) any later version.\\n\\nGROMACS:      gmx grompp, version 2016.3\\nExecutable:   /usr/local/gromacs/bin/gmx\\nData prefix:  /usr/local/gromacs\\nWorking dir:  /Users/kristofarkas/Developer/BAC2/docs/examples/gromacs_fe/MeOH_H2O_3544\\nCommand line:\\n  gmx grompp -f replica_0/lambda_0/em_bfgs.mdp -c replica_0/lambda_0/em_steep.gro -p /Users/kristofarkas/Developer/BAC2/docs/examples/gromacs_fe/input_files/topol.top -o replica_0/lambda_0/em_bfgs.tpr -po replica_0/lambda_0/em_bfgs_generated.mdp\\n\\n\\n-------------------------------------------------------\\nProgram:     gmx grompp, version 2016.3\\nSource file: src/gromacs/commandline/cmdlineparser.cpp (line 235)\\nFunction:    void gmx::CommandLineParser::parse(int *, char **)\\n\\nError in user input:\\nInvalid command-line options\\n  In command-line option -c\\n    File 'replica_0/lambda_0/em_steep.gro' does not exist or is not\\n    accessible.\\n    The file could not be opened.\\n      Reason: No such file or directory\\n      (call to fopen() returned error code 2)\\n\\nFor more information and tips for troubleshooting, please check the GROMACS\\nwebsite at http://www.gromacs.org/Documentation/Errors\\n-------------------------------------------------------\\n\"\n",
      "\n",
      "gmx grompp -f replica_0/lambda_0/nvt.mdp -c replica_0/lambda_0/em_bfgs.gro -p /Users/kristofarkas/Developer/BAC2/docs/examples/gromacs_fe/input_files/topol.top -o replica_0/lambda_0/nvt.tpr -po replica_0/lambda_0/nvt_generated.mdp \n",
      "b''\n",
      "b\"                      :-) GROMACS - gmx grompp, 2016.3 (-:\\n\\n                            GROMACS is written by:\\n     Emile Apol      Rossen Apostolov  Herman J.C. Berendsen    Par Bjelkmar   \\n Aldert van Buuren   Rudi van Drunen     Anton Feenstra    Gerrit Groenhof  \\n Christoph Junghans   Anca Hamuraru    Vincent Hindriksen Dimitrios Karkoulis\\n    Peter Kasson        Jiri Kraus      Carsten Kutzner      Per Larsson    \\n  Justin A. Lemkul   Magnus Lundborg   Pieter Meulenhoff    Erik Marklund   \\n   Teemu Murtola       Szilard Pall       Sander Pronk      Roland Schulz   \\n  Alexey Shvetsov     Michael Shirts     Alfons Sijbers     Peter Tieleman  \\n  Teemu Virolainen  Christian Wennberg    Maarten Wolf   \\n                           and the project leaders:\\n        Mark Abraham, Berk Hess, Erik Lindahl, and David van der Spoel\\n\\nCopyright (c) 1991-2000, University of Groningen, The Netherlands.\\nCopyright (c) 2001-2017, The GROMACS development team at\\nUppsala University, Stockholm University and\\nthe Royal Institute of Technology, Sweden.\\ncheck out http://www.gromacs.org for more information.\\n\\nGROMACS is free software; you can redistribute it and/or modify it\\nunder the terms of the GNU Lesser General Public License\\nas published by the Free Software Foundation; either version 2.1\\nof the License, or (at your option) any later version.\\n\\nGROMACS:      gmx grompp, version 2016.3\\nExecutable:   /usr/local/gromacs/bin/gmx\\nData prefix:  /usr/local/gromacs\\nWorking dir:  /Users/kristofarkas/Developer/BAC2/docs/examples/gromacs_fe/MeOH_H2O_3544\\nCommand line:\\n  gmx grompp -f replica_0/lambda_0/nvt.mdp -c replica_0/lambda_0/em_bfgs.gro -p /Users/kristofarkas/Developer/BAC2/docs/examples/gromacs_fe/input_files/topol.top -o replica_0/lambda_0/nvt.tpr -po replica_0/lambda_0/nvt_generated.mdp\\n\\n\\n-------------------------------------------------------\\nProgram:     gmx grompp, version 2016.3\\nSource file: src/gromacs/commandline/cmdlineparser.cpp (line 235)\\nFunction:    void gmx::CommandLineParser::parse(int *, char **)\\n\\nError in user input:\\nInvalid command-line options\\n  In command-line option -c\\n    File 'replica_0/lambda_0/em_bfgs.gro' does not exist or is not accessible.\\n    The file could not be opened.\\n      Reason: No such file or directory\\n      (call to fopen() returned error code 2)\\n\\nFor more information and tips for troubleshooting, please check the GROMACS\\nwebsite at http://www.gromacs.org/Documentation/Errors\\n-------------------------------------------------------\\n\"\n",
      "\n"
     ]
    },
    {
     "name": "stdout",
     "output_type": "stream",
     "text": [
      "gmx grompp -f replica_0/lambda_1/em_steep.mdp -c /Users/kristofarkas/Developer/BAC2/docs/examples/gromacs_fe/input_files/methane_water.gro -p /Users/kristofarkas/Developer/BAC2/docs/examples/gromacs_fe/input_files/topol.top -o replica_0/lambda_1/em_steep.tpr -po replica_0/lambda_1/em_steep_generated.mdp \n",
      "b'Analysing residue names:\\nThere are:     1      Other residues\\nThere are:   596      Water residues\\nAnalysing residues not classified as Protein/DNA/RNA/Water and splitting into groups...\\nThis run will generate roughly 0 Mb of data\\n'\n",
      "b'                      :-) GROMACS - gmx grompp, 2016.3 (-:\\n\\n                            GROMACS is written by:\\n     Emile Apol      Rossen Apostolov  Herman J.C. Berendsen    Par Bjelkmar   \\n Aldert van Buuren   Rudi van Drunen     Anton Feenstra    Gerrit Groenhof  \\n Christoph Junghans   Anca Hamuraru    Vincent Hindriksen Dimitrios Karkoulis\\n    Peter Kasson        Jiri Kraus      Carsten Kutzner      Per Larsson    \\n  Justin A. Lemkul   Magnus Lundborg   Pieter Meulenhoff    Erik Marklund   \\n   Teemu Murtola       Szilard Pall       Sander Pronk      Roland Schulz   \\n  Alexey Shvetsov     Michael Shirts     Alfons Sijbers     Peter Tieleman  \\n  Teemu Virolainen  Christian Wennberg    Maarten Wolf   \\n                           and the project leaders:\\n        Mark Abraham, Berk Hess, Erik Lindahl, and David van der Spoel\\n\\nCopyright (c) 1991-2000, University of Groningen, The Netherlands.\\nCopyright (c) 2001-2017, The GROMACS development team at\\nUppsala University, Stockholm University and\\nthe Royal Institute of Technology, Sweden.\\ncheck out http://www.gromacs.org for more information.\\n\\nGROMACS is free software; you can redistribute it and/or modify it\\nunder the terms of the GNU Lesser General Public License\\nas published by the Free Software Foundation; either version 2.1\\nof the License, or (at your option) any later version.\\n\\nGROMACS:      gmx grompp, version 2016.3\\nExecutable:   /usr/local/gromacs/bin/gmx\\nData prefix:  /usr/local/gromacs\\nWorking dir:  /Users/kristofarkas/Developer/BAC2/docs/examples/gromacs_fe/MeOH_H2O_3544\\nCommand line:\\n  gmx grompp -f replica_0/lambda_1/em_steep.mdp -c /Users/kristofarkas/Developer/BAC2/docs/examples/gromacs_fe/input_files/methane_water.gro -p /Users/kristofarkas/Developer/BAC2/docs/examples/gromacs_fe/input_files/topol.top -o replica_0/lambda_1/em_steep.tpr -po replica_0/lambda_1/em_steep_generated.mdp\\n\\n\\nNOTE 1 [file replica_0/lambda_1/em_steep.mdp, line 86]:\\n  replica_0/lambda_1/em_steep.mdp did not specify a value for the .mdp\\n  option \"cutoff-scheme\". Probably it was first intended for use with\\n  GROMACS before 4.6. In 4.6, the Verlet scheme was introduced, but the\\n  group scheme was still the default. The default is now the Verlet scheme,\\n  so you will observe different behaviour.\\n\\n\\nNOTE 2 [file replica_0/lambda_1/em_steep.mdp]:\\n  For a correct single-point energy evaluation with nsteps = 0, use\\n  continuation = yes to avoid constraining the input coordinates.\\n\\nSetting the LD random seed to 1602138389\\nGenerated 330891 of the 330891 non-bonded parameter combinations\\nGenerating 1-4 interactions: fudge = 0.5\\nGenerated 330891 of the 330891 1-4 parameter combinations\\nExcluding 3 bonded neighbours molecule type \\'Methane\\'\\nExcluding 2 bonded neighbours molecule type \\'SOL\\'\\nRemoving all charge groups because cutoff-scheme=Verlet\\nNumber of degrees of freedom in T-Coupling group rest is 3588.00\\n\\nNOTE 3 [file replica_0/lambda_1/em_steep.mdp]:\\n  NVE simulation with an initial temperature of zero: will use a Verlet\\n  buffer of 10%. Check your energy drift!\\n\\n\\nNOTE 4 [file replica_0/lambda_1/em_steep.mdp]:\\n  You are using a plain Coulomb cut-off, which might produce artifacts.\\n  You might want to consider using PME electrostatics.\\n\\n\\n\\nThere were 4 notes\\n\\nGROMACS reminds you: \"One Cross Each\" (Monty Python)\\n\\n'\n",
      "\n",
      "gmx grompp -f replica_0/lambda_1/em_bfgs.mdp -c replica_0/lambda_1/em_steep.gro -p /Users/kristofarkas/Developer/BAC2/docs/examples/gromacs_fe/input_files/topol.top -o replica_0/lambda_1/em_bfgs.tpr -po replica_0/lambda_1/em_bfgs_generated.mdp \n",
      "b''\n",
      "b\"                      :-) GROMACS - gmx grompp, 2016.3 (-:\\n\\n                            GROMACS is written by:\\n     Emile Apol      Rossen Apostolov  Herman J.C. Berendsen    Par Bjelkmar   \\n Aldert van Buuren   Rudi van Drunen     Anton Feenstra    Gerrit Groenhof  \\n Christoph Junghans   Anca Hamuraru    Vincent Hindriksen Dimitrios Karkoulis\\n    Peter Kasson        Jiri Kraus      Carsten Kutzner      Per Larsson    \\n  Justin A. Lemkul   Magnus Lundborg   Pieter Meulenhoff    Erik Marklund   \\n   Teemu Murtola       Szilard Pall       Sander Pronk      Roland Schulz   \\n  Alexey Shvetsov     Michael Shirts     Alfons Sijbers     Peter Tieleman  \\n  Teemu Virolainen  Christian Wennberg    Maarten Wolf   \\n                           and the project leaders:\\n        Mark Abraham, Berk Hess, Erik Lindahl, and David van der Spoel\\n\\nCopyright (c) 1991-2000, University of Groningen, The Netherlands.\\nCopyright (c) 2001-2017, The GROMACS development team at\\nUppsala University, Stockholm University and\\nthe Royal Institute of Technology, Sweden.\\ncheck out http://www.gromacs.org for more information.\\n\\nGROMACS is free software; you can redistribute it and/or modify it\\nunder the terms of the GNU Lesser General Public License\\nas published by the Free Software Foundation; either version 2.1\\nof the License, or (at your option) any later version.\\n\\nGROMACS:      gmx grompp, version 2016.3\\nExecutable:   /usr/local/gromacs/bin/gmx\\nData prefix:  /usr/local/gromacs\\nWorking dir:  /Users/kristofarkas/Developer/BAC2/docs/examples/gromacs_fe/MeOH_H2O_3544\\nCommand line:\\n  gmx grompp -f replica_0/lambda_1/em_bfgs.mdp -c replica_0/lambda_1/em_steep.gro -p /Users/kristofarkas/Developer/BAC2/docs/examples/gromacs_fe/input_files/topol.top -o replica_0/lambda_1/em_bfgs.tpr -po replica_0/lambda_1/em_bfgs_generated.mdp\\n\\n\\n-------------------------------------------------------\\nProgram:     gmx grompp, version 2016.3\\nSource file: src/gromacs/commandline/cmdlineparser.cpp (line 235)\\nFunction:    void gmx::CommandLineParser::parse(int *, char **)\\n\\nError in user input:\\nInvalid command-line options\\n  In command-line option -c\\n    File 'replica_0/lambda_1/em_steep.gro' does not exist or is not\\n    accessible.\\n    The file could not be opened.\\n      Reason: No such file or directory\\n      (call to fopen() returned error code 2)\\n\\nFor more information and tips for troubleshooting, please check the GROMACS\\nwebsite at http://www.gromacs.org/Documentation/Errors\\n-------------------------------------------------------\\n\"\n",
      "\n",
      "gmx grompp -f replica_0/lambda_1/nvt.mdp -c replica_0/lambda_1/em_bfgs.gro -p /Users/kristofarkas/Developer/BAC2/docs/examples/gromacs_fe/input_files/topol.top -o replica_0/lambda_1/nvt.tpr -po replica_0/lambda_1/nvt_generated.mdp \n",
      "b''\n",
      "b\"                      :-) GROMACS - gmx grompp, 2016.3 (-:\\n\\n                            GROMACS is written by:\\n     Emile Apol      Rossen Apostolov  Herman J.C. Berendsen    Par Bjelkmar   \\n Aldert van Buuren   Rudi van Drunen     Anton Feenstra    Gerrit Groenhof  \\n Christoph Junghans   Anca Hamuraru    Vincent Hindriksen Dimitrios Karkoulis\\n    Peter Kasson        Jiri Kraus      Carsten Kutzner      Per Larsson    \\n  Justin A. Lemkul   Magnus Lundborg   Pieter Meulenhoff    Erik Marklund   \\n   Teemu Murtola       Szilard Pall       Sander Pronk      Roland Schulz   \\n  Alexey Shvetsov     Michael Shirts     Alfons Sijbers     Peter Tieleman  \\n  Teemu Virolainen  Christian Wennberg    Maarten Wolf   \\n                           and the project leaders:\\n        Mark Abraham, Berk Hess, Erik Lindahl, and David van der Spoel\\n\\nCopyright (c) 1991-2000, University of Groningen, The Netherlands.\\nCopyright (c) 2001-2017, The GROMACS development team at\\nUppsala University, Stockholm University and\\nthe Royal Institute of Technology, Sweden.\\ncheck out http://www.gromacs.org for more information.\\n\\nGROMACS is free software; you can redistribute it and/or modify it\\nunder the terms of the GNU Lesser General Public License\\nas published by the Free Software Foundation; either version 2.1\\nof the License, or (at your option) any later version.\\n\\nGROMACS:      gmx grompp, version 2016.3\\nExecutable:   /usr/local/gromacs/bin/gmx\\nData prefix:  /usr/local/gromacs\\nWorking dir:  /Users/kristofarkas/Developer/BAC2/docs/examples/gromacs_fe/MeOH_H2O_3544\\nCommand line:\\n  gmx grompp -f replica_0/lambda_1/nvt.mdp -c replica_0/lambda_1/em_bfgs.gro -p /Users/kristofarkas/Developer/BAC2/docs/examples/gromacs_fe/input_files/topol.top -o replica_0/lambda_1/nvt.tpr -po replica_0/lambda_1/nvt_generated.mdp\\n\\n\\n-------------------------------------------------------\\nProgram:     gmx grompp, version 2016.3\\nSource file: src/gromacs/commandline/cmdlineparser.cpp (line 235)\\nFunction:    void gmx::CommandLineParser::parse(int *, char **)\\n\\nError in user input:\\nInvalid command-line options\\n  In command-line option -c\\n    File 'replica_0/lambda_1/em_bfgs.gro' does not exist or is not accessible.\\n    The file could not be opened.\\n      Reason: No such file or directory\\n      (call to fopen() returned error code 2)\\n\\nFor more information and tips for troubleshooting, please check the GROMACS\\nwebsite at http://www.gromacs.org/Documentation/Errors\\n-------------------------------------------------------\\n\"\n",
      "\n"
     ]
    },
    {
     "name": "stdout",
     "output_type": "stream",
     "text": [
      "gmx grompp -f replica_1/lambda_0/em_steep.mdp -c /Users/kristofarkas/Developer/BAC2/docs/examples/gromacs_fe/input_files/methane_water.gro -p /Users/kristofarkas/Developer/BAC2/docs/examples/gromacs_fe/input_files/topol.top -o replica_1/lambda_0/em_steep.tpr -po replica_1/lambda_0/em_steep_generated.mdp \n",
      "b'Analysing residue names:\\nThere are:     1      Other residues\\nThere are:   596      Water residues\\nAnalysing residues not classified as Protein/DNA/RNA/Water and splitting into groups...\\nThis run will generate roughly 0 Mb of data\\n'\n",
      "b'                      :-) GROMACS - gmx grompp, 2016.3 (-:\\n\\n                            GROMACS is written by:\\n     Emile Apol      Rossen Apostolov  Herman J.C. Berendsen    Par Bjelkmar   \\n Aldert van Buuren   Rudi van Drunen     Anton Feenstra    Gerrit Groenhof  \\n Christoph Junghans   Anca Hamuraru    Vincent Hindriksen Dimitrios Karkoulis\\n    Peter Kasson        Jiri Kraus      Carsten Kutzner      Per Larsson    \\n  Justin A. Lemkul   Magnus Lundborg   Pieter Meulenhoff    Erik Marklund   \\n   Teemu Murtola       Szilard Pall       Sander Pronk      Roland Schulz   \\n  Alexey Shvetsov     Michael Shirts     Alfons Sijbers     Peter Tieleman  \\n  Teemu Virolainen  Christian Wennberg    Maarten Wolf   \\n                           and the project leaders:\\n        Mark Abraham, Berk Hess, Erik Lindahl, and David van der Spoel\\n\\nCopyright (c) 1991-2000, University of Groningen, The Netherlands.\\nCopyright (c) 2001-2017, The GROMACS development team at\\nUppsala University, Stockholm University and\\nthe Royal Institute of Technology, Sweden.\\ncheck out http://www.gromacs.org for more information.\\n\\nGROMACS is free software; you can redistribute it and/or modify it\\nunder the terms of the GNU Lesser General Public License\\nas published by the Free Software Foundation; either version 2.1\\nof the License, or (at your option) any later version.\\n\\nGROMACS:      gmx grompp, version 2016.3\\nExecutable:   /usr/local/gromacs/bin/gmx\\nData prefix:  /usr/local/gromacs\\nWorking dir:  /Users/kristofarkas/Developer/BAC2/docs/examples/gromacs_fe/MeOH_H2O_3544\\nCommand line:\\n  gmx grompp -f replica_1/lambda_0/em_steep.mdp -c /Users/kristofarkas/Developer/BAC2/docs/examples/gromacs_fe/input_files/methane_water.gro -p /Users/kristofarkas/Developer/BAC2/docs/examples/gromacs_fe/input_files/topol.top -o replica_1/lambda_0/em_steep.tpr -po replica_1/lambda_0/em_steep_generated.mdp\\n\\n\\nNOTE 1 [file replica_1/lambda_0/em_steep.mdp, line 86]:\\n  replica_1/lambda_0/em_steep.mdp did not specify a value for the .mdp\\n  option \"cutoff-scheme\". Probably it was first intended for use with\\n  GROMACS before 4.6. In 4.6, the Verlet scheme was introduced, but the\\n  group scheme was still the default. The default is now the Verlet scheme,\\n  so you will observe different behaviour.\\n\\n\\nNOTE 2 [file replica_1/lambda_0/em_steep.mdp]:\\n  For a correct single-point energy evaluation with nsteps = 0, use\\n  continuation = yes to avoid constraining the input coordinates.\\n\\nSetting the LD random seed to -1073430440\\nGenerated 330891 of the 330891 non-bonded parameter combinations\\nGenerating 1-4 interactions: fudge = 0.5\\nGenerated 330891 of the 330891 1-4 parameter combinations\\nExcluding 3 bonded neighbours molecule type \\'Methane\\'\\nExcluding 2 bonded neighbours molecule type \\'SOL\\'\\nRemoving all charge groups because cutoff-scheme=Verlet\\nNumber of degrees of freedom in T-Coupling group rest is 3588.00\\n\\nNOTE 3 [file replica_1/lambda_0/em_steep.mdp]:\\n  NVE simulation with an initial temperature of zero: will use a Verlet\\n  buffer of 10%. Check your energy drift!\\n\\n\\nNOTE 4 [file replica_1/lambda_0/em_steep.mdp]:\\n  You are using a plain Coulomb cut-off, which might produce artifacts.\\n  You might want to consider using PME electrostatics.\\n\\n\\n\\nThere were 4 notes\\n\\nGROMACS reminds you: \"The Internet?  We are not interested in it.\" (Bill Gates, 1993)\\n\\n'\n",
      "\n",
      "gmx grompp -f replica_1/lambda_0/em_bfgs.mdp -c replica_1/lambda_0/em_steep.gro -p /Users/kristofarkas/Developer/BAC2/docs/examples/gromacs_fe/input_files/topol.top -o replica_1/lambda_0/em_bfgs.tpr -po replica_1/lambda_0/em_bfgs_generated.mdp \n",
      "b''\n",
      "b\"                      :-) GROMACS - gmx grompp, 2016.3 (-:\\n\\n                            GROMACS is written by:\\n     Emile Apol      Rossen Apostolov  Herman J.C. Berendsen    Par Bjelkmar   \\n Aldert van Buuren   Rudi van Drunen     Anton Feenstra    Gerrit Groenhof  \\n Christoph Junghans   Anca Hamuraru    Vincent Hindriksen Dimitrios Karkoulis\\n    Peter Kasson        Jiri Kraus      Carsten Kutzner      Per Larsson    \\n  Justin A. Lemkul   Magnus Lundborg   Pieter Meulenhoff    Erik Marklund   \\n   Teemu Murtola       Szilard Pall       Sander Pronk      Roland Schulz   \\n  Alexey Shvetsov     Michael Shirts     Alfons Sijbers     Peter Tieleman  \\n  Teemu Virolainen  Christian Wennberg    Maarten Wolf   \\n                           and the project leaders:\\n        Mark Abraham, Berk Hess, Erik Lindahl, and David van der Spoel\\n\\nCopyright (c) 1991-2000, University of Groningen, The Netherlands.\\nCopyright (c) 2001-2017, The GROMACS development team at\\nUppsala University, Stockholm University and\\nthe Royal Institute of Technology, Sweden.\\ncheck out http://www.gromacs.org for more information.\\n\\nGROMACS is free software; you can redistribute it and/or modify it\\nunder the terms of the GNU Lesser General Public License\\nas published by the Free Software Foundation; either version 2.1\\nof the License, or (at your option) any later version.\\n\\nGROMACS:      gmx grompp, version 2016.3\\nExecutable:   /usr/local/gromacs/bin/gmx\\nData prefix:  /usr/local/gromacs\\nWorking dir:  /Users/kristofarkas/Developer/BAC2/docs/examples/gromacs_fe/MeOH_H2O_3544\\nCommand line:\\n  gmx grompp -f replica_1/lambda_0/em_bfgs.mdp -c replica_1/lambda_0/em_steep.gro -p /Users/kristofarkas/Developer/BAC2/docs/examples/gromacs_fe/input_files/topol.top -o replica_1/lambda_0/em_bfgs.tpr -po replica_1/lambda_0/em_bfgs_generated.mdp\\n\\n\\n-------------------------------------------------------\\nProgram:     gmx grompp, version 2016.3\\nSource file: src/gromacs/commandline/cmdlineparser.cpp (line 235)\\nFunction:    void gmx::CommandLineParser::parse(int *, char **)\\n\\nError in user input:\\nInvalid command-line options\\n  In command-line option -c\\n    File 'replica_1/lambda_0/em_steep.gro' does not exist or is not\\n    accessible.\\n    The file could not be opened.\\n      Reason: No such file or directory\\n      (call to fopen() returned error code 2)\\n\\nFor more information and tips for troubleshooting, please check the GROMACS\\nwebsite at http://www.gromacs.org/Documentation/Errors\\n-------------------------------------------------------\\n\"\n",
      "\n",
      "gmx grompp -f replica_1/lambda_0/nvt.mdp -c replica_1/lambda_0/em_bfgs.gro -p /Users/kristofarkas/Developer/BAC2/docs/examples/gromacs_fe/input_files/topol.top -o replica_1/lambda_0/nvt.tpr -po replica_1/lambda_0/nvt_generated.mdp \n",
      "b''\n",
      "b\"                      :-) GROMACS - gmx grompp, 2016.3 (-:\\n\\n                            GROMACS is written by:\\n     Emile Apol      Rossen Apostolov  Herman J.C. Berendsen    Par Bjelkmar   \\n Aldert van Buuren   Rudi van Drunen     Anton Feenstra    Gerrit Groenhof  \\n Christoph Junghans   Anca Hamuraru    Vincent Hindriksen Dimitrios Karkoulis\\n    Peter Kasson        Jiri Kraus      Carsten Kutzner      Per Larsson    \\n  Justin A. Lemkul   Magnus Lundborg   Pieter Meulenhoff    Erik Marklund   \\n   Teemu Murtola       Szilard Pall       Sander Pronk      Roland Schulz   \\n  Alexey Shvetsov     Michael Shirts     Alfons Sijbers     Peter Tieleman  \\n  Teemu Virolainen  Christian Wennberg    Maarten Wolf   \\n                           and the project leaders:\\n        Mark Abraham, Berk Hess, Erik Lindahl, and David van der Spoel\\n\\nCopyright (c) 1991-2000, University of Groningen, The Netherlands.\\nCopyright (c) 2001-2017, The GROMACS development team at\\nUppsala University, Stockholm University and\\nthe Royal Institute of Technology, Sweden.\\ncheck out http://www.gromacs.org for more information.\\n\\nGROMACS is free software; you can redistribute it and/or modify it\\nunder the terms of the GNU Lesser General Public License\\nas published by the Free Software Foundation; either version 2.1\\nof the License, or (at your option) any later version.\\n\\nGROMACS:      gmx grompp, version 2016.3\\nExecutable:   /usr/local/gromacs/bin/gmx\\nData prefix:  /usr/local/gromacs\\nWorking dir:  /Users/kristofarkas/Developer/BAC2/docs/examples/gromacs_fe/MeOH_H2O_3544\\nCommand line:\\n  gmx grompp -f replica_1/lambda_0/nvt.mdp -c replica_1/lambda_0/em_bfgs.gro -p /Users/kristofarkas/Developer/BAC2/docs/examples/gromacs_fe/input_files/topol.top -o replica_1/lambda_0/nvt.tpr -po replica_1/lambda_0/nvt_generated.mdp\\n\\n\\n-------------------------------------------------------\\nProgram:     gmx grompp, version 2016.3\\nSource file: src/gromacs/commandline/cmdlineparser.cpp (line 235)\\nFunction:    void gmx::CommandLineParser::parse(int *, char **)\\n\\nError in user input:\\nInvalid command-line options\\n  In command-line option -c\\n    File 'replica_1/lambda_0/em_bfgs.gro' does not exist or is not accessible.\\n    The file could not be opened.\\n      Reason: No such file or directory\\n      (call to fopen() returned error code 2)\\n\\nFor more information and tips for troubleshooting, please check the GROMACS\\nwebsite at http://www.gromacs.org/Documentation/Errors\\n-------------------------------------------------------\\n\"\n",
      "\n"
     ]
    },
    {
     "name": "stdout",
     "output_type": "stream",
     "text": [
      "gmx grompp -f replica_1/lambda_1/em_steep.mdp -c /Users/kristofarkas/Developer/BAC2/docs/examples/gromacs_fe/input_files/methane_water.gro -p /Users/kristofarkas/Developer/BAC2/docs/examples/gromacs_fe/input_files/topol.top -o replica_1/lambda_1/em_steep.tpr -po replica_1/lambda_1/em_steep_generated.mdp \n",
      "b'Analysing residue names:\\nThere are:     1      Other residues\\nThere are:   596      Water residues\\nAnalysing residues not classified as Protein/DNA/RNA/Water and splitting into groups...\\nThis run will generate roughly 0 Mb of data\\n'\n",
      "b'                      :-) GROMACS - gmx grompp, 2016.3 (-:\\n\\n                            GROMACS is written by:\\n     Emile Apol      Rossen Apostolov  Herman J.C. Berendsen    Par Bjelkmar   \\n Aldert van Buuren   Rudi van Drunen     Anton Feenstra    Gerrit Groenhof  \\n Christoph Junghans   Anca Hamuraru    Vincent Hindriksen Dimitrios Karkoulis\\n    Peter Kasson        Jiri Kraus      Carsten Kutzner      Per Larsson    \\n  Justin A. Lemkul   Magnus Lundborg   Pieter Meulenhoff    Erik Marklund   \\n   Teemu Murtola       Szilard Pall       Sander Pronk      Roland Schulz   \\n  Alexey Shvetsov     Michael Shirts     Alfons Sijbers     Peter Tieleman  \\n  Teemu Virolainen  Christian Wennberg    Maarten Wolf   \\n                           and the project leaders:\\n        Mark Abraham, Berk Hess, Erik Lindahl, and David van der Spoel\\n\\nCopyright (c) 1991-2000, University of Groningen, The Netherlands.\\nCopyright (c) 2001-2017, The GROMACS development team at\\nUppsala University, Stockholm University and\\nthe Royal Institute of Technology, Sweden.\\ncheck out http://www.gromacs.org for more information.\\n\\nGROMACS is free software; you can redistribute it and/or modify it\\nunder the terms of the GNU Lesser General Public License\\nas published by the Free Software Foundation; either version 2.1\\nof the License, or (at your option) any later version.\\n\\nGROMACS:      gmx grompp, version 2016.3\\nExecutable:   /usr/local/gromacs/bin/gmx\\nData prefix:  /usr/local/gromacs\\nWorking dir:  /Users/kristofarkas/Developer/BAC2/docs/examples/gromacs_fe/MeOH_H2O_3544\\nCommand line:\\n  gmx grompp -f replica_1/lambda_1/em_steep.mdp -c /Users/kristofarkas/Developer/BAC2/docs/examples/gromacs_fe/input_files/methane_water.gro -p /Users/kristofarkas/Developer/BAC2/docs/examples/gromacs_fe/input_files/topol.top -o replica_1/lambda_1/em_steep.tpr -po replica_1/lambda_1/em_steep_generated.mdp\\n\\n\\nNOTE 1 [file replica_1/lambda_1/em_steep.mdp, line 86]:\\n  replica_1/lambda_1/em_steep.mdp did not specify a value for the .mdp\\n  option \"cutoff-scheme\". Probably it was first intended for use with\\n  GROMACS before 4.6. In 4.6, the Verlet scheme was introduced, but the\\n  group scheme was still the default. The default is now the Verlet scheme,\\n  so you will observe different behaviour.\\n\\n\\nNOTE 2 [file replica_1/lambda_1/em_steep.mdp]:\\n  For a correct single-point energy evaluation with nsteps = 0, use\\n  continuation = yes to avoid constraining the input coordinates.\\n\\nSetting the LD random seed to -63939354\\nGenerated 330891 of the 330891 non-bonded parameter combinations\\nGenerating 1-4 interactions: fudge = 0.5\\nGenerated 330891 of the 330891 1-4 parameter combinations\\nExcluding 3 bonded neighbours molecule type \\'Methane\\'\\nExcluding 2 bonded neighbours molecule type \\'SOL\\'\\nRemoving all charge groups because cutoff-scheme=Verlet\\nNumber of degrees of freedom in T-Coupling group rest is 3588.00\\n\\nNOTE 3 [file replica_1/lambda_1/em_steep.mdp]:\\n  NVE simulation with an initial temperature of zero: will use a Verlet\\n  buffer of 10%. Check your energy drift!\\n\\n\\nNOTE 4 [file replica_1/lambda_1/em_steep.mdp]:\\n  You are using a plain Coulomb cut-off, which might produce artifacts.\\n  You might want to consider using PME electrostatics.\\n\\n\\n\\nThere were 4 notes\\n\\nGROMACS reminds you: \"Take Dehydrated Water On Your Desert Trips\" (Space Quest III)\\n\\n'\n",
      "\n",
      "gmx grompp -f replica_1/lambda_1/em_bfgs.mdp -c replica_1/lambda_1/em_steep.gro -p /Users/kristofarkas/Developer/BAC2/docs/examples/gromacs_fe/input_files/topol.top -o replica_1/lambda_1/em_bfgs.tpr -po replica_1/lambda_1/em_bfgs_generated.mdp \n",
      "b''\n",
      "b\"                      :-) GROMACS - gmx grompp, 2016.3 (-:\\n\\n                            GROMACS is written by:\\n     Emile Apol      Rossen Apostolov  Herman J.C. Berendsen    Par Bjelkmar   \\n Aldert van Buuren   Rudi van Drunen     Anton Feenstra    Gerrit Groenhof  \\n Christoph Junghans   Anca Hamuraru    Vincent Hindriksen Dimitrios Karkoulis\\n    Peter Kasson        Jiri Kraus      Carsten Kutzner      Per Larsson    \\n  Justin A. Lemkul   Magnus Lundborg   Pieter Meulenhoff    Erik Marklund   \\n   Teemu Murtola       Szilard Pall       Sander Pronk      Roland Schulz   \\n  Alexey Shvetsov     Michael Shirts     Alfons Sijbers     Peter Tieleman  \\n  Teemu Virolainen  Christian Wennberg    Maarten Wolf   \\n                           and the project leaders:\\n        Mark Abraham, Berk Hess, Erik Lindahl, and David van der Spoel\\n\\nCopyright (c) 1991-2000, University of Groningen, The Netherlands.\\nCopyright (c) 2001-2017, The GROMACS development team at\\nUppsala University, Stockholm University and\\nthe Royal Institute of Technology, Sweden.\\ncheck out http://www.gromacs.org for more information.\\n\\nGROMACS is free software; you can redistribute it and/or modify it\\nunder the terms of the GNU Lesser General Public License\\nas published by the Free Software Foundation; either version 2.1\\nof the License, or (at your option) any later version.\\n\\nGROMACS:      gmx grompp, version 2016.3\\nExecutable:   /usr/local/gromacs/bin/gmx\\nData prefix:  /usr/local/gromacs\\nWorking dir:  /Users/kristofarkas/Developer/BAC2/docs/examples/gromacs_fe/MeOH_H2O_3544\\nCommand line:\\n  gmx grompp -f replica_1/lambda_1/em_bfgs.mdp -c replica_1/lambda_1/em_steep.gro -p /Users/kristofarkas/Developer/BAC2/docs/examples/gromacs_fe/input_files/topol.top -o replica_1/lambda_1/em_bfgs.tpr -po replica_1/lambda_1/em_bfgs_generated.mdp\\n\\n\\n-------------------------------------------------------\\nProgram:     gmx grompp, version 2016.3\\nSource file: src/gromacs/commandline/cmdlineparser.cpp (line 235)\\nFunction:    void gmx::CommandLineParser::parse(int *, char **)\\n\\nError in user input:\\nInvalid command-line options\\n  In command-line option -c\\n    File 'replica_1/lambda_1/em_steep.gro' does not exist or is not\\n    accessible.\\n    The file could not be opened.\\n      Reason: No such file or directory\\n      (call to fopen() returned error code 2)\\n\\nFor more information and tips for troubleshooting, please check the GROMACS\\nwebsite at http://www.gromacs.org/Documentation/Errors\\n-------------------------------------------------------\\n\"\n",
      "\n",
      "gmx grompp -f replica_1/lambda_1/nvt.mdp -c replica_1/lambda_1/em_bfgs.gro -p /Users/kristofarkas/Developer/BAC2/docs/examples/gromacs_fe/input_files/topol.top -o replica_1/lambda_1/nvt.tpr -po replica_1/lambda_1/nvt_generated.mdp \n",
      "b''\n",
      "b\"                      :-) GROMACS - gmx grompp, 2016.3 (-:\\n\\n                            GROMACS is written by:\\n     Emile Apol      Rossen Apostolov  Herman J.C. Berendsen    Par Bjelkmar   \\n Aldert van Buuren   Rudi van Drunen     Anton Feenstra    Gerrit Groenhof  \\n Christoph Junghans   Anca Hamuraru    Vincent Hindriksen Dimitrios Karkoulis\\n    Peter Kasson        Jiri Kraus      Carsten Kutzner      Per Larsson    \\n  Justin A. Lemkul   Magnus Lundborg   Pieter Meulenhoff    Erik Marklund   \\n   Teemu Murtola       Szilard Pall       Sander Pronk      Roland Schulz   \\n  Alexey Shvetsov     Michael Shirts     Alfons Sijbers     Peter Tieleman  \\n  Teemu Virolainen  Christian Wennberg    Maarten Wolf   \\n                           and the project leaders:\\n        Mark Abraham, Berk Hess, Erik Lindahl, and David van der Spoel\\n\\nCopyright (c) 1991-2000, University of Groningen, The Netherlands.\\nCopyright (c) 2001-2017, The GROMACS development team at\\nUppsala University, Stockholm University and\\nthe Royal Institute of Technology, Sweden.\\ncheck out http://www.gromacs.org for more information.\\n\\nGROMACS is free software; you can redistribute it and/or modify it\\nunder the terms of the GNU Lesser General Public License\\nas published by the Free Software Foundation; either version 2.1\\nof the License, or (at your option) any later version.\\n\\nGROMACS:      gmx grompp, version 2016.3\\nExecutable:   /usr/local/gromacs/bin/gmx\\nData prefix:  /usr/local/gromacs\\nWorking dir:  /Users/kristofarkas/Developer/BAC2/docs/examples/gromacs_fe/MeOH_H2O_3544\\nCommand line:\\n  gmx grompp -f replica_1/lambda_1/nvt.mdp -c replica_1/lambda_1/em_bfgs.gro -p /Users/kristofarkas/Developer/BAC2/docs/examples/gromacs_fe/input_files/topol.top -o replica_1/lambda_1/nvt.tpr -po replica_1/lambda_1/nvt_generated.mdp\\n\\n\\n-------------------------------------------------------\\nProgram:     gmx grompp, version 2016.3\\nSource file: src/gromacs/commandline/cmdlineparser.cpp (line 235)\\nFunction:    void gmx::CommandLineParser::parse(int *, char **)\\n\\nError in user input:\\nInvalid command-line options\\n  In command-line option -c\\n    File 'replica_1/lambda_1/em_bfgs.gro' does not exist or is not accessible.\\n    The file could not be opened.\\n      Reason: No such file or directory\\n      (call to fopen() returned error code 2)\\n\\nFor more information and tips for troubleshooting, please check the GROMACS\\nwebsite at http://www.gromacs.org/Documentation/Errors\\n-------------------------------------------------------\\n\"\n",
      "\n"
     ]
    }
   ],
   "source": [
    "wf.preprocess_simulations()"
   ]
  }
 ],
 "metadata": {
  "kernelspec": {
   "display_name": "Python 3",
   "language": "python",
   "name": "python3"
  },
  "language_info": {
   "codemirror_mode": {
    "name": "ipython",
    "version": 3
   },
   "file_extension": ".py",
   "mimetype": "text/x-python",
   "name": "python",
   "nbconvert_exporter": "python",
   "pygments_lexer": "ipython3",
   "version": "3.6.0"
  }
 },
 "nbformat": 4,
 "nbformat_minor": 1
}
